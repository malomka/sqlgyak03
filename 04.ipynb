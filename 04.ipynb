{
    "metadata": {
        "kernelspec": {
            "name": "SQL",
            "display_name": "SQL",
            "language": "sql"
        },
        "language_info": {
            "name": "sql",
            "version": ""
        }
    },
    "nbformat_minor": 2,
    "nbformat": 4,
    "cells": [
        {
            "cell_type": "markdown",
            "source": [
                "1. <span style=\"background-color: rgb(255, 255, 255); color: rgb(0, 0, 0); font-family: &quot;Open Sans&quot;, sans-serif; font-size: 14.44px;\">Készítsünk listát arról, hogy ügyfelenként (LOGIN), azon belül szállítási módonként hány megrendelés történt!&nbsp;</span> \n",
                "\n",
                "a. A lista tartalmazza a részösszegeket és a végösszeget is!  \n",
                "b. Használjuk a ROLLUP záradékot!"
            ],
            "metadata": {
                "azdata_cell_guid": "363cd270-6577-449b-9c89-d4b7c7972d52"
            },
            "attachments": {}
        },
        {
            "cell_type": "code",
            "source": [
                "SELECT [LOGIN], iif(GROUPING_ID(SZALL_MOD)=1, 'összeg', cast(SZALL_MOD as NVARCHAR(7))), COUNT(*) as 'rendelesek'\r\n",
                "FROM Rendeles\r\n",
                "GROUP BY ROLLUP([LOGIN], SZALL_MOD)"
            ],
            "metadata": {
                "azdata_cell_guid": "6ab9f633-a3b5-48c9-a1dc-4fb8235ae85b",
                "language": "sql"
            },
            "outputs": [
                {
                    "output_type": "display_data",
                    "data": {
                        "text/html": "(763 rows affected)"
                    },
                    "metadata": {}
                },
                {
                    "output_type": "display_data",
                    "data": {
                        "text/html": "Total execution time: 00:00:00.090"
                    },
                    "metadata": {}
                },
                {
                    "output_type": "execute_result",
                    "metadata": {},
                    "execution_count": 8,
                    "data": {
                        "application/vnd.dataresource+json": {
                            "schema": {
                                "fields": [
                                    {
                                        "name": "LOGIN"
                                    },
                                    {
                                        "name": "(No column name)"
                                    },
                                    {
                                        "name": "rendelesek"
                                    }
                                ]
                            },
                            "data": [
                                {
                                    "LOGIN": "adam1",
                                    "(No column name)": "GLS",
                                    "rendelesek": "129"
                                },
                                {
                                    "LOGIN": "adam1",
                                    "(No column name)": "Posta",
                                    "rendelesek": "132"
                                },
                                {
                                    "LOGIN": "adam1",
                                    "(No column name)": "Személy",
                                    "rendelesek": "131"
                                },
                                {
                                    "LOGIN": "adam1",
                                    "(No column name)": "részösszeg",
                                    "rendelesek": "392"
                                },
                                {
                                    "LOGIN": "adam3",
                                    "(No column name)": "GLS",
                                    "rendelesek": "10"
                                },
                                {
                                    "LOGIN": "adam3",
                                    "(No column name)": "Posta",
                                    "rendelesek": "3"
                                },
                                {
                                    "LOGIN": "adam3",
                                    "(No column name)": "Személy",
                                    "rendelesek": "2"
                                },
                                {
                                    "LOGIN": "adam3",
                                    "(No column name)": "részösszeg",
                                    "rendelesek": "15"
                                },
                                {
                                    "LOGIN": "adam4",
                                    "(No column name)": "GLS",
                                    "rendelesek": "12"
                                },
                                {
                                    "LOGIN": "adam4",
                                    "(No column name)": "Posta",
                                    "rendelesek": "6"
                                },
                                {
                                    "LOGIN": "adam4",
                                    "(No column name)": "Személy",
                                    "rendelesek": "11"
                                },
                                {
                                    "LOGIN": "adam4",
                                    "(No column name)": "részösszeg",
                                    "rendelesek": "29"
                                },
                                {
                                    "LOGIN": "agnes",
                                    "(No column name)": "GLS",
                                    "rendelesek": "144"
                                },
                                {
                                    "LOGIN": "agnes",
                                    "(No column name)": "Posta",
                                    "rendelesek": "130"
                                },
                                {
                                    "LOGIN": "agnes",
                                    "(No column name)": "Személy",
                                    "rendelesek": "144"
                                },
                                {
                                    "LOGIN": "agnes",
                                    "(No column name)": "részösszeg",
                                    "rendelesek": "418"
                                },
                                {
                                    "LOGIN": "agnes3",
                                    "(No column name)": "GLS",
                                    "rendelesek": "148"
                                },
                                {
                                    "LOGIN": "agnes3",
                                    "(No column name)": "Posta",
                                    "rendelesek": "146"
                                },
                                {
                                    "LOGIN": "agnes3",
                                    "(No column name)": "Személy",
                                    "rendelesek": "136"
                                },
                                {
                                    "LOGIN": "agnes3",
                                    "(No column name)": "részösszeg",
                                    "rendelesek": "430"
                                },
                                {
                                    "LOGIN": "AGNESH",
                                    "(No column name)": "GLS",
                                    "rendelesek": "2"
                                },
                                {
                                    "LOGIN": "AGNESH",
                                    "(No column name)": "Posta",
                                    "rendelesek": "3"
                                },
                                {
                                    "LOGIN": "AGNESH",
                                    "(No column name)": "Személy",
                                    "rendelesek": "6"
                                },
                                {
                                    "LOGIN": "AGNESH",
                                    "(No column name)": "részösszeg",
                                    "rendelesek": "11"
                                },
                                {
                                    "LOGIN": "AGNESK",
                                    "(No column name)": "GLS",
                                    "rendelesek": "1"
                                },
                                {
                                    "LOGIN": "AGNESK",
                                    "(No column name)": "Posta",
                                    "rendelesek": "7"
                                },
                                {
                                    "LOGIN": "AGNESK",
                                    "(No column name)": "Személy",
                                    "rendelesek": "7"
                                },
                                {
                                    "LOGIN": "AGNESK",
                                    "(No column name)": "részösszeg",
                                    "rendelesek": "15"
                                },
                                {
                                    "LOGIN": "akos",
                                    "(No column name)": "GLS",
                                    "rendelesek": "146"
                                },
                                {
                                    "LOGIN": "akos",
                                    "(No column name)": "Posta",
                                    "rendelesek": "143"
                                },
                                {
                                    "LOGIN": "akos",
                                    "(No column name)": "Személy",
                                    "rendelesek": "140"
                                },
                                {
                                    "LOGIN": "akos",
                                    "(No column name)": "részösszeg",
                                    "rendelesek": "429"
                                },
                                {
                                    "LOGIN": "aladar",
                                    "(No column name)": "GLS",
                                    "rendelesek": "156"
                                },
                                {
                                    "LOGIN": "aladar",
                                    "(No column name)": "Posta",
                                    "rendelesek": "134"
                                },
                                {
                                    "LOGIN": "aladar",
                                    "(No column name)": "Személy",
                                    "rendelesek": "118"
                                },
                                {
                                    "LOGIN": "aladar",
                                    "(No column name)": "részösszeg",
                                    "rendelesek": "408"
                                },
                                {
                                    "LOGIN": "alexandra",
                                    "(No column name)": "GLS",
                                    "rendelesek": "5"
                                },
                                {
                                    "LOGIN": "alexandra",
                                    "(No column name)": "Posta",
                                    "rendelesek": "9"
                                },
                                {
                                    "LOGIN": "alexandra",
                                    "(No column name)": "Személy",
                                    "rendelesek": "5"
                                },
                                {
                                    "LOGIN": "alexandra",
                                    "(No column name)": "részösszeg",
                                    "rendelesek": "19"
                                },
                                {
                                    "LOGIN": "andi",
                                    "(No column name)": "GLS",
                                    "rendelesek": "7"
                                },
                                {
                                    "LOGIN": "andi",
                                    "(No column name)": "Posta",
                                    "rendelesek": "4"
                                },
                                {
                                    "LOGIN": "andi",
                                    "(No column name)": "Személy",
                                    "rendelesek": "7"
                                },
                                {
                                    "LOGIN": "andi",
                                    "(No column name)": "részösszeg",
                                    "rendelesek": "18"
                                },
                                {
                                    "LOGIN": "andras2",
                                    "(No column name)": "GLS",
                                    "rendelesek": "4"
                                },
                                {
                                    "LOGIN": "andras2",
                                    "(No column name)": "Posta",
                                    "rendelesek": "7"
                                },
                                {
                                    "LOGIN": "andras2",
                                    "(No column name)": "Személy",
                                    "rendelesek": "11"
                                },
                                {
                                    "LOGIN": "andras2",
                                    "(No column name)": "részösszeg",
                                    "rendelesek": "22"
                                },
                                {
                                    "LOGIN": "andras21",
                                    "(No column name)": "GLS",
                                    "rendelesek": "140"
                                },
                                {
                                    "LOGIN": "andras21",
                                    "(No column name)": "Posta",
                                    "rendelesek": "124"
                                },
                                {
                                    "LOGIN": "andras21",
                                    "(No column name)": "Személy",
                                    "rendelesek": "126"
                                },
                                {
                                    "LOGIN": "andras21",
                                    "(No column name)": "részösszeg",
                                    "rendelesek": "390"
                                },
                                {
                                    "LOGIN": "andras3",
                                    "(No column name)": "GLS",
                                    "rendelesek": "3"
                                },
                                {
                                    "LOGIN": "andras3",
                                    "(No column name)": "Posta",
                                    "rendelesek": "1"
                                },
                                {
                                    "LOGIN": "andras3",
                                    "(No column name)": "Személy",
                                    "rendelesek": "5"
                                },
                                {
                                    "LOGIN": "andras3",
                                    "(No column name)": "részösszeg",
                                    "rendelesek": "9"
                                },
                                {
                                    "LOGIN": "andras4",
                                    "(No column name)": "GLS",
                                    "rendelesek": "4"
                                },
                                {
                                    "LOGIN": "andras4",
                                    "(No column name)": "Posta",
                                    "rendelesek": "4"
                                },
                                {
                                    "LOGIN": "andras4",
                                    "(No column name)": "Személy",
                                    "rendelesek": "4"
                                },
                                {
                                    "LOGIN": "andras4",
                                    "(No column name)": "részösszeg",
                                    "rendelesek": "12"
                                },
                                {
                                    "LOGIN": "andras41",
                                    "(No column name)": "GLS",
                                    "rendelesek": "149"
                                },
                                {
                                    "LOGIN": "andras41",
                                    "(No column name)": "Posta",
                                    "rendelesek": "137"
                                },
                                {
                                    "LOGIN": "andras41",
                                    "(No column name)": "Személy",
                                    "rendelesek": "133"
                                },
                                {
                                    "LOGIN": "andras41",
                                    "(No column name)": "részösszeg",
                                    "rendelesek": "419"
                                },
                                {
                                    "LOGIN": "ANDRASE",
                                    "(No column name)": "GLS",
                                    "rendelesek": "159"
                                },
                                {
                                    "LOGIN": "ANDRASE",
                                    "(No column name)": "Posta",
                                    "rendelesek": "141"
                                },
                                {
                                    "LOGIN": "ANDRASE",
                                    "(No column name)": "Személy",
                                    "rendelesek": "136"
                                },
                                {
                                    "LOGIN": "ANDRASE",
                                    "(No column name)": "részösszeg",
                                    "rendelesek": "436"
                                },
                                {
                                    "LOGIN": "ANDRASN",
                                    "(No column name)": "GLS",
                                    "rendelesek": "10"
                                },
                                {
                                    "LOGIN": "ANDRASN",
                                    "(No column name)": "Posta",
                                    "rendelesek": "9"
                                },
                                {
                                    "LOGIN": "ANDRASN",
                                    "(No column name)": "Személy",
                                    "rendelesek": "5"
                                },
                                {
                                    "LOGIN": "ANDRASN",
                                    "(No column name)": "részösszeg",
                                    "rendelesek": "24"
                                },
                                {
                                    "LOGIN": "andrea",
                                    "(No column name)": "GLS",
                                    "rendelesek": "12"
                                },
                                {
                                    "LOGIN": "andrea",
                                    "(No column name)": "Posta",
                                    "rendelesek": "4"
                                },
                                {
                                    "LOGIN": "andrea",
                                    "(No column name)": "Személy",
                                    "rendelesek": "8"
                                },
                                {
                                    "LOGIN": "andrea",
                                    "(No column name)": "részösszeg",
                                    "rendelesek": "24"
                                },
                                {
                                    "LOGIN": "andrea3",
                                    "(No column name)": "GLS",
                                    "rendelesek": "131"
                                },
                                {
                                    "LOGIN": "andrea3",
                                    "(No column name)": "Posta",
                                    "rendelesek": "136"
                                },
                                {
                                    "LOGIN": "andrea3",
                                    "(No column name)": "Személy",
                                    "rendelesek": "146"
                                },
                                {
                                    "LOGIN": "andrea3",
                                    "(No column name)": "részösszeg",
                                    "rendelesek": "413"
                                },
                                {
                                    "LOGIN": "andrea4",
                                    "(No column name)": "GLS",
                                    "rendelesek": "7"
                                },
                                {
                                    "LOGIN": "andrea4",
                                    "(No column name)": "Posta",
                                    "rendelesek": "4"
                                },
                                {
                                    "LOGIN": "andrea4",
                                    "(No column name)": "Személy",
                                    "rendelesek": "7"
                                },
                                {
                                    "LOGIN": "andrea4",
                                    "(No column name)": "részösszeg",
                                    "rendelesek": "18"
                                },
                                {
                                    "LOGIN": "ANDREAT",
                                    "(No column name)": "GLS",
                                    "rendelesek": "3"
                                },
                                {
                                    "LOGIN": "ANDREAT",
                                    "(No column name)": "Posta",
                                    "rendelesek": "6"
                                },
                                {
                                    "LOGIN": "ANDREAT",
                                    "(No column name)": "Személy",
                                    "rendelesek": "12"
                                },
                                {
                                    "LOGIN": "ANDREAT",
                                    "(No column name)": "részösszeg",
                                    "rendelesek": "21"
                                },
                                {
                                    "LOGIN": "anett3",
                                    "(No column name)": "GLS",
                                    "rendelesek": "3"
                                },
                                {
                                    "LOGIN": "anett3",
                                    "(No column name)": "Posta",
                                    "rendelesek": "6"
                                },
                                {
                                    "LOGIN": "anett3",
                                    "(No column name)": "Személy",
                                    "rendelesek": "9"
                                },
                                {
                                    "LOGIN": "anett3",
                                    "(No column name)": "részösszeg",
                                    "rendelesek": "18"
                                },
                                {
                                    "LOGIN": "aniko",
                                    "(No column name)": "GLS",
                                    "rendelesek": "128"
                                },
                                {
                                    "LOGIN": "aniko",
                                    "(No column name)": "Posta",
                                    "rendelesek": "137"
                                },
                                {
                                    "LOGIN": "aniko",
                                    "(No column name)": "Személy",
                                    "rendelesek": "138"
                                },
                                {
                                    "LOGIN": "aniko",
                                    "(No column name)": "részösszeg",
                                    "rendelesek": "403"
                                },
                                {
                                    "LOGIN": "aniko4",
                                    "(No column name)": "GLS",
                                    "rendelesek": "6"
                                },
                                {
                                    "LOGIN": "aniko4",
                                    "(No column name)": "Posta",
                                    "rendelesek": "6"
                                },
                                {
                                    "LOGIN": "aniko4",
                                    "(No column name)": "Személy",
                                    "rendelesek": "3"
                                },
                                {
                                    "LOGIN": "aniko4",
                                    "(No column name)": "részösszeg",
                                    "rendelesek": "15"
                                },
                                {
                                    "LOGIN": "ANIKOS",
                                    "(No column name)": "GLS",
                                    "rendelesek": "128"
                                },
                                {
                                    "LOGIN": "ANIKOS",
                                    "(No column name)": "Posta",
                                    "rendelesek": "126"
                                },
                                {
                                    "LOGIN": "ANIKOS",
                                    "(No column name)": "Személy",
                                    "rendelesek": "150"
                                },
                                {
                                    "LOGIN": "ANIKOS",
                                    "(No column name)": "részösszeg",
                                    "rendelesek": "404"
                                },
                                {
                                    "LOGIN": "anita",
                                    "(No column name)": "GLS",
                                    "rendelesek": "5"
                                },
                                {
                                    "LOGIN": "anita",
                                    "(No column name)": "Posta",
                                    "rendelesek": "2"
                                },
                                {
                                    "LOGIN": "anita",
                                    "(No column name)": "Személy",
                                    "rendelesek": "5"
                                },
                                {
                                    "LOGIN": "anita",
                                    "(No column name)": "részösszeg",
                                    "rendelesek": "12"
                                },
                                {
                                    "LOGIN": "annamaria1",
                                    "(No column name)": "GLS",
                                    "rendelesek": "5"
                                },
                                {
                                    "LOGIN": "annamaria1",
                                    "(No column name)": "Posta",
                                    "rendelesek": "4"
                                },
                                {
                                    "LOGIN": "annamaria1",
                                    "(No column name)": "Személy",
                                    "rendelesek": "7"
                                },
                                {
                                    "LOGIN": "annamaria1",
                                    "(No column name)": "részösszeg",
                                    "rendelesek": "16"
                                },
                                {
                                    "LOGIN": "ANNAMARIAR",
                                    "(No column name)": "GLS",
                                    "rendelesek": "8"
                                },
                                {
                                    "LOGIN": "ANNAMARIAR",
                                    "(No column name)": "Posta",
                                    "rendelesek": "2"
                                },
                                {
                                    "LOGIN": "ANNAMARIAR",
                                    "(No column name)": "Személy",
                                    "rendelesek": "3"
                                },
                                {
                                    "LOGIN": "ANNAMARIAR",
                                    "(No column name)": "részösszeg",
                                    "rendelesek": "13"
                                },
                                {
                                    "LOGIN": "aron2",
                                    "(No column name)": "GLS",
                                    "rendelesek": "132"
                                },
                                {
                                    "LOGIN": "aron2",
                                    "(No column name)": "Posta",
                                    "rendelesek": "133"
                                },
                                {
                                    "LOGIN": "aron2",
                                    "(No column name)": "Személy",
                                    "rendelesek": "144"
                                },
                                {
                                    "LOGIN": "aron2",
                                    "(No column name)": "részösszeg",
                                    "rendelesek": "409"
                                },
                                {
                                    "LOGIN": "ARONK",
                                    "(No column name)": "GLS",
                                    "rendelesek": "155"
                                },
                                {
                                    "LOGIN": "ARONK",
                                    "(No column name)": "Posta",
                                    "rendelesek": "120"
                                },
                                {
                                    "LOGIN": "ARONK",
                                    "(No column name)": "Személy",
                                    "rendelesek": "155"
                                },
                                {
                                    "LOGIN": "ARONK",
                                    "(No column name)": "részösszeg",
                                    "rendelesek": "430"
                                },
                                {
                                    "LOGIN": "arpad2",
                                    "(No column name)": "GLS",
                                    "rendelesek": "6"
                                },
                                {
                                    "LOGIN": "arpad2",
                                    "(No column name)": "Posta",
                                    "rendelesek": "1"
                                },
                                {
                                    "LOGIN": "arpad2",
                                    "(No column name)": "Személy",
                                    "rendelesek": "10"
                                },
                                {
                                    "LOGIN": "arpad2",
                                    "(No column name)": "részösszeg",
                                    "rendelesek": "17"
                                },
                                {
                                    "LOGIN": "ARPADH",
                                    "(No column name)": "GLS",
                                    "rendelesek": "6"
                                },
                                {
                                    "LOGIN": "ARPADH",
                                    "(No column name)": "Posta",
                                    "rendelesek": "3"
                                },
                                {
                                    "LOGIN": "ARPADH",
                                    "(No column name)": "Személy",
                                    "rendelesek": "5"
                                },
                                {
                                    "LOGIN": "ARPADH",
                                    "(No column name)": "részösszeg",
                                    "rendelesek": "14"
                                },
                                {
                                    "LOGIN": "ARPADM",
                                    "(No column name)": "GLS",
                                    "rendelesek": "6"
                                },
                                {
                                    "LOGIN": "ARPADM",
                                    "(No column name)": "Posta",
                                    "rendelesek": "3"
                                },
                                {
                                    "LOGIN": "ARPADM",
                                    "(No column name)": "Személy",
                                    "rendelesek": "7"
                                },
                                {
                                    "LOGIN": "ARPADM",
                                    "(No column name)": "részösszeg",
                                    "rendelesek": "16"
                                },
                                {
                                    "LOGIN": "attila1",
                                    "(No column name)": "GLS",
                                    "rendelesek": "5"
                                },
                                {
                                    "LOGIN": "attila1",
                                    "(No column name)": "Posta",
                                    "rendelesek": "7"
                                },
                                {
                                    "LOGIN": "attila1",
                                    "(No column name)": "Személy",
                                    "rendelesek": "6"
                                },
                                {
                                    "LOGIN": "attila1",
                                    "(No column name)": "részösszeg",
                                    "rendelesek": "18"
                                },
                                {
                                    "LOGIN": "attila4",
                                    "(No column name)": "GLS",
                                    "rendelesek": "135"
                                },
                                {
                                    "LOGIN": "attila4",
                                    "(No column name)": "Posta",
                                    "rendelesek": "125"
                                },
                                {
                                    "LOGIN": "attila4",
                                    "(No column name)": "Személy",
                                    "rendelesek": "141"
                                },
                                {
                                    "LOGIN": "attila4",
                                    "(No column name)": "részösszeg",
                                    "rendelesek": "401"
                                },
                                {
                                    "LOGIN": "ATTILAO",
                                    "(No column name)": "GLS",
                                    "rendelesek": "4"
                                },
                                {
                                    "LOGIN": "ATTILAO",
                                    "(No column name)": "Posta",
                                    "rendelesek": "4"
                                },
                                {
                                    "LOGIN": "ATTILAO",
                                    "(No column name)": "Személy",
                                    "rendelesek": "6"
                                },
                                {
                                    "LOGIN": "ATTILAO",
                                    "(No column name)": "részösszeg",
                                    "rendelesek": "14"
                                },
                                {
                                    "LOGIN": "balazs1",
                                    "(No column name)": "GLS",
                                    "rendelesek": "128"
                                },
                                {
                                    "LOGIN": "balazs1",
                                    "(No column name)": "Posta",
                                    "rendelesek": "136"
                                },
                                {
                                    "LOGIN": "balazs1",
                                    "(No column name)": "Személy",
                                    "rendelesek": "155"
                                },
                                {
                                    "LOGIN": "balazs1",
                                    "(No column name)": "részösszeg",
                                    "rendelesek": "419"
                                },
                                {
                                    "LOGIN": "balazs2",
                                    "(No column name)": "GLS",
                                    "rendelesek": "5"
                                },
                                {
                                    "LOGIN": "balazs2",
                                    "(No column name)": "Posta",
                                    "rendelesek": "7"
                                },
                                {
                                    "LOGIN": "balazs2",
                                    "(No column name)": "Személy",
                                    "rendelesek": "5"
                                },
                                {
                                    "LOGIN": "balazs2",
                                    "(No column name)": "részösszeg",
                                    "rendelesek": "17"
                                },
                                {
                                    "LOGIN": "balazs3",
                                    "(No column name)": "GLS",
                                    "rendelesek": "6"
                                },
                                {
                                    "LOGIN": "balazs3",
                                    "(No column name)": "Posta",
                                    "rendelesek": "6"
                                },
                                {
                                    "LOGIN": "balazs3",
                                    "(No column name)": "Személy",
                                    "rendelesek": "3"
                                },
                                {
                                    "LOGIN": "balazs3",
                                    "(No column name)": "részösszeg",
                                    "rendelesek": "15"
                                },
                                {
                                    "LOGIN": "balint",
                                    "(No column name)": "GLS",
                                    "rendelesek": "10"
                                },
                                {
                                    "LOGIN": "balint",
                                    "(No column name)": "Posta",
                                    "rendelesek": "4"
                                },
                                {
                                    "LOGIN": "balint",
                                    "(No column name)": "Személy",
                                    "rendelesek": "2"
                                },
                                {
                                    "LOGIN": "balint",
                                    "(No column name)": "részösszeg",
                                    "rendelesek": "16"
                                },
                                {
                                    "LOGIN": "balint1",
                                    "(No column name)": "GLS",
                                    "rendelesek": "158"
                                },
                                {
                                    "LOGIN": "balint1",
                                    "(No column name)": "Posta",
                                    "rendelesek": "152"
                                },
                                {
                                    "LOGIN": "balint1",
                                    "(No column name)": "Személy",
                                    "rendelesek": "152"
                                },
                                {
                                    "LOGIN": "balint1",
                                    "(No column name)": "részösszeg",
                                    "rendelesek": "462"
                                },
                                {
                                    "LOGIN": "balint2",
                                    "(No column name)": "GLS",
                                    "rendelesek": "8"
                                },
                                {
                                    "LOGIN": "balint2",
                                    "(No column name)": "Posta",
                                    "rendelesek": "6"
                                },
                                {
                                    "LOGIN": "balint2",
                                    "(No column name)": "Személy",
                                    "rendelesek": "3"
                                },
                                {
                                    "LOGIN": "balint2",
                                    "(No column name)": "részösszeg",
                                    "rendelesek": "17"
                                },
                                {
                                    "LOGIN": "balu",
                                    "(No column name)": "GLS",
                                    "rendelesek": "127"
                                },
                                {
                                    "LOGIN": "balu",
                                    "(No column name)": "Posta",
                                    "rendelesek": "137"
                                },
                                {
                                    "LOGIN": "balu",
                                    "(No column name)": "Személy",
                                    "rendelesek": "123"
                                },
                                {
                                    "LOGIN": "balu",
                                    "(No column name)": "részösszeg",
                                    "rendelesek": "387"
                                },
                                {
                                    "LOGIN": "BEATRIXK",
                                    "(No column name)": "GLS",
                                    "rendelesek": "135"
                                },
                                {
                                    "LOGIN": "BEATRIXK",
                                    "(No column name)": "Posta",
                                    "rendelesek": "155"
                                },
                                {
                                    "LOGIN": "BEATRIXK",
                                    "(No column name)": "Személy",
                                    "rendelesek": "145"
                                },
                                {
                                    "LOGIN": "BEATRIXK",
                                    "(No column name)": "részösszeg",
                                    "rendelesek": "435"
                                },
                                {
                                    "LOGIN": "BEATRIXS",
                                    "(No column name)": "GLS",
                                    "rendelesek": "146"
                                },
                                {
                                    "LOGIN": "BEATRIXS",
                                    "(No column name)": "Posta",
                                    "rendelesek": "141"
                                },
                                {
                                    "LOGIN": "BEATRIXS",
                                    "(No column name)": "Személy",
                                    "rendelesek": "133"
                                },
                                {
                                    "LOGIN": "BEATRIXS",
                                    "(No column name)": "részösszeg",
                                    "rendelesek": "420"
                                },
                                {
                                    "LOGIN": "BELAF",
                                    "(No column name)": "GLS",
                                    "rendelesek": "11"
                                },
                                {
                                    "LOGIN": "BELAF",
                                    "(No column name)": "Posta",
                                    "rendelesek": "2"
                                },
                                {
                                    "LOGIN": "BELAF",
                                    "(No column name)": "Személy",
                                    "rendelesek": "5"
                                },
                                {
                                    "LOGIN": "BELAF",
                                    "(No column name)": "részösszeg",
                                    "rendelesek": "18"
                                },
                                {
                                    "LOGIN": "bence",
                                    "(No column name)": "GLS",
                                    "rendelesek": "4"
                                },
                                {
                                    "LOGIN": "bence",
                                    "(No column name)": "Posta",
                                    "rendelesek": "6"
                                },
                                {
                                    "LOGIN": "bence",
                                    "(No column name)": "Személy",
                                    "rendelesek": "8"
                                },
                                {
                                    "LOGIN": "bence",
                                    "(No column name)": "részösszeg",
                                    "rendelesek": "18"
                                },
                                {
                                    "LOGIN": "BENCEB",
                                    "(No column name)": "GLS",
                                    "rendelesek": "5"
                                },
                                {
                                    "LOGIN": "BENCEB",
                                    "(No column name)": "Posta",
                                    "rendelesek": "7"
                                },
                                {
                                    "LOGIN": "BENCEB",
                                    "(No column name)": "Személy",
                                    "rendelesek": "5"
                                },
                                {
                                    "LOGIN": "BENCEB",
                                    "(No column name)": "részösszeg",
                                    "rendelesek": "17"
                                },
                                {
                                    "LOGIN": "bernadett1",
                                    "(No column name)": "GLS",
                                    "rendelesek": "10"
                                },
                                {
                                    "LOGIN": "bernadett1",
                                    "(No column name)": "Posta",
                                    "rendelesek": "5"
                                },
                                {
                                    "LOGIN": "bernadett1",
                                    "(No column name)": "Személy",
                                    "rendelesek": "5"
                                },
                                {
                                    "LOGIN": "bernadett1",
                                    "(No column name)": "részösszeg",
                                    "rendelesek": "20"
                                },
                                {
                                    "LOGIN": "bernadett2",
                                    "(No column name)": "GLS",
                                    "rendelesek": "6"
                                },
                                {
                                    "LOGIN": "bernadett2",
                                    "(No column name)": "Posta",
                                    "rendelesek": "2"
                                },
                                {
                                    "LOGIN": "bernadett2",
                                    "(No column name)": "Személy",
                                    "rendelesek": "7"
                                },
                                {
                                    "LOGIN": "bernadett2",
                                    "(No column name)": "részösszeg",
                                    "rendelesek": "15"
                                },
                                {
                                    "LOGIN": "BERNADETTO",
                                    "(No column name)": "GLS",
                                    "rendelesek": "7"
                                },
                                {
                                    "LOGIN": "BERNADETTO",
                                    "(No column name)": "Posta",
                                    "rendelesek": "2"
                                },
                                {
                                    "LOGIN": "BERNADETTO",
                                    "(No column name)": "Személy",
                                    "rendelesek": "7"
                                },
                                {
                                    "LOGIN": "BERNADETTO",
                                    "(No column name)": "részösszeg",
                                    "rendelesek": "16"
                                },
                                {
                                    "LOGIN": "bertalan",
                                    "(No column name)": "GLS",
                                    "rendelesek": "128"
                                },
                                {
                                    "LOGIN": "bertalan",
                                    "(No column name)": "Posta",
                                    "rendelesek": "124"
                                },
                                {
                                    "LOGIN": "bertalan",
                                    "(No column name)": "Személy",
                                    "rendelesek": "101"
                                },
                                {
                                    "LOGIN": "bertalan",
                                    "(No column name)": "részösszeg",
                                    "rendelesek": "353"
                                },
                                {
                                    "LOGIN": "brigitta",
                                    "(No column name)": "GLS",
                                    "rendelesek": "137"
                                },
                                {
                                    "LOGIN": "brigitta",
                                    "(No column name)": "Posta",
                                    "rendelesek": "137"
                                },
                                {
                                    "LOGIN": "brigitta",
                                    "(No column name)": "Személy",
                                    "rendelesek": "119"
                                },
                                {
                                    "LOGIN": "brigitta",
                                    "(No column name)": "részösszeg",
                                    "rendelesek": "393"
                                },
                                {
                                    "LOGIN": "brigitta3",
                                    "(No column name)": "GLS",
                                    "rendelesek": "144"
                                },
                                {
                                    "LOGIN": "brigitta3",
                                    "(No column name)": "Posta",
                                    "rendelesek": "130"
                                },
                                {
                                    "LOGIN": "brigitta3",
                                    "(No column name)": "Személy",
                                    "rendelesek": "139"
                                },
                                {
                                    "LOGIN": "brigitta3",
                                    "(No column name)": "részösszeg",
                                    "rendelesek": "413"
                                },
                                {
                                    "LOGIN": "csongor3",
                                    "(No column name)": "GLS",
                                    "rendelesek": "5"
                                },
                                {
                                    "LOGIN": "csongor3",
                                    "(No column name)": "Posta",
                                    "rendelesek": "2"
                                },
                                {
                                    "LOGIN": "csongor3",
                                    "(No column name)": "Személy",
                                    "rendelesek": "8"
                                },
                                {
                                    "LOGIN": "csongor3",
                                    "(No column name)": "részösszeg",
                                    "rendelesek": "15"
                                },
                                {
                                    "LOGIN": "dani",
                                    "(No column name)": "GLS",
                                    "rendelesek": "5"
                                },
                                {
                                    "LOGIN": "dani",
                                    "(No column name)": "Személy",
                                    "rendelesek": "8"
                                },
                                {
                                    "LOGIN": "dani",
                                    "(No column name)": "részösszeg",
                                    "rendelesek": "13"
                                },
                                {
                                    "LOGIN": "daniel",
                                    "(No column name)": "GLS",
                                    "rendelesek": "7"
                                },
                                {
                                    "LOGIN": "daniel",
                                    "(No column name)": "Posta",
                                    "rendelesek": "2"
                                },
                                {
                                    "LOGIN": "daniel",
                                    "(No column name)": "Személy",
                                    "rendelesek": "4"
                                },
                                {
                                    "LOGIN": "daniel",
                                    "(No column name)": "részösszeg",
                                    "rendelesek": "13"
                                },
                                {
                                    "LOGIN": "daniel1",
                                    "(No column name)": "GLS",
                                    "rendelesek": "156"
                                },
                                {
                                    "LOGIN": "daniel1",
                                    "(No column name)": "Posta",
                                    "rendelesek": "131"
                                },
                                {
                                    "LOGIN": "daniel1",
                                    "(No column name)": "Személy",
                                    "rendelesek": "132"
                                },
                                {
                                    "LOGIN": "daniel1",
                                    "(No column name)": "részösszeg",
                                    "rendelesek": "419"
                                },
                                {
                                    "LOGIN": "david",
                                    "(No column name)": "GLS",
                                    "rendelesek": "161"
                                },
                                {
                                    "LOGIN": "david",
                                    "(No column name)": "Posta",
                                    "rendelesek": "144"
                                },
                                {
                                    "LOGIN": "david",
                                    "(No column name)": "Személy",
                                    "rendelesek": "146"
                                },
                                {
                                    "LOGIN": "david",
                                    "(No column name)": "részösszeg",
                                    "rendelesek": "451"
                                },
                                {
                                    "LOGIN": "david1",
                                    "(No column name)": "GLS",
                                    "rendelesek": "8"
                                },
                                {
                                    "LOGIN": "david1",
                                    "(No column name)": "Posta",
                                    "rendelesek": "1"
                                },
                                {
                                    "LOGIN": "david1",
                                    "(No column name)": "Személy",
                                    "rendelesek": "8"
                                },
                                {
                                    "LOGIN": "david1",
                                    "(No column name)": "részösszeg",
                                    "rendelesek": "17"
                                },
                                {
                                    "LOGIN": "david4",
                                    "(No column name)": "GLS",
                                    "rendelesek": "3"
                                },
                                {
                                    "LOGIN": "david4",
                                    "(No column name)": "Posta",
                                    "rendelesek": "8"
                                },
                                {
                                    "LOGIN": "david4",
                                    "(No column name)": "Személy",
                                    "rendelesek": "10"
                                },
                                {
                                    "LOGIN": "david4",
                                    "(No column name)": "részösszeg",
                                    "rendelesek": "21"
                                },
                                {
                                    "LOGIN": "debora",
                                    "(No column name)": "GLS",
                                    "rendelesek": "7"
                                },
                                {
                                    "LOGIN": "debora",
                                    "(No column name)": "Posta",
                                    "rendelesek": "6"
                                },
                                {
                                    "LOGIN": "debora",
                                    "(No column name)": "Személy",
                                    "rendelesek": "3"
                                },
                                {
                                    "LOGIN": "debora",
                                    "(No column name)": "részösszeg",
                                    "rendelesek": "16"
                                },
                                {
                                    "LOGIN": "denes",
                                    "(No column name)": "GLS",
                                    "rendelesek": "3"
                                },
                                {
                                    "LOGIN": "denes",
                                    "(No column name)": "Posta",
                                    "rendelesek": "2"
                                },
                                {
                                    "LOGIN": "denes",
                                    "(No column name)": "Személy",
                                    "rendelesek": "4"
                                },
                                {
                                    "LOGIN": "denes",
                                    "(No column name)": "részösszeg",
                                    "rendelesek": "9"
                                },
                                {
                                    "LOGIN": "dora3",
                                    "(No column name)": "GLS",
                                    "rendelesek": "144"
                                },
                                {
                                    "LOGIN": "dora3",
                                    "(No column name)": "Posta",
                                    "rendelesek": "124"
                                },
                                {
                                    "LOGIN": "dora3",
                                    "(No column name)": "Személy",
                                    "rendelesek": "164"
                                },
                                {
                                    "LOGIN": "dora3",
                                    "(No column name)": "részösszeg",
                                    "rendelesek": "432"
                                },
                                {
                                    "LOGIN": "edit",
                                    "(No column name)": "GLS",
                                    "rendelesek": "7"
                                },
                                {
                                    "LOGIN": "edit",
                                    "(No column name)": "Posta",
                                    "rendelesek": "2"
                                },
                                {
                                    "LOGIN": "edit",
                                    "(No column name)": "Személy",
                                    "rendelesek": "4"
                                },
                                {
                                    "LOGIN": "edit",
                                    "(No column name)": "részösszeg",
                                    "rendelesek": "13"
                                },
                                {
                                    "LOGIN": "emese",
                                    "(No column name)": "GLS",
                                    "rendelesek": "128"
                                },
                                {
                                    "LOGIN": "emese",
                                    "(No column name)": "Posta",
                                    "rendelesek": "136"
                                },
                                {
                                    "LOGIN": "emese",
                                    "(No column name)": "Személy",
                                    "rendelesek": "142"
                                },
                                {
                                    "LOGIN": "emese",
                                    "(No column name)": "részösszeg",
                                    "rendelesek": "406"
                                },
                                {
                                    "LOGIN": "eszter2",
                                    "(No column name)": "GLS",
                                    "rendelesek": "127"
                                },
                                {
                                    "LOGIN": "eszter2",
                                    "(No column name)": "Posta",
                                    "rendelesek": "136"
                                },
                                {
                                    "LOGIN": "eszter2",
                                    "(No column name)": "Személy",
                                    "rendelesek": "152"
                                },
                                {
                                    "LOGIN": "eszter2",
                                    "(No column name)": "részösszeg",
                                    "rendelesek": "415"
                                },
                                {
                                    "LOGIN": "eszter4",
                                    "(No column name)": "GLS",
                                    "rendelesek": "141"
                                },
                                {
                                    "LOGIN": "eszter4",
                                    "(No column name)": "Posta",
                                    "rendelesek": "134"
                                },
                                {
                                    "LOGIN": "eszter4",
                                    "(No column name)": "Személy",
                                    "rendelesek": "149"
                                },
                                {
                                    "LOGIN": "eszter4",
                                    "(No column name)": "részösszeg",
                                    "rendelesek": "424"
                                },
                                {
                                    "LOGIN": "ESZTERE",
                                    "(No column name)": "GLS",
                                    "rendelesek": "6"
                                },
                                {
                                    "LOGIN": "ESZTERE",
                                    "(No column name)": "Posta",
                                    "rendelesek": "9"
                                },
                                {
                                    "LOGIN": "ESZTERE",
                                    "(No column name)": "Személy",
                                    "rendelesek": "7"
                                },
                                {
                                    "LOGIN": "ESZTERE",
                                    "(No column name)": "részösszeg",
                                    "rendelesek": "22"
                                },
                                {
                                    "LOGIN": "eva",
                                    "(No column name)": "GLS",
                                    "rendelesek": "125"
                                },
                                {
                                    "LOGIN": "eva",
                                    "(No column name)": "Posta",
                                    "rendelesek": "140"
                                },
                                {
                                    "LOGIN": "eva",
                                    "(No column name)": "Személy",
                                    "rendelesek": "139"
                                },
                                {
                                    "LOGIN": "eva",
                                    "(No column name)": "részösszeg",
                                    "rendelesek": "404"
                                },
                                {
                                    "LOGIN": "eva2",
                                    "(No column name)": "GLS",
                                    "rendelesek": "154"
                                },
                                {
                                    "LOGIN": "eva2",
                                    "(No column name)": "Posta",
                                    "rendelesek": "138"
                                },
                                {
                                    "LOGIN": "eva2",
                                    "(No column name)": "Személy",
                                    "rendelesek": "170"
                                },
                                {
                                    "LOGIN": "eva2",
                                    "(No column name)": "részösszeg",
                                    "rendelesek": "462"
                                },
                                {
                                    "LOGIN": "EVAV",
                                    "(No column name)": "GLS",
                                    "rendelesek": "2"
                                },
                                {
                                    "LOGIN": "EVAV",
                                    "(No column name)": "Posta",
                                    "rendelesek": "1"
                                },
                                {
                                    "LOGIN": "EVAV",
                                    "(No column name)": "Személy",
                                    "rendelesek": "4"
                                },
                                {
                                    "LOGIN": "EVAV",
                                    "(No column name)": "részösszeg",
                                    "rendelesek": "7"
                                },
                                {
                                    "LOGIN": "ferenc1",
                                    "(No column name)": "GLS",
                                    "rendelesek": "144"
                                },
                                {
                                    "LOGIN": "ferenc1",
                                    "(No column name)": "Posta",
                                    "rendelesek": "158"
                                },
                                {
                                    "LOGIN": "ferenc1",
                                    "(No column name)": "Személy",
                                    "rendelesek": "135"
                                },
                                {
                                    "LOGIN": "ferenc1",
                                    "(No column name)": "részösszeg",
                                    "rendelesek": "437"
                                },
                                {
                                    "LOGIN": "fruzsina4",
                                    "(No column name)": "GLS",
                                    "rendelesek": "8"
                                },
                                {
                                    "LOGIN": "fruzsina4",
                                    "(No column name)": "Posta",
                                    "rendelesek": "3"
                                },
                                {
                                    "LOGIN": "fruzsina4",
                                    "(No column name)": "Személy",
                                    "rendelesek": "7"
                                },
                                {
                                    "LOGIN": "fruzsina4",
                                    "(No column name)": "részösszeg",
                                    "rendelesek": "18"
                                },
                                {
                                    "LOGIN": "gabor1",
                                    "(No column name)": "GLS",
                                    "rendelesek": "9"
                                },
                                {
                                    "LOGIN": "gabor1",
                                    "(No column name)": "Posta",
                                    "rendelesek": "5"
                                },
                                {
                                    "LOGIN": "gabor1",
                                    "(No column name)": "Személy",
                                    "rendelesek": "5"
                                },
                                {
                                    "LOGIN": "gabor1",
                                    "(No column name)": "részösszeg",
                                    "rendelesek": "19"
                                },
                                {
                                    "LOGIN": "gabor4",
                                    "(No column name)": "GLS",
                                    "rendelesek": "7"
                                },
                                {
                                    "LOGIN": "gabor4",
                                    "(No column name)": "Posta",
                                    "rendelesek": "9"
                                },
                                {
                                    "LOGIN": "gabor4",
                                    "(No column name)": "Személy",
                                    "rendelesek": "4"
                                },
                                {
                                    "LOGIN": "gabor4",
                                    "(No column name)": "részösszeg",
                                    "rendelesek": "20"
                                },
                                {
                                    "LOGIN": "GABORS",
                                    "(No column name)": "GLS",
                                    "rendelesek": "5"
                                },
                                {
                                    "LOGIN": "GABORS",
                                    "(No column name)": "Posta",
                                    "rendelesek": "6"
                                },
                                {
                                    "LOGIN": "GABORS",
                                    "(No column name)": "Személy",
                                    "rendelesek": "4"
                                },
                                {
                                    "LOGIN": "GABORS",
                                    "(No column name)": "részösszeg",
                                    "rendelesek": "15"
                                },
                                {
                                    "LOGIN": "gabriella1",
                                    "(No column name)": "GLS",
                                    "rendelesek": "5"
                                },
                                {
                                    "LOGIN": "gabriella1",
                                    "(No column name)": "Posta",
                                    "rendelesek": "4"
                                },
                                {
                                    "LOGIN": "gabriella1",
                                    "(No column name)": "Személy",
                                    "rendelesek": "5"
                                },
                                {
                                    "LOGIN": "gabriella1",
                                    "(No column name)": "részösszeg",
                                    "rendelesek": "14"
                                },
                                {
                                    "LOGIN": "gabriella10",
                                    "(No column name)": "GLS",
                                    "rendelesek": "4"
                                },
                                {
                                    "LOGIN": "gabriella10",
                                    "(No column name)": "Posta",
                                    "rendelesek": "5"
                                },
                                {
                                    "LOGIN": "gabriella10",
                                    "(No column name)": "Személy",
                                    "rendelesek": "7"
                                },
                                {
                                    "LOGIN": "gabriella10",
                                    "(No column name)": "részösszeg",
                                    "rendelesek": "16"
                                },
                                {
                                    "LOGIN": "georgij",
                                    "(No column name)": "GLS",
                                    "rendelesek": "9"
                                },
                                {
                                    "LOGIN": "georgij",
                                    "(No column name)": "Posta",
                                    "rendelesek": "2"
                                },
                                {
                                    "LOGIN": "georgij",
                                    "(No column name)": "Személy",
                                    "rendelesek": "10"
                                },
                                {
                                    "LOGIN": "georgij",
                                    "(No column name)": "részösszeg",
                                    "rendelesek": "21"
                                },
                                {
                                    "LOGIN": "gusztav",
                                    "(No column name)": "GLS",
                                    "rendelesek": "5"
                                },
                                {
                                    "LOGIN": "gusztav",
                                    "(No column name)": "Posta",
                                    "rendelesek": "4"
                                },
                                {
                                    "LOGIN": "gusztav",
                                    "(No column name)": "Személy",
                                    "rendelesek": "5"
                                },
                                {
                                    "LOGIN": "gusztav",
                                    "(No column name)": "részösszeg",
                                    "rendelesek": "14"
                                },
                                {
                                    "LOGIN": "GYONGYIK",
                                    "(No column name)": "GLS",
                                    "rendelesek": "6"
                                },
                                {
                                    "LOGIN": "GYONGYIK",
                                    "(No column name)": "Posta",
                                    "rendelesek": "6"
                                },
                                {
                                    "LOGIN": "GYONGYIK",
                                    "(No column name)": "Személy",
                                    "rendelesek": "3"
                                },
                                {
                                    "LOGIN": "GYONGYIK",
                                    "(No column name)": "részösszeg",
                                    "rendelesek": "15"
                                },
                                {
                                    "LOGIN": "GYORGYO",
                                    "(No column name)": "GLS",
                                    "rendelesek": "7"
                                },
                                {
                                    "LOGIN": "GYORGYO",
                                    "(No column name)": "Posta",
                                    "rendelesek": "4"
                                },
                                {
                                    "LOGIN": "GYORGYO",
                                    "(No column name)": "Személy",
                                    "rendelesek": "5"
                                },
                                {
                                    "LOGIN": "GYORGYO",
                                    "(No column name)": "részösszeg",
                                    "rendelesek": "16"
                                },
                                {
                                    "LOGIN": "henrik3",
                                    "(No column name)": "GLS",
                                    "rendelesek": "7"
                                },
                                {
                                    "LOGIN": "henrik3",
                                    "(No column name)": "Posta",
                                    "rendelesek": "4"
                                },
                                {
                                    "LOGIN": "henrik3",
                                    "(No column name)": "Személy",
                                    "rendelesek": "5"
                                },
                                {
                                    "LOGIN": "henrik3",
                                    "(No column name)": "részösszeg",
                                    "rendelesek": "16"
                                },
                                {
                                    "LOGIN": "IBOLYAA",
                                    "(No column name)": "GLS",
                                    "rendelesek": "140"
                                },
                                {
                                    "LOGIN": "IBOLYAA",
                                    "(No column name)": "Posta",
                                    "rendelesek": "125"
                                },
                                {
                                    "LOGIN": "IBOLYAA",
                                    "(No column name)": "Személy",
                                    "rendelesek": "157"
                                },
                                {
                                    "LOGIN": "IBOLYAA",
                                    "(No column name)": "részösszeg",
                                    "rendelesek": "422"
                                },
                                {
                                    "LOGIN": "ilona3",
                                    "(No column name)": "GLS",
                                    "rendelesek": "9"
                                },
                                {
                                    "LOGIN": "ilona3",
                                    "(No column name)": "Posta",
                                    "rendelesek": "2"
                                },
                                {
                                    "LOGIN": "ilona3",
                                    "(No column name)": "Személy",
                                    "rendelesek": "7"
                                },
                                {
                                    "LOGIN": "ilona3",
                                    "(No column name)": "részösszeg",
                                    "rendelesek": "18"
                                },
                                {
                                    "LOGIN": "imre",
                                    "(No column name)": "GLS",
                                    "rendelesek": "5"
                                },
                                {
                                    "LOGIN": "imre",
                                    "(No column name)": "Posta",
                                    "rendelesek": "4"
                                },
                                {
                                    "LOGIN": "imre",
                                    "(No column name)": "Személy",
                                    "rendelesek": "6"
                                },
                                {
                                    "LOGIN": "imre",
                                    "(No column name)": "részösszeg",
                                    "rendelesek": "15"
                                },
                                {
                                    "LOGIN": "imre1",
                                    "(No column name)": "GLS",
                                    "rendelesek": "8"
                                },
                                {
                                    "LOGIN": "imre1",
                                    "(No column name)": "Posta",
                                    "rendelesek": "4"
                                },
                                {
                                    "LOGIN": "imre1",
                                    "(No column name)": "Személy",
                                    "rendelesek": "3"
                                },
                                {
                                    "LOGIN": "imre1",
                                    "(No column name)": "részösszeg",
                                    "rendelesek": "15"
                                },
                                {
                                    "LOGIN": "istvan",
                                    "(No column name)": "GLS",
                                    "rendelesek": "3"
                                },
                                {
                                    "LOGIN": "istvan",
                                    "(No column name)": "Posta",
                                    "rendelesek": "4"
                                },
                                {
                                    "LOGIN": "istvan",
                                    "(No column name)": "Személy",
                                    "rendelesek": "4"
                                },
                                {
                                    "LOGIN": "istvan",
                                    "(No column name)": "részösszeg",
                                    "rendelesek": "11"
                                },
                                {
                                    "LOGIN": "istvan1",
                                    "(No column name)": "GLS",
                                    "rendelesek": "8"
                                },
                                {
                                    "LOGIN": "istvan1",
                                    "(No column name)": "Posta",
                                    "rendelesek": "4"
                                },
                                {
                                    "LOGIN": "istvan1",
                                    "(No column name)": "Személy",
                                    "rendelesek": "7"
                                },
                                {
                                    "LOGIN": "istvan1",
                                    "(No column name)": "részösszeg",
                                    "rendelesek": "19"
                                },
                                {
                                    "LOGIN": "ISTVANV",
                                    "(No column name)": "GLS",
                                    "rendelesek": "4"
                                },
                                {
                                    "LOGIN": "ISTVANV",
                                    "(No column name)": "Posta",
                                    "rendelesek": "9"
                                },
                                {
                                    "LOGIN": "ISTVANV",
                                    "(No column name)": "Személy",
                                    "rendelesek": "8"
                                },
                                {
                                    "LOGIN": "ISTVANV",
                                    "(No column name)": "részösszeg",
                                    "rendelesek": "21"
                                },
                                {
                                    "LOGIN": "janos3",
                                    "(No column name)": "GLS",
                                    "rendelesek": "5"
                                },
                                {
                                    "LOGIN": "janos3",
                                    "(No column name)": "Posta",
                                    "rendelesek": "2"
                                },
                                {
                                    "LOGIN": "janos3",
                                    "(No column name)": "Személy",
                                    "rendelesek": "6"
                                },
                                {
                                    "LOGIN": "janos3",
                                    "(No column name)": "részösszeg",
                                    "rendelesek": "13"
                                },
                                {
                                    "LOGIN": "JANOSG",
                                    "(No column name)": "GLS",
                                    "rendelesek": "3"
                                },
                                {
                                    "LOGIN": "JANOSG",
                                    "(No column name)": "Posta",
                                    "rendelesek": "3"
                                },
                                {
                                    "LOGIN": "JANOSG",
                                    "(No column name)": "Személy",
                                    "rendelesek": "4"
                                },
                                {
                                    "LOGIN": "JANOSG",
                                    "(No column name)": "részösszeg",
                                    "rendelesek": "10"
                                },
                                {
                                    "LOGIN": "JANOSP",
                                    "(No column name)": "GLS",
                                    "rendelesek": "7"
                                },
                                {
                                    "LOGIN": "JANOSP",
                                    "(No column name)": "Posta",
                                    "rendelesek": "7"
                                },
                                {
                                    "LOGIN": "JANOSP",
                                    "(No column name)": "Személy",
                                    "rendelesek": "3"
                                },
                                {
                                    "LOGIN": "JANOSP",
                                    "(No column name)": "részösszeg",
                                    "rendelesek": "17"
                                },
                                {
                                    "LOGIN": "jozsef",
                                    "(No column name)": "GLS",
                                    "rendelesek": "116"
                                },
                                {
                                    "LOGIN": "jozsef",
                                    "(No column name)": "Posta",
                                    "rendelesek": "132"
                                },
                                {
                                    "LOGIN": "jozsef",
                                    "(No column name)": "Személy",
                                    "rendelesek": "134"
                                },
                                {
                                    "LOGIN": "jozsef",
                                    "(No column name)": "részösszeg",
                                    "rendelesek": "382"
                                },
                                {
                                    "LOGIN": "jozsef2",
                                    "(No column name)": "GLS",
                                    "rendelesek": "7"
                                },
                                {
                                    "LOGIN": "jozsef2",
                                    "(No column name)": "Posta",
                                    "rendelesek": "2"
                                },
                                {
                                    "LOGIN": "jozsef2",
                                    "(No column name)": "Személy",
                                    "rendelesek": "4"
                                },
                                {
                                    "LOGIN": "jozsef2",
                                    "(No column name)": "részösszeg",
                                    "rendelesek": "13"
                                },
                                {
                                    "LOGIN": "JOZSEFG",
                                    "(No column name)": "GLS",
                                    "rendelesek": "11"
                                },
                                {
                                    "LOGIN": "JOZSEFG",
                                    "(No column name)": "Posta",
                                    "rendelesek": "1"
                                },
                                {
                                    "LOGIN": "JOZSEFG",
                                    "(No column name)": "Személy",
                                    "rendelesek": "9"
                                },
                                {
                                    "LOGIN": "JOZSEFG",
                                    "(No column name)": "részösszeg",
                                    "rendelesek": "21"
                                },
                                {
                                    "LOGIN": "JUDITH",
                                    "(No column name)": "GLS",
                                    "rendelesek": "170"
                                },
                                {
                                    "LOGIN": "JUDITH",
                                    "(No column name)": "Posta",
                                    "rendelesek": "130"
                                },
                                {
                                    "LOGIN": "JUDITH",
                                    "(No column name)": "Személy",
                                    "rendelesek": "150"
                                },
                                {
                                    "LOGIN": "JUDITH",
                                    "(No column name)": "részösszeg",
                                    "rendelesek": "450"
                                },
                                {
                                    "LOGIN": "julia",
                                    "(No column name)": "GLS",
                                    "rendelesek": "137"
                                },
                                {
                                    "LOGIN": "julia",
                                    "(No column name)": "Posta",
                                    "rendelesek": "160"
                                },
                                {
                                    "LOGIN": "julia",
                                    "(No column name)": "Személy",
                                    "rendelesek": "138"
                                },
                                {
                                    "LOGIN": "julia",
                                    "(No column name)": "részösszeg",
                                    "rendelesek": "435"
                                },
                                {
                                    "LOGIN": "julia4",
                                    "(No column name)": "GLS",
                                    "rendelesek": "2"
                                },
                                {
                                    "LOGIN": "julia4",
                                    "(No column name)": "Posta",
                                    "rendelesek": "4"
                                },
                                {
                                    "LOGIN": "julia4",
                                    "(No column name)": "Személy",
                                    "rendelesek": "8"
                                },
                                {
                                    "LOGIN": "julia4",
                                    "(No column name)": "részösszeg",
                                    "rendelesek": "14"
                                },
                                {
                                    "LOGIN": "julianna4",
                                    "(No column name)": "GLS",
                                    "rendelesek": "8"
                                },
                                {
                                    "LOGIN": "julianna4",
                                    "(No column name)": "Posta",
                                    "rendelesek": "12"
                                },
                                {
                                    "LOGIN": "julianna4",
                                    "(No column name)": "Személy",
                                    "rendelesek": "7"
                                },
                                {
                                    "LOGIN": "julianna4",
                                    "(No column name)": "részösszeg",
                                    "rendelesek": "27"
                                },
                                {
                                    "LOGIN": "kata",
                                    "(No column name)": "GLS",
                                    "rendelesek": "5"
                                },
                                {
                                    "LOGIN": "kata",
                                    "(No column name)": "Posta",
                                    "rendelesek": "4"
                                },
                                {
                                    "LOGIN": "kata",
                                    "(No column name)": "Személy",
                                    "rendelesek": "3"
                                },
                                {
                                    "LOGIN": "kata",
                                    "(No column name)": "részösszeg",
                                    "rendelesek": "12"
                                },
                                {
                                    "LOGIN": "katalin",
                                    "(No column name)": "GLS",
                                    "rendelesek": "7"
                                },
                                {
                                    "LOGIN": "katalin",
                                    "(No column name)": "Posta",
                                    "rendelesek": "7"
                                },
                                {
                                    "LOGIN": "katalin",
                                    "(No column name)": "Személy",
                                    "rendelesek": "5"
                                },
                                {
                                    "LOGIN": "katalin",
                                    "(No column name)": "részösszeg",
                                    "rendelesek": "19"
                                },
                                {
                                    "LOGIN": "katalin4",
                                    "(No column name)": "GLS",
                                    "rendelesek": "7"
                                },
                                {
                                    "LOGIN": "katalin4",
                                    "(No column name)": "Posta",
                                    "rendelesek": "5"
                                },
                                {
                                    "LOGIN": "katalin4",
                                    "(No column name)": "Személy",
                                    "rendelesek": "11"
                                },
                                {
                                    "LOGIN": "katalin4",
                                    "(No column name)": "részösszeg",
                                    "rendelesek": "23"
                                },
                                {
                                    "LOGIN": "kati",
                                    "(No column name)": "GLS",
                                    "rendelesek": "4"
                                },
                                {
                                    "LOGIN": "kati",
                                    "(No column name)": "Posta",
                                    "rendelesek": "5"
                                },
                                {
                                    "LOGIN": "kati",
                                    "(No column name)": "Személy",
                                    "rendelesek": "4"
                                },
                                {
                                    "LOGIN": "kati",
                                    "(No column name)": "részösszeg",
                                    "rendelesek": "13"
                                },
                                {
                                    "LOGIN": "katka",
                                    "(No column name)": "GLS",
                                    "rendelesek": "6"
                                },
                                {
                                    "LOGIN": "katka",
                                    "(No column name)": "Posta",
                                    "rendelesek": "6"
                                },
                                {
                                    "LOGIN": "katka",
                                    "(No column name)": "Személy",
                                    "rendelesek": "10"
                                },
                                {
                                    "LOGIN": "katka",
                                    "(No column name)": "részösszeg",
                                    "rendelesek": "22"
                                },
                                {
                                    "LOGIN": "klaudia2",
                                    "(No column name)": "GLS",
                                    "rendelesek": "3"
                                },
                                {
                                    "LOGIN": "klaudia2",
                                    "(No column name)": "Posta",
                                    "rendelesek": "9"
                                },
                                {
                                    "LOGIN": "klaudia2",
                                    "(No column name)": "Személy",
                                    "rendelesek": "5"
                                },
                                {
                                    "LOGIN": "klaudia2",
                                    "(No column name)": "részösszeg",
                                    "rendelesek": "17"
                                },
                                {
                                    "LOGIN": "kornel4",
                                    "(No column name)": "GLS",
                                    "rendelesek": "3"
                                },
                                {
                                    "LOGIN": "kornel4",
                                    "(No column name)": "Posta",
                                    "rendelesek": "1"
                                },
                                {
                                    "LOGIN": "kornel4",
                                    "(No column name)": "Személy",
                                    "rendelesek": "7"
                                },
                                {
                                    "LOGIN": "kornel4",
                                    "(No column name)": "részösszeg",
                                    "rendelesek": "11"
                                },
                                {
                                    "LOGIN": "kristof4",
                                    "(No column name)": "GLS",
                                    "rendelesek": "9"
                                },
                                {
                                    "LOGIN": "kristof4",
                                    "(No column name)": "Posta",
                                    "rendelesek": "4"
                                },
                                {
                                    "LOGIN": "kristof4",
                                    "(No column name)": "Személy",
                                    "rendelesek": "8"
                                },
                                {
                                    "LOGIN": "kristof4",
                                    "(No column name)": "részösszeg",
                                    "rendelesek": "21"
                                },
                                {
                                    "LOGIN": "kriszti",
                                    "(No column name)": "GLS",
                                    "rendelesek": "3"
                                },
                                {
                                    "LOGIN": "kriszti",
                                    "(No column name)": "Posta",
                                    "rendelesek": "5"
                                },
                                {
                                    "LOGIN": "kriszti",
                                    "(No column name)": "Személy",
                                    "rendelesek": "5"
                                },
                                {
                                    "LOGIN": "kriszti",
                                    "(No column name)": "részösszeg",
                                    "rendelesek": "13"
                                },
                                {
                                    "LOGIN": "krisztian4",
                                    "(No column name)": "GLS",
                                    "rendelesek": "5"
                                },
                                {
                                    "LOGIN": "krisztian4",
                                    "(No column name)": "Posta",
                                    "rendelesek": "6"
                                },
                                {
                                    "LOGIN": "krisztian4",
                                    "(No column name)": "Személy",
                                    "rendelesek": "6"
                                },
                                {
                                    "LOGIN": "krisztian4",
                                    "(No column name)": "részösszeg",
                                    "rendelesek": "17"
                                },
                                {
                                    "LOGIN": "KRISZTIANM",
                                    "(No column name)": "GLS",
                                    "rendelesek": "118"
                                },
                                {
                                    "LOGIN": "KRISZTIANM",
                                    "(No column name)": "Posta",
                                    "rendelesek": "136"
                                },
                                {
                                    "LOGIN": "KRISZTIANM",
                                    "(No column name)": "Személy",
                                    "rendelesek": "130"
                                },
                                {
                                    "LOGIN": "KRISZTIANM",
                                    "(No column name)": "részösszeg",
                                    "rendelesek": "384"
                                },
                                {
                                    "LOGIN": "krisztina",
                                    "(No column name)": "GLS",
                                    "rendelesek": "149"
                                },
                                {
                                    "LOGIN": "krisztina",
                                    "(No column name)": "Posta",
                                    "rendelesek": "150"
                                },
                                {
                                    "LOGIN": "krisztina",
                                    "(No column name)": "Személy",
                                    "rendelesek": "157"
                                },
                                {
                                    "LOGIN": "krisztina",
                                    "(No column name)": "részösszeg",
                                    "rendelesek": "456"
                                },
                                {
                                    "LOGIN": "krisztina1",
                                    "(No column name)": "GLS",
                                    "rendelesek": "10"
                                },
                                {
                                    "LOGIN": "krisztina1",
                                    "(No column name)": "Posta",
                                    "rendelesek": "4"
                                },
                                {
                                    "LOGIN": "krisztina1",
                                    "(No column name)": "Személy",
                                    "rendelesek": "8"
                                },
                                {
                                    "LOGIN": "krisztina1",
                                    "(No column name)": "részösszeg",
                                    "rendelesek": "22"
                                },
                                {
                                    "LOGIN": "KRISZTINAG",
                                    "(No column name)": "GLS",
                                    "rendelesek": "6"
                                },
                                {
                                    "LOGIN": "KRISZTINAG",
                                    "(No column name)": "Posta",
                                    "rendelesek": "6"
                                },
                                {
                                    "LOGIN": "KRISZTINAG",
                                    "(No column name)": "Személy",
                                    "rendelesek": "10"
                                },
                                {
                                    "LOGIN": "KRISZTINAG",
                                    "(No column name)": "részösszeg",
                                    "rendelesek": "22"
                                },
                                {
                                    "LOGIN": "lajos",
                                    "(No column name)": "GLS",
                                    "rendelesek": "5"
                                },
                                {
                                    "LOGIN": "lajos",
                                    "(No column name)": "Posta",
                                    "rendelesek": "2"
                                },
                                {
                                    "LOGIN": "lajos",
                                    "(No column name)": "Személy",
                                    "rendelesek": "9"
                                },
                                {
                                    "LOGIN": "lajos",
                                    "(No column name)": "részösszeg",
                                    "rendelesek": "16"
                                },
                                {
                                    "LOGIN": "lala",
                                    "(No column name)": "GLS",
                                    "rendelesek": "5"
                                },
                                {
                                    "LOGIN": "lala",
                                    "(No column name)": "Posta",
                                    "rendelesek": "3"
                                },
                                {
                                    "LOGIN": "lala",
                                    "(No column name)": "Személy",
                                    "rendelesek": "9"
                                },
                                {
                                    "LOGIN": "lala",
                                    "(No column name)": "részösszeg",
                                    "rendelesek": "17"
                                },
                                {
                                    "LOGIN": "laszlo1",
                                    "(No column name)": "GLS",
                                    "rendelesek": "130"
                                },
                                {
                                    "LOGIN": "laszlo1",
                                    "(No column name)": "Posta",
                                    "rendelesek": "129"
                                },
                                {
                                    "LOGIN": "laszlo1",
                                    "(No column name)": "Személy",
                                    "rendelesek": "135"
                                },
                                {
                                    "LOGIN": "laszlo1",
                                    "(No column name)": "részösszeg",
                                    "rendelesek": "394"
                                },
                                {
                                    "LOGIN": "laszlo2",
                                    "(No column name)": "GLS",
                                    "rendelesek": "12"
                                },
                                {
                                    "LOGIN": "laszlo2",
                                    "(No column name)": "Posta",
                                    "rendelesek": "6"
                                },
                                {
                                    "LOGIN": "laszlo2",
                                    "(No column name)": "Személy",
                                    "rendelesek": "7"
                                },
                                {
                                    "LOGIN": "laszlo2",
                                    "(No column name)": "részösszeg",
                                    "rendelesek": "25"
                                },
                                {
                                    "LOGIN": "LASZLOA",
                                    "(No column name)": "GLS",
                                    "rendelesek": "156"
                                },
                                {
                                    "LOGIN": "LASZLOA",
                                    "(No column name)": "Posta",
                                    "rendelesek": "136"
                                },
                                {
                                    "LOGIN": "LASZLOA",
                                    "(No column name)": "Személy",
                                    "rendelesek": "154"
                                },
                                {
                                    "LOGIN": "LASZLOA",
                                    "(No column name)": "részösszeg",
                                    "rendelesek": "446"
                                },
                                {
                                    "LOGIN": "LASZLON",
                                    "(No column name)": "GLS",
                                    "rendelesek": "126"
                                },
                                {
                                    "LOGIN": "LASZLON",
                                    "(No column name)": "Posta",
                                    "rendelesek": "131"
                                },
                                {
                                    "LOGIN": "LASZLON",
                                    "(No column name)": "Személy",
                                    "rendelesek": "143"
                                },
                                {
                                    "LOGIN": "LASZLON",
                                    "(No column name)": "részösszeg",
                                    "rendelesek": "400"
                                },
                                {
                                    "LOGIN": "maria1",
                                    "(No column name)": "GLS",
                                    "rendelesek": "4"
                                },
                                {
                                    "LOGIN": "maria1",
                                    "(No column name)": "Posta",
                                    "rendelesek": "5"
                                },
                                {
                                    "LOGIN": "maria1",
                                    "(No column name)": "Személy",
                                    "rendelesek": "1"
                                },
                                {
                                    "LOGIN": "maria1",
                                    "(No column name)": "részösszeg",
                                    "rendelesek": "10"
                                },
                                {
                                    "LOGIN": "MARKH",
                                    "(No column name)": "GLS",
                                    "rendelesek": "128"
                                },
                                {
                                    "LOGIN": "MARKH",
                                    "(No column name)": "Posta",
                                    "rendelesek": "142"
                                },
                                {
                                    "LOGIN": "MARKH",
                                    "(No column name)": "Személy",
                                    "rendelesek": "142"
                                },
                                {
                                    "LOGIN": "MARKH",
                                    "(No column name)": "részösszeg",
                                    "rendelesek": "412"
                                },
                                {
                                    "LOGIN": "marton",
                                    "(No column name)": "GLS",
                                    "rendelesek": "5"
                                },
                                {
                                    "LOGIN": "marton",
                                    "(No column name)": "Posta",
                                    "rendelesek": "4"
                                },
                                {
                                    "LOGIN": "marton",
                                    "(No column name)": "Személy",
                                    "rendelesek": "5"
                                },
                                {
                                    "LOGIN": "marton",
                                    "(No column name)": "részösszeg",
                                    "rendelesek": "14"
                                },
                                {
                                    "LOGIN": "MATEK",
                                    "(No column name)": "GLS",
                                    "rendelesek": "6"
                                },
                                {
                                    "LOGIN": "MATEK",
                                    "(No column name)": "Posta",
                                    "rendelesek": "10"
                                },
                                {
                                    "LOGIN": "MATEK",
                                    "(No column name)": "Személy",
                                    "rendelesek": "9"
                                },
                                {
                                    "LOGIN": "MATEK",
                                    "(No column name)": "részösszeg",
                                    "rendelesek": "25"
                                },
                                {
                                    "LOGIN": "matyas2",
                                    "(No column name)": "GLS",
                                    "rendelesek": "138"
                                },
                                {
                                    "LOGIN": "matyas2",
                                    "(No column name)": "Posta",
                                    "rendelesek": "131"
                                },
                                {
                                    "LOGIN": "matyas2",
                                    "(No column name)": "Személy",
                                    "rendelesek": "164"
                                },
                                {
                                    "LOGIN": "matyas2",
                                    "(No column name)": "részösszeg",
                                    "rendelesek": "433"
                                },
                                {
                                    "LOGIN": "MATYASS",
                                    "(No column name)": "GLS",
                                    "rendelesek": "4"
                                },
                                {
                                    "LOGIN": "MATYASS",
                                    "(No column name)": "Posta",
                                    "rendelesek": "5"
                                },
                                {
                                    "LOGIN": "MATYASS",
                                    "(No column name)": "Személy",
                                    "rendelesek": "3"
                                },
                                {
                                    "LOGIN": "MATYASS",
                                    "(No column name)": "részösszeg",
                                    "rendelesek": "12"
                                },
                                {
                                    "LOGIN": "MIHALYJ",
                                    "(No column name)": "GLS",
                                    "rendelesek": "3"
                                },
                                {
                                    "LOGIN": "MIHALYJ",
                                    "(No column name)": "Posta",
                                    "rendelesek": "4"
                                },
                                {
                                    "LOGIN": "MIHALYJ",
                                    "(No column name)": "Személy",
                                    "rendelesek": "6"
                                },
                                {
                                    "LOGIN": "MIHALYJ",
                                    "(No column name)": "részösszeg",
                                    "rendelesek": "13"
                                },
                                {
                                    "LOGIN": "miklos2",
                                    "(No column name)": "GLS",
                                    "rendelesek": "7"
                                },
                                {
                                    "LOGIN": "miklos2",
                                    "(No column name)": "Posta",
                                    "rendelesek": "4"
                                },
                                {
                                    "LOGIN": "miklos2",
                                    "(No column name)": "Személy",
                                    "rendelesek": "2"
                                },
                                {
                                    "LOGIN": "miklos2",
                                    "(No column name)": "részösszeg",
                                    "rendelesek": "13"
                                },
                                {
                                    "LOGIN": "MIKLOSB",
                                    "(No column name)": "GLS",
                                    "rendelesek": "6"
                                },
                                {
                                    "LOGIN": "MIKLOSB",
                                    "(No column name)": "Posta",
                                    "rendelesek": "1"
                                },
                                {
                                    "LOGIN": "MIKLOSB",
                                    "(No column name)": "Személy",
                                    "rendelesek": "8"
                                },
                                {
                                    "LOGIN": "MIKLOSB",
                                    "(No column name)": "részösszeg",
                                    "rendelesek": "15"
                                },
                                {
                                    "LOGIN": "MONIKAM",
                                    "(No column name)": "GLS",
                                    "rendelesek": "133"
                                },
                                {
                                    "LOGIN": "MONIKAM",
                                    "(No column name)": "Posta",
                                    "rendelesek": "151"
                                },
                                {
                                    "LOGIN": "MONIKAM",
                                    "(No column name)": "Személy",
                                    "rendelesek": "123"
                                },
                                {
                                    "LOGIN": "MONIKAM",
                                    "(No column name)": "részösszeg",
                                    "rendelesek": "407"
                                },
                                {
                                    "LOGIN": "NANDORF",
                                    "(No column name)": "GLS",
                                    "rendelesek": "147"
                                },
                                {
                                    "LOGIN": "NANDORF",
                                    "(No column name)": "Posta",
                                    "rendelesek": "139"
                                },
                                {
                                    "LOGIN": "NANDORF",
                                    "(No column name)": "Személy",
                                    "rendelesek": "134"
                                },
                                {
                                    "LOGIN": "NANDORF",
                                    "(No column name)": "részösszeg",
                                    "rendelesek": "420"
                                },
                                {
                                    "LOGIN": "nikolett3",
                                    "(No column name)": "GLS",
                                    "rendelesek": "4"
                                },
                                {
                                    "LOGIN": "nikolett3",
                                    "(No column name)": "Posta",
                                    "rendelesek": "3"
                                },
                                {
                                    "LOGIN": "nikolett3",
                                    "(No column name)": "Személy",
                                    "rendelesek": "10"
                                },
                                {
                                    "LOGIN": "nikolett3",
                                    "(No column name)": "részösszeg",
                                    "rendelesek": "17"
                                },
                                {
                                    "LOGIN": "nikoletta4",
                                    "(No column name)": "GLS",
                                    "rendelesek": "137"
                                },
                                {
                                    "LOGIN": "nikoletta4",
                                    "(No column name)": "Posta",
                                    "rendelesek": "158"
                                },
                                {
                                    "LOGIN": "nikoletta4",
                                    "(No column name)": "Személy",
                                    "rendelesek": "119"
                                },
                                {
                                    "LOGIN": "nikoletta4",
                                    "(No column name)": "részösszeg",
                                    "rendelesek": "414"
                                },
                                {
                                    "LOGIN": "NIKOLETTAT",
                                    "(No column name)": "GLS",
                                    "rendelesek": "13"
                                },
                                {
                                    "LOGIN": "NIKOLETTAT",
                                    "(No column name)": "Posta",
                                    "rendelesek": "7"
                                },
                                {
                                    "LOGIN": "NIKOLETTAT",
                                    "(No column name)": "Személy",
                                    "rendelesek": "5"
                                },
                                {
                                    "LOGIN": "NIKOLETTAT",
                                    "(No column name)": "részösszeg",
                                    "rendelesek": "25"
                                },
                                {
                                    "LOGIN": "norbert2",
                                    "(No column name)": "GLS",
                                    "rendelesek": "7"
                                },
                                {
                                    "LOGIN": "norbert2",
                                    "(No column name)": "Posta",
                                    "rendelesek": "4"
                                },
                                {
                                    "LOGIN": "norbert2",
                                    "(No column name)": "részösszeg",
                                    "rendelesek": "11"
                                },
                                {
                                    "LOGIN": "norbert4",
                                    "(No column name)": "GLS",
                                    "rendelesek": "1"
                                },
                                {
                                    "LOGIN": "norbert4",
                                    "(No column name)": "Posta",
                                    "rendelesek": "3"
                                },
                                {
                                    "LOGIN": "norbert4",
                                    "(No column name)": "Személy",
                                    "rendelesek": "9"
                                },
                                {
                                    "LOGIN": "norbert4",
                                    "(No column name)": "részösszeg",
                                    "rendelesek": "13"
                                },
                                {
                                    "LOGIN": "norbert5",
                                    "(No column name)": "GLS",
                                    "rendelesek": "1"
                                },
                                {
                                    "LOGIN": "norbert5",
                                    "(No column name)": "Posta",
                                    "rendelesek": "6"
                                },
                                {
                                    "LOGIN": "norbert5",
                                    "(No column name)": "Személy",
                                    "rendelesek": "9"
                                },
                                {
                                    "LOGIN": "norbert5",
                                    "(No column name)": "részösszeg",
                                    "rendelesek": "16"
                                },
                                {
                                    "LOGIN": "pal",
                                    "(No column name)": "GLS",
                                    "rendelesek": "152"
                                },
                                {
                                    "LOGIN": "pal",
                                    "(No column name)": "Posta",
                                    "rendelesek": "132"
                                },
                                {
                                    "LOGIN": "pal",
                                    "(No column name)": "Személy",
                                    "rendelesek": "154"
                                },
                                {
                                    "LOGIN": "pal",
                                    "(No column name)": "részösszeg",
                                    "rendelesek": "438"
                                },
                                {
                                    "LOGIN": "peter1",
                                    "(No column name)": "GLS",
                                    "rendelesek": "151"
                                },
                                {
                                    "LOGIN": "peter1",
                                    "(No column name)": "Posta",
                                    "rendelesek": "135"
                                },
                                {
                                    "LOGIN": "peter1",
                                    "(No column name)": "Személy",
                                    "rendelesek": "126"
                                },
                                {
                                    "LOGIN": "peter1",
                                    "(No column name)": "részösszeg",
                                    "rendelesek": "412"
                                },
                                {
                                    "LOGIN": "peter2",
                                    "(No column name)": "GLS",
                                    "rendelesek": "7"
                                },
                                {
                                    "LOGIN": "peter2",
                                    "(No column name)": "Posta",
                                    "rendelesek": "4"
                                },
                                {
                                    "LOGIN": "peter2",
                                    "(No column name)": "Személy",
                                    "rendelesek": "7"
                                },
                                {
                                    "LOGIN": "peter2",
                                    "(No column name)": "részösszeg",
                                    "rendelesek": "18"
                                },
                                {
                                    "LOGIN": "peter3",
                                    "(No column name)": "GLS",
                                    "rendelesek": "8"
                                },
                                {
                                    "LOGIN": "peter3",
                                    "(No column name)": "Posta",
                                    "rendelesek": "7"
                                },
                                {
                                    "LOGIN": "peter3",
                                    "(No column name)": "Személy",
                                    "rendelesek": "10"
                                },
                                {
                                    "LOGIN": "peter3",
                                    "(No column name)": "részösszeg",
                                    "rendelesek": "25"
                                },
                                {
                                    "LOGIN": "peter4",
                                    "(No column name)": "GLS",
                                    "rendelesek": "266"
                                },
                                {
                                    "LOGIN": "peter4",
                                    "(No column name)": "Posta",
                                    "rendelesek": "293"
                                },
                                {
                                    "LOGIN": "peter4",
                                    "(No column name)": "Személy",
                                    "rendelesek": "293"
                                },
                                {
                                    "LOGIN": "peter4",
                                    "(No column name)": "részösszeg",
                                    "rendelesek": "852"
                                },
                                {
                                    "LOGIN": "PETERB",
                                    "(No column name)": "GLS",
                                    "rendelesek": "2"
                                },
                                {
                                    "LOGIN": "PETERB",
                                    "(No column name)": "Posta",
                                    "rendelesek": "4"
                                },
                                {
                                    "LOGIN": "PETERB",
                                    "(No column name)": "Személy",
                                    "rendelesek": "9"
                                },
                                {
                                    "LOGIN": "PETERB",
                                    "(No column name)": "részösszeg",
                                    "rendelesek": "15"
                                },
                                {
                                    "LOGIN": "polla",
                                    "(No column name)": "GLS",
                                    "rendelesek": "9"
                                },
                                {
                                    "LOGIN": "polla",
                                    "(No column name)": "Posta",
                                    "rendelesek": "6"
                                },
                                {
                                    "LOGIN": "polla",
                                    "(No column name)": "Személy",
                                    "rendelesek": "7"
                                },
                                {
                                    "LOGIN": "polla",
                                    "(No column name)": "részösszeg",
                                    "rendelesek": "22"
                                },
                                {
                                    "LOGIN": "rajmond4",
                                    "(No column name)": "GLS",
                                    "rendelesek": "6"
                                },
                                {
                                    "LOGIN": "rajmond4",
                                    "(No column name)": "Posta",
                                    "rendelesek": "5"
                                },
                                {
                                    "LOGIN": "rajmond4",
                                    "(No column name)": "Személy",
                                    "rendelesek": "6"
                                },
                                {
                                    "LOGIN": "rajmond4",
                                    "(No column name)": "részösszeg",
                                    "rendelesek": "17"
                                },
                                {
                                    "LOGIN": "reka4",
                                    "(No column name)": "GLS",
                                    "rendelesek": "5"
                                },
                                {
                                    "LOGIN": "reka4",
                                    "(No column name)": "Posta",
                                    "rendelesek": "4"
                                },
                                {
                                    "LOGIN": "reka4",
                                    "(No column name)": "Személy",
                                    "rendelesek": "11"
                                },
                                {
                                    "LOGIN": "reka4",
                                    "(No column name)": "részösszeg",
                                    "rendelesek": "20"
                                },
                                {
                                    "LOGIN": "RENATAK",
                                    "(No column name)": "GLS",
                                    "rendelesek": "135"
                                },
                                {
                                    "LOGIN": "RENATAK",
                                    "(No column name)": "Posta",
                                    "rendelesek": "140"
                                },
                                {
                                    "LOGIN": "RENATAK",
                                    "(No column name)": "Személy",
                                    "rendelesek": "147"
                                },
                                {
                                    "LOGIN": "RENATAK",
                                    "(No column name)": "részösszeg",
                                    "rendelesek": "422"
                                },
                                {
                                    "LOGIN": "RENATAS",
                                    "(No column name)": "GLS",
                                    "rendelesek": "6"
                                },
                                {
                                    "LOGIN": "RENATAS",
                                    "(No column name)": "Posta",
                                    "rendelesek": "5"
                                },
                                {
                                    "LOGIN": "RENATAS",
                                    "(No column name)": "Személy",
                                    "rendelesek": "5"
                                },
                                {
                                    "LOGIN": "RENATAS",
                                    "(No column name)": "részösszeg",
                                    "rendelesek": "16"
                                },
                                {
                                    "LOGIN": "robert2",
                                    "(No column name)": "GLS",
                                    "rendelesek": "5"
                                },
                                {
                                    "LOGIN": "robert2",
                                    "(No column name)": "Posta",
                                    "rendelesek": "1"
                                },
                                {
                                    "LOGIN": "robert2",
                                    "(No column name)": "Személy",
                                    "rendelesek": "7"
                                },
                                {
                                    "LOGIN": "robert2",
                                    "(No column name)": "részösszeg",
                                    "rendelesek": "13"
                                },
                                {
                                    "LOGIN": "ROBERTI",
                                    "(No column name)": "GLS",
                                    "rendelesek": "5"
                                },
                                {
                                    "LOGIN": "ROBERTI",
                                    "(No column name)": "Posta",
                                    "rendelesek": "3"
                                },
                                {
                                    "LOGIN": "ROBERTI",
                                    "(No column name)": "Személy",
                                    "rendelesek": "5"
                                },
                                {
                                    "LOGIN": "ROBERTI",
                                    "(No column name)": "részösszeg",
                                    "rendelesek": "13"
                                },
                                {
                                    "LOGIN": "ROBERTP",
                                    "(No column name)": "GLS",
                                    "rendelesek": "8"
                                },
                                {
                                    "LOGIN": "ROBERTP",
                                    "(No column name)": "Posta",
                                    "rendelesek": "8"
                                },
                                {
                                    "LOGIN": "ROBERTP",
                                    "(No column name)": "Személy",
                                    "rendelesek": "10"
                                },
                                {
                                    "LOGIN": "ROBERTP",
                                    "(No column name)": "részösszeg",
                                    "rendelesek": "26"
                                },
                                {
                                    "LOGIN": "roland",
                                    "(No column name)": "GLS",
                                    "rendelesek": "132"
                                },
                                {
                                    "LOGIN": "roland",
                                    "(No column name)": "Posta",
                                    "rendelesek": "157"
                                },
                                {
                                    "LOGIN": "roland",
                                    "(No column name)": "Személy",
                                    "rendelesek": "125"
                                },
                                {
                                    "LOGIN": "roland",
                                    "(No column name)": "részösszeg",
                                    "rendelesek": "414"
                                },
                                {
                                    "LOGIN": "roland1",
                                    "(No column name)": "GLS",
                                    "rendelesek": "142"
                                },
                                {
                                    "LOGIN": "roland1",
                                    "(No column name)": "Posta",
                                    "rendelesek": "155"
                                },
                                {
                                    "LOGIN": "roland1",
                                    "(No column name)": "Személy",
                                    "rendelesek": "135"
                                },
                                {
                                    "LOGIN": "roland1",
                                    "(No column name)": "részösszeg",
                                    "rendelesek": "432"
                                },
                                {
                                    "LOGIN": "roza2",
                                    "(No column name)": "GLS",
                                    "rendelesek": "3"
                                },
                                {
                                    "LOGIN": "roza2",
                                    "(No column name)": "Posta",
                                    "rendelesek": "2"
                                },
                                {
                                    "LOGIN": "roza2",
                                    "(No column name)": "Személy",
                                    "rendelesek": "3"
                                },
                                {
                                    "LOGIN": "roza2",
                                    "(No column name)": "részösszeg",
                                    "rendelesek": "8"
                                },
                                {
                                    "LOGIN": "sandor",
                                    "(No column name)": "GLS",
                                    "rendelesek": "4"
                                },
                                {
                                    "LOGIN": "sandor",
                                    "(No column name)": "Posta",
                                    "rendelesek": "6"
                                },
                                {
                                    "LOGIN": "sandor",
                                    "(No column name)": "Személy",
                                    "rendelesek": "7"
                                },
                                {
                                    "LOGIN": "sandor",
                                    "(No column name)": "részösszeg",
                                    "rendelesek": "17"
                                },
                                {
                                    "LOGIN": "sandor3",
                                    "(No column name)": "GLS",
                                    "rendelesek": "4"
                                },
                                {
                                    "LOGIN": "sandor3",
                                    "(No column name)": "Posta",
                                    "rendelesek": "4"
                                },
                                {
                                    "LOGIN": "sandor3",
                                    "(No column name)": "Személy",
                                    "rendelesek": "6"
                                },
                                {
                                    "LOGIN": "sandor3",
                                    "(No column name)": "részösszeg",
                                    "rendelesek": "14"
                                },
                                {
                                    "LOGIN": "sandor4",
                                    "(No column name)": "GLS",
                                    "rendelesek": "4"
                                },
                                {
                                    "LOGIN": "sandor4",
                                    "(No column name)": "Posta",
                                    "rendelesek": "2"
                                },
                                {
                                    "LOGIN": "sandor4",
                                    "(No column name)": "Személy",
                                    "rendelesek": "5"
                                },
                                {
                                    "LOGIN": "sandor4",
                                    "(No column name)": "részösszeg",
                                    "rendelesek": "11"
                                },
                                {
                                    "LOGIN": "sara",
                                    "(No column name)": "GLS",
                                    "rendelesek": "4"
                                },
                                {
                                    "LOGIN": "sara",
                                    "(No column name)": "Posta",
                                    "rendelesek": "7"
                                },
                                {
                                    "LOGIN": "sara",
                                    "(No column name)": "Személy",
                                    "rendelesek": "9"
                                },
                                {
                                    "LOGIN": "sara",
                                    "(No column name)": "részösszeg",
                                    "rendelesek": "20"
                                },
                                {
                                    "LOGIN": "SEBASTIANF",
                                    "(No column name)": "GLS",
                                    "rendelesek": "6"
                                },
                                {
                                    "LOGIN": "SEBASTIANF",
                                    "(No column name)": "Posta",
                                    "rendelesek": "3"
                                },
                                {
                                    "LOGIN": "SEBASTIANF",
                                    "(No column name)": "Személy",
                                    "rendelesek": "6"
                                },
                                {
                                    "LOGIN": "SEBASTIANF",
                                    "(No column name)": "részösszeg",
                                    "rendelesek": "15"
                                },
                                {
                                    "LOGIN": "sebestyen",
                                    "(No column name)": "GLS",
                                    "rendelesek": "4"
                                },
                                {
                                    "LOGIN": "sebestyen",
                                    "(No column name)": "Posta",
                                    "rendelesek": "6"
                                },
                                {
                                    "LOGIN": "sebestyen",
                                    "(No column name)": "Személy",
                                    "rendelesek": "6"
                                },
                                {
                                    "LOGIN": "sebestyen",
                                    "(No column name)": "részösszeg",
                                    "rendelesek": "16"
                                },
                                {
                                    "LOGIN": "szabolcs",
                                    "(No column name)": "GLS",
                                    "rendelesek": "145"
                                },
                                {
                                    "LOGIN": "szabolcs",
                                    "(No column name)": "Posta",
                                    "rendelesek": "157"
                                },
                                {
                                    "LOGIN": "szabolcs",
                                    "(No column name)": "Személy",
                                    "rendelesek": "169"
                                },
                                {
                                    "LOGIN": "szabolcs",
                                    "(No column name)": "részösszeg",
                                    "rendelesek": "471"
                                },
                                {
                                    "LOGIN": "SZABOLCSM",
                                    "(No column name)": "GLS",
                                    "rendelesek": "126"
                                },
                                {
                                    "LOGIN": "SZABOLCSM",
                                    "(No column name)": "Posta",
                                    "rendelesek": "153"
                                },
                                {
                                    "LOGIN": "SZABOLCSM",
                                    "(No column name)": "Személy",
                                    "rendelesek": "129"
                                },
                                {
                                    "LOGIN": "SZABOLCSM",
                                    "(No column name)": "részösszeg",
                                    "rendelesek": "408"
                                },
                                {
                                    "LOGIN": "SZILARDS",
                                    "(No column name)": "GLS",
                                    "rendelesek": "144"
                                },
                                {
                                    "LOGIN": "SZILARDS",
                                    "(No column name)": "Posta",
                                    "rendelesek": "131"
                                },
                                {
                                    "LOGIN": "SZILARDS",
                                    "(No column name)": "Személy",
                                    "rendelesek": "111"
                                },
                                {
                                    "LOGIN": "SZILARDS",
                                    "(No column name)": "részösszeg",
                                    "rendelesek": "386"
                                },
                                {
                                    "LOGIN": "szilvia1",
                                    "(No column name)": "GLS",
                                    "rendelesek": "156"
                                },
                                {
                                    "LOGIN": "szilvia1",
                                    "(No column name)": "Posta",
                                    "rendelesek": "151"
                                },
                                {
                                    "LOGIN": "szilvia1",
                                    "(No column name)": "Személy",
                                    "rendelesek": "138"
                                },
                                {
                                    "LOGIN": "szilvia1",
                                    "(No column name)": "részösszeg",
                                    "rendelesek": "445"
                                },
                                {
                                    "LOGIN": "tamara2",
                                    "(No column name)": "GLS",
                                    "rendelesek": "6"
                                },
                                {
                                    "LOGIN": "tamara2",
                                    "(No column name)": "Posta",
                                    "rendelesek": "4"
                                },
                                {
                                    "LOGIN": "tamara2",
                                    "(No column name)": "Személy",
                                    "rendelesek": "3"
                                },
                                {
                                    "LOGIN": "tamara2",
                                    "(No column name)": "részösszeg",
                                    "rendelesek": "13"
                                },
                                {
                                    "LOGIN": "tamas",
                                    "(No column name)": "GLS",
                                    "rendelesek": "143"
                                },
                                {
                                    "LOGIN": "tamas",
                                    "(No column name)": "Posta",
                                    "rendelesek": "156"
                                },
                                {
                                    "LOGIN": "tamas",
                                    "(No column name)": "Személy",
                                    "rendelesek": "122"
                                },
                                {
                                    "LOGIN": "tamas",
                                    "(No column name)": "részösszeg",
                                    "rendelesek": "421"
                                },
                                {
                                    "LOGIN": "TAMASF",
                                    "(No column name)": "GLS",
                                    "rendelesek": "159"
                                },
                                {
                                    "LOGIN": "TAMASF",
                                    "(No column name)": "Posta",
                                    "rendelesek": "145"
                                },
                                {
                                    "LOGIN": "TAMASF",
                                    "(No column name)": "Személy",
                                    "rendelesek": "129"
                                },
                                {
                                    "LOGIN": "TAMASF",
                                    "(No column name)": "részösszeg",
                                    "rendelesek": "433"
                                },
                                {
                                    "LOGIN": "tibor",
                                    "(No column name)": "GLS",
                                    "rendelesek": "115"
                                },
                                {
                                    "LOGIN": "tibor",
                                    "(No column name)": "Posta",
                                    "rendelesek": "129"
                                },
                                {
                                    "LOGIN": "tibor",
                                    "(No column name)": "Személy",
                                    "rendelesek": "130"
                                },
                                {
                                    "LOGIN": "tibor",
                                    "(No column name)": "részösszeg",
                                    "rendelesek": "374"
                                },
                                {
                                    "LOGIN": "tibor2",
                                    "(No column name)": "GLS",
                                    "rendelesek": "7"
                                },
                                {
                                    "LOGIN": "tibor2",
                                    "(No column name)": "Posta",
                                    "rendelesek": "7"
                                },
                                {
                                    "LOGIN": "tibor2",
                                    "(No column name)": "Személy",
                                    "rendelesek": "11"
                                },
                                {
                                    "LOGIN": "tibor2",
                                    "(No column name)": "részösszeg",
                                    "rendelesek": "25"
                                },
                                {
                                    "LOGIN": "tihamer",
                                    "(No column name)": "GLS",
                                    "rendelesek": "9"
                                },
                                {
                                    "LOGIN": "tihamer",
                                    "(No column name)": "Posta",
                                    "rendelesek": "6"
                                },
                                {
                                    "LOGIN": "tihamer",
                                    "(No column name)": "Személy",
                                    "rendelesek": "5"
                                },
                                {
                                    "LOGIN": "tihamer",
                                    "(No column name)": "részösszeg",
                                    "rendelesek": "20"
                                },
                                {
                                    "LOGIN": "timea",
                                    "(No column name)": "GLS",
                                    "rendelesek": "14"
                                },
                                {
                                    "LOGIN": "timea",
                                    "(No column name)": "Posta",
                                    "rendelesek": "23"
                                },
                                {
                                    "LOGIN": "timea",
                                    "(No column name)": "Személy",
                                    "rendelesek": "18"
                                },
                                {
                                    "LOGIN": "timea",
                                    "(No column name)": "részösszeg",
                                    "rendelesek": "55"
                                },
                                {
                                    "LOGIN": "timea2",
                                    "(No column name)": "GLS",
                                    "rendelesek": "1"
                                },
                                {
                                    "LOGIN": "timea2",
                                    "(No column name)": "Posta",
                                    "rendelesek": "5"
                                },
                                {
                                    "LOGIN": "timea2",
                                    "(No column name)": "Személy",
                                    "rendelesek": "10"
                                },
                                {
                                    "LOGIN": "timea2",
                                    "(No column name)": "részösszeg",
                                    "rendelesek": "16"
                                },
                                {
                                    "LOGIN": "tunde",
                                    "(No column name)": "GLS",
                                    "rendelesek": "6"
                                },
                                {
                                    "LOGIN": "tunde",
                                    "(No column name)": "Posta",
                                    "rendelesek": "6"
                                },
                                {
                                    "LOGIN": "tunde",
                                    "(No column name)": "Személy",
                                    "rendelesek": "4"
                                },
                                {
                                    "LOGIN": "tunde",
                                    "(No column name)": "részösszeg",
                                    "rendelesek": "16"
                                },
                                {
                                    "LOGIN": "valentin",
                                    "(No column name)": "GLS",
                                    "rendelesek": "5"
                                },
                                {
                                    "LOGIN": "valentin",
                                    "(No column name)": "Posta",
                                    "rendelesek": "5"
                                },
                                {
                                    "LOGIN": "valentin",
                                    "(No column name)": "Személy",
                                    "rendelesek": "3"
                                },
                                {
                                    "LOGIN": "valentin",
                                    "(No column name)": "részösszeg",
                                    "rendelesek": "13"
                                },
                                {
                                    "LOGIN": "veronika4",
                                    "(No column name)": "GLS",
                                    "rendelesek": "5"
                                },
                                {
                                    "LOGIN": "veronika4",
                                    "(No column name)": "Posta",
                                    "rendelesek": "6"
                                },
                                {
                                    "LOGIN": "veronika4",
                                    "(No column name)": "Személy",
                                    "rendelesek": "7"
                                },
                                {
                                    "LOGIN": "veronika4",
                                    "(No column name)": "részösszeg",
                                    "rendelesek": "18"
                                },
                                {
                                    "LOGIN": "VIKTORIAU",
                                    "(No column name)": "GLS",
                                    "rendelesek": "5"
                                },
                                {
                                    "LOGIN": "VIKTORIAU",
                                    "(No column name)": "Posta",
                                    "rendelesek": "4"
                                },
                                {
                                    "LOGIN": "VIKTORIAU",
                                    "(No column name)": "Személy",
                                    "rendelesek": "5"
                                },
                                {
                                    "LOGIN": "VIKTORIAU",
                                    "(No column name)": "részösszeg",
                                    "rendelesek": "14"
                                },
                                {
                                    "LOGIN": "VIKTORK",
                                    "(No column name)": "GLS",
                                    "rendelesek": "8"
                                },
                                {
                                    "LOGIN": "VIKTORK",
                                    "(No column name)": "Posta",
                                    "rendelesek": "6"
                                },
                                {
                                    "LOGIN": "VIKTORK",
                                    "(No column name)": "Személy",
                                    "rendelesek": "6"
                                },
                                {
                                    "LOGIN": "VIKTORK",
                                    "(No column name)": "részösszeg",
                                    "rendelesek": "20"
                                },
                                {
                                    "LOGIN": "vivien3",
                                    "(No column name)": "GLS",
                                    "rendelesek": "9"
                                },
                                {
                                    "LOGIN": "vivien3",
                                    "(No column name)": "Posta",
                                    "rendelesek": "6"
                                },
                                {
                                    "LOGIN": "vivien3",
                                    "(No column name)": "Személy",
                                    "rendelesek": "7"
                                },
                                {
                                    "LOGIN": "vivien3",
                                    "(No column name)": "részösszeg",
                                    "rendelesek": "22"
                                },
                                {
                                    "LOGIN": "zoltan",
                                    "(No column name)": "GLS",
                                    "rendelesek": "5"
                                },
                                {
                                    "LOGIN": "zoltan",
                                    "(No column name)": "Posta",
                                    "rendelesek": "3"
                                },
                                {
                                    "LOGIN": "zoltan",
                                    "(No column name)": "Személy",
                                    "rendelesek": "7"
                                },
                                {
                                    "LOGIN": "zoltan",
                                    "(No column name)": "részösszeg",
                                    "rendelesek": "15"
                                },
                                {
                                    "LOGIN": "zoltan4",
                                    "(No column name)": "GLS",
                                    "rendelesek": "129"
                                },
                                {
                                    "LOGIN": "zoltan4",
                                    "(No column name)": "Posta",
                                    "rendelesek": "124"
                                },
                                {
                                    "LOGIN": "zoltan4",
                                    "(No column name)": "Személy",
                                    "rendelesek": "171"
                                },
                                {
                                    "LOGIN": "zoltan4",
                                    "(No column name)": "részösszeg",
                                    "rendelesek": "424"
                                },
                                {
                                    "LOGIN": "ZOLTANP",
                                    "(No column name)": "GLS",
                                    "rendelesek": "6"
                                },
                                {
                                    "LOGIN": "ZOLTANP",
                                    "(No column name)": "Posta",
                                    "rendelesek": "3"
                                },
                                {
                                    "LOGIN": "ZOLTANP",
                                    "(No column name)": "Személy",
                                    "rendelesek": "4"
                                },
                                {
                                    "LOGIN": "ZOLTANP",
                                    "(No column name)": "részösszeg",
                                    "rendelesek": "13"
                                },
                                {
                                    "LOGIN": "ZOLTANT",
                                    "(No column name)": "GLS",
                                    "rendelesek": "127"
                                },
                                {
                                    "LOGIN": "ZOLTANT",
                                    "(No column name)": "Posta",
                                    "rendelesek": "107"
                                },
                                {
                                    "LOGIN": "ZOLTANT",
                                    "(No column name)": "Személy",
                                    "rendelesek": "123"
                                },
                                {
                                    "LOGIN": "ZOLTANT",
                                    "(No column name)": "részösszeg",
                                    "rendelesek": "357"
                                },
                                {
                                    "LOGIN": "zsofi1",
                                    "(No column name)": "GLS",
                                    "rendelesek": "7"
                                },
                                {
                                    "LOGIN": "zsofi1",
                                    "(No column name)": "Posta",
                                    "rendelesek": "6"
                                },
                                {
                                    "LOGIN": "zsofi1",
                                    "(No column name)": "Személy",
                                    "rendelesek": "6"
                                },
                                {
                                    "LOGIN": "zsofi1",
                                    "(No column name)": "részösszeg",
                                    "rendelesek": "19"
                                },
                                {
                                    "LOGIN": "zsolt1",
                                    "(No column name)": "GLS",
                                    "rendelesek": "11"
                                },
                                {
                                    "LOGIN": "zsolt1",
                                    "(No column name)": "Posta",
                                    "rendelesek": "6"
                                },
                                {
                                    "LOGIN": "zsolt1",
                                    "(No column name)": "Személy",
                                    "rendelesek": "3"
                                },
                                {
                                    "LOGIN": "zsolt1",
                                    "(No column name)": "részösszeg",
                                    "rendelesek": "20"
                                },
                                {
                                    "LOGIN": "ZSOLTJ",
                                    "(No column name)": "GLS",
                                    "rendelesek": "1"
                                },
                                {
                                    "LOGIN": "ZSOLTJ",
                                    "(No column name)": "Posta",
                                    "rendelesek": "8"
                                },
                                {
                                    "LOGIN": "ZSOLTJ",
                                    "(No column name)": "Személy",
                                    "rendelesek": "9"
                                },
                                {
                                    "LOGIN": "ZSOLTJ",
                                    "(No column name)": "részösszeg",
                                    "rendelesek": "18"
                                },
                                {
                                    "LOGIN": "zsuzsa",
                                    "(No column name)": "GLS",
                                    "rendelesek": "8"
                                },
                                {
                                    "LOGIN": "zsuzsa",
                                    "(No column name)": "Posta",
                                    "rendelesek": "5"
                                },
                                {
                                    "LOGIN": "zsuzsa",
                                    "(No column name)": "Személy",
                                    "rendelesek": "3"
                                },
                                {
                                    "LOGIN": "zsuzsa",
                                    "(No column name)": "részösszeg",
                                    "rendelesek": "16"
                                },
                                {
                                    "LOGIN": "zsuzsa3",
                                    "(No column name)": "GLS",
                                    "rendelesek": "5"
                                },
                                {
                                    "LOGIN": "zsuzsa3",
                                    "(No column name)": "Posta",
                                    "rendelesek": "5"
                                },
                                {
                                    "LOGIN": "zsuzsa3",
                                    "(No column name)": "Személy",
                                    "rendelesek": "6"
                                },
                                {
                                    "LOGIN": "zsuzsa3",
                                    "(No column name)": "részösszeg",
                                    "rendelesek": "16"
                                },
                                {
                                    "LOGIN": "zsuzsanna",
                                    "(No column name)": "GLS",
                                    "rendelesek": "7"
                                },
                                {
                                    "LOGIN": "zsuzsanna",
                                    "(No column name)": "Posta",
                                    "rendelesek": "5"
                                },
                                {
                                    "LOGIN": "zsuzsanna",
                                    "(No column name)": "Személy",
                                    "rendelesek": "3"
                                },
                                {
                                    "LOGIN": "zsuzsanna",
                                    "(No column name)": "részösszeg",
                                    "rendelesek": "15"
                                },
                                {
                                    "LOGIN": "ZSUZSAV",
                                    "(No column name)": "GLS",
                                    "rendelesek": "139"
                                },
                                {
                                    "LOGIN": "ZSUZSAV",
                                    "(No column name)": "Posta",
                                    "rendelesek": "139"
                                },
                                {
                                    "LOGIN": "ZSUZSAV",
                                    "(No column name)": "Személy",
                                    "rendelesek": "142"
                                },
                                {
                                    "LOGIN": "ZSUZSAV",
                                    "(No column name)": "részösszeg",
                                    "rendelesek": "420"
                                },
                                {
                                    "LOGIN": "NULL",
                                    "(No column name)": "részösszeg",
                                    "rendelesek": "28085"
                                }
                            ]
                        },
                        "text/html": [
                            "<table>",
                            "<tr><th>LOGIN</th><th>(No column name)</th><th>rendelesek</th></tr>",
                            "<tr><td>adam1</td><td>GLS</td><td>129</td></tr>",
                            "<tr><td>adam1</td><td>Posta</td><td>132</td></tr>",
                            "<tr><td>adam1</td><td>Személy</td><td>131</td></tr>",
                            "<tr><td>adam1</td><td>részösszeg</td><td>392</td></tr>",
                            "<tr><td>adam3</td><td>GLS</td><td>10</td></tr>",
                            "<tr><td>adam3</td><td>Posta</td><td>3</td></tr>",
                            "<tr><td>adam3</td><td>Személy</td><td>2</td></tr>",
                            "<tr><td>adam3</td><td>részösszeg</td><td>15</td></tr>",
                            "<tr><td>adam4</td><td>GLS</td><td>12</td></tr>",
                            "<tr><td>adam4</td><td>Posta</td><td>6</td></tr>",
                            "<tr><td>adam4</td><td>Személy</td><td>11</td></tr>",
                            "<tr><td>adam4</td><td>részösszeg</td><td>29</td></tr>",
                            "<tr><td>agnes</td><td>GLS</td><td>144</td></tr>",
                            "<tr><td>agnes</td><td>Posta</td><td>130</td></tr>",
                            "<tr><td>agnes</td><td>Személy</td><td>144</td></tr>",
                            "<tr><td>agnes</td><td>részösszeg</td><td>418</td></tr>",
                            "<tr><td>agnes3</td><td>GLS</td><td>148</td></tr>",
                            "<tr><td>agnes3</td><td>Posta</td><td>146</td></tr>",
                            "<tr><td>agnes3</td><td>Személy</td><td>136</td></tr>",
                            "<tr><td>agnes3</td><td>részösszeg</td><td>430</td></tr>",
                            "<tr><td>AGNESH</td><td>GLS</td><td>2</td></tr>",
                            "<tr><td>AGNESH</td><td>Posta</td><td>3</td></tr>",
                            "<tr><td>AGNESH</td><td>Személy</td><td>6</td></tr>",
                            "<tr><td>AGNESH</td><td>részösszeg</td><td>11</td></tr>",
                            "<tr><td>AGNESK</td><td>GLS</td><td>1</td></tr>",
                            "<tr><td>AGNESK</td><td>Posta</td><td>7</td></tr>",
                            "<tr><td>AGNESK</td><td>Személy</td><td>7</td></tr>",
                            "<tr><td>AGNESK</td><td>részösszeg</td><td>15</td></tr>",
                            "<tr><td>akos</td><td>GLS</td><td>146</td></tr>",
                            "<tr><td>akos</td><td>Posta</td><td>143</td></tr>",
                            "<tr><td>akos</td><td>Személy</td><td>140</td></tr>",
                            "<tr><td>akos</td><td>részösszeg</td><td>429</td></tr>",
                            "<tr><td>aladar</td><td>GLS</td><td>156</td></tr>",
                            "<tr><td>aladar</td><td>Posta</td><td>134</td></tr>",
                            "<tr><td>aladar</td><td>Személy</td><td>118</td></tr>",
                            "<tr><td>aladar</td><td>részösszeg</td><td>408</td></tr>",
                            "<tr><td>alexandra</td><td>GLS</td><td>5</td></tr>",
                            "<tr><td>alexandra</td><td>Posta</td><td>9</td></tr>",
                            "<tr><td>alexandra</td><td>Személy</td><td>5</td></tr>",
                            "<tr><td>alexandra</td><td>részösszeg</td><td>19</td></tr>",
                            "<tr><td>andi</td><td>GLS</td><td>7</td></tr>",
                            "<tr><td>andi</td><td>Posta</td><td>4</td></tr>",
                            "<tr><td>andi</td><td>Személy</td><td>7</td></tr>",
                            "<tr><td>andi</td><td>részösszeg</td><td>18</td></tr>",
                            "<tr><td>andras2</td><td>GLS</td><td>4</td></tr>",
                            "<tr><td>andras2</td><td>Posta</td><td>7</td></tr>",
                            "<tr><td>andras2</td><td>Személy</td><td>11</td></tr>",
                            "<tr><td>andras2</td><td>részösszeg</td><td>22</td></tr>",
                            "<tr><td>andras21</td><td>GLS</td><td>140</td></tr>",
                            "<tr><td>andras21</td><td>Posta</td><td>124</td></tr>",
                            "<tr><td>andras21</td><td>Személy</td><td>126</td></tr>",
                            "<tr><td>andras21</td><td>részösszeg</td><td>390</td></tr>",
                            "<tr><td>andras3</td><td>GLS</td><td>3</td></tr>",
                            "<tr><td>andras3</td><td>Posta</td><td>1</td></tr>",
                            "<tr><td>andras3</td><td>Személy</td><td>5</td></tr>",
                            "<tr><td>andras3</td><td>részösszeg</td><td>9</td></tr>",
                            "<tr><td>andras4</td><td>GLS</td><td>4</td></tr>",
                            "<tr><td>andras4</td><td>Posta</td><td>4</td></tr>",
                            "<tr><td>andras4</td><td>Személy</td><td>4</td></tr>",
                            "<tr><td>andras4</td><td>részösszeg</td><td>12</td></tr>",
                            "<tr><td>andras41</td><td>GLS</td><td>149</td></tr>",
                            "<tr><td>andras41</td><td>Posta</td><td>137</td></tr>",
                            "<tr><td>andras41</td><td>Személy</td><td>133</td></tr>",
                            "<tr><td>andras41</td><td>részösszeg</td><td>419</td></tr>",
                            "<tr><td>ANDRASE</td><td>GLS</td><td>159</td></tr>",
                            "<tr><td>ANDRASE</td><td>Posta</td><td>141</td></tr>",
                            "<tr><td>ANDRASE</td><td>Személy</td><td>136</td></tr>",
                            "<tr><td>ANDRASE</td><td>részösszeg</td><td>436</td></tr>",
                            "<tr><td>ANDRASN</td><td>GLS</td><td>10</td></tr>",
                            "<tr><td>ANDRASN</td><td>Posta</td><td>9</td></tr>",
                            "<tr><td>ANDRASN</td><td>Személy</td><td>5</td></tr>",
                            "<tr><td>ANDRASN</td><td>részösszeg</td><td>24</td></tr>",
                            "<tr><td>andrea</td><td>GLS</td><td>12</td></tr>",
                            "<tr><td>andrea</td><td>Posta</td><td>4</td></tr>",
                            "<tr><td>andrea</td><td>Személy</td><td>8</td></tr>",
                            "<tr><td>andrea</td><td>részösszeg</td><td>24</td></tr>",
                            "<tr><td>andrea3</td><td>GLS</td><td>131</td></tr>",
                            "<tr><td>andrea3</td><td>Posta</td><td>136</td></tr>",
                            "<tr><td>andrea3</td><td>Személy</td><td>146</td></tr>",
                            "<tr><td>andrea3</td><td>részösszeg</td><td>413</td></tr>",
                            "<tr><td>andrea4</td><td>GLS</td><td>7</td></tr>",
                            "<tr><td>andrea4</td><td>Posta</td><td>4</td></tr>",
                            "<tr><td>andrea4</td><td>Személy</td><td>7</td></tr>",
                            "<tr><td>andrea4</td><td>részösszeg</td><td>18</td></tr>",
                            "<tr><td>ANDREAT</td><td>GLS</td><td>3</td></tr>",
                            "<tr><td>ANDREAT</td><td>Posta</td><td>6</td></tr>",
                            "<tr><td>ANDREAT</td><td>Személy</td><td>12</td></tr>",
                            "<tr><td>ANDREAT</td><td>részösszeg</td><td>21</td></tr>",
                            "<tr><td>anett3</td><td>GLS</td><td>3</td></tr>",
                            "<tr><td>anett3</td><td>Posta</td><td>6</td></tr>",
                            "<tr><td>anett3</td><td>Személy</td><td>9</td></tr>",
                            "<tr><td>anett3</td><td>részösszeg</td><td>18</td></tr>",
                            "<tr><td>aniko</td><td>GLS</td><td>128</td></tr>",
                            "<tr><td>aniko</td><td>Posta</td><td>137</td></tr>",
                            "<tr><td>aniko</td><td>Személy</td><td>138</td></tr>",
                            "<tr><td>aniko</td><td>részösszeg</td><td>403</td></tr>",
                            "<tr><td>aniko4</td><td>GLS</td><td>6</td></tr>",
                            "<tr><td>aniko4</td><td>Posta</td><td>6</td></tr>",
                            "<tr><td>aniko4</td><td>Személy</td><td>3</td></tr>",
                            "<tr><td>aniko4</td><td>részösszeg</td><td>15</td></tr>",
                            "<tr><td>ANIKOS</td><td>GLS</td><td>128</td></tr>",
                            "<tr><td>ANIKOS</td><td>Posta</td><td>126</td></tr>",
                            "<tr><td>ANIKOS</td><td>Személy</td><td>150</td></tr>",
                            "<tr><td>ANIKOS</td><td>részösszeg</td><td>404</td></tr>",
                            "<tr><td>anita</td><td>GLS</td><td>5</td></tr>",
                            "<tr><td>anita</td><td>Posta</td><td>2</td></tr>",
                            "<tr><td>anita</td><td>Személy</td><td>5</td></tr>",
                            "<tr><td>anita</td><td>részösszeg</td><td>12</td></tr>",
                            "<tr><td>annamaria1</td><td>GLS</td><td>5</td></tr>",
                            "<tr><td>annamaria1</td><td>Posta</td><td>4</td></tr>",
                            "<tr><td>annamaria1</td><td>Személy</td><td>7</td></tr>",
                            "<tr><td>annamaria1</td><td>részösszeg</td><td>16</td></tr>",
                            "<tr><td>ANNAMARIAR</td><td>GLS</td><td>8</td></tr>",
                            "<tr><td>ANNAMARIAR</td><td>Posta</td><td>2</td></tr>",
                            "<tr><td>ANNAMARIAR</td><td>Személy</td><td>3</td></tr>",
                            "<tr><td>ANNAMARIAR</td><td>részösszeg</td><td>13</td></tr>",
                            "<tr><td>aron2</td><td>GLS</td><td>132</td></tr>",
                            "<tr><td>aron2</td><td>Posta</td><td>133</td></tr>",
                            "<tr><td>aron2</td><td>Személy</td><td>144</td></tr>",
                            "<tr><td>aron2</td><td>részösszeg</td><td>409</td></tr>",
                            "<tr><td>ARONK</td><td>GLS</td><td>155</td></tr>",
                            "<tr><td>ARONK</td><td>Posta</td><td>120</td></tr>",
                            "<tr><td>ARONK</td><td>Személy</td><td>155</td></tr>",
                            "<tr><td>ARONK</td><td>részösszeg</td><td>430</td></tr>",
                            "<tr><td>arpad2</td><td>GLS</td><td>6</td></tr>",
                            "<tr><td>arpad2</td><td>Posta</td><td>1</td></tr>",
                            "<tr><td>arpad2</td><td>Személy</td><td>10</td></tr>",
                            "<tr><td>arpad2</td><td>részösszeg</td><td>17</td></tr>",
                            "<tr><td>ARPADH</td><td>GLS</td><td>6</td></tr>",
                            "<tr><td>ARPADH</td><td>Posta</td><td>3</td></tr>",
                            "<tr><td>ARPADH</td><td>Személy</td><td>5</td></tr>",
                            "<tr><td>ARPADH</td><td>részösszeg</td><td>14</td></tr>",
                            "<tr><td>ARPADM</td><td>GLS</td><td>6</td></tr>",
                            "<tr><td>ARPADM</td><td>Posta</td><td>3</td></tr>",
                            "<tr><td>ARPADM</td><td>Személy</td><td>7</td></tr>",
                            "<tr><td>ARPADM</td><td>részösszeg</td><td>16</td></tr>",
                            "<tr><td>attila1</td><td>GLS</td><td>5</td></tr>",
                            "<tr><td>attila1</td><td>Posta</td><td>7</td></tr>",
                            "<tr><td>attila1</td><td>Személy</td><td>6</td></tr>",
                            "<tr><td>attila1</td><td>részösszeg</td><td>18</td></tr>",
                            "<tr><td>attila4</td><td>GLS</td><td>135</td></tr>",
                            "<tr><td>attila4</td><td>Posta</td><td>125</td></tr>",
                            "<tr><td>attila4</td><td>Személy</td><td>141</td></tr>",
                            "<tr><td>attila4</td><td>részösszeg</td><td>401</td></tr>",
                            "<tr><td>ATTILAO</td><td>GLS</td><td>4</td></tr>",
                            "<tr><td>ATTILAO</td><td>Posta</td><td>4</td></tr>",
                            "<tr><td>ATTILAO</td><td>Személy</td><td>6</td></tr>",
                            "<tr><td>ATTILAO</td><td>részösszeg</td><td>14</td></tr>",
                            "<tr><td>balazs1</td><td>GLS</td><td>128</td></tr>",
                            "<tr><td>balazs1</td><td>Posta</td><td>136</td></tr>",
                            "<tr><td>balazs1</td><td>Személy</td><td>155</td></tr>",
                            "<tr><td>balazs1</td><td>részösszeg</td><td>419</td></tr>",
                            "<tr><td>balazs2</td><td>GLS</td><td>5</td></tr>",
                            "<tr><td>balazs2</td><td>Posta</td><td>7</td></tr>",
                            "<tr><td>balazs2</td><td>Személy</td><td>5</td></tr>",
                            "<tr><td>balazs2</td><td>részösszeg</td><td>17</td></tr>",
                            "<tr><td>balazs3</td><td>GLS</td><td>6</td></tr>",
                            "<tr><td>balazs3</td><td>Posta</td><td>6</td></tr>",
                            "<tr><td>balazs3</td><td>Személy</td><td>3</td></tr>",
                            "<tr><td>balazs3</td><td>részösszeg</td><td>15</td></tr>",
                            "<tr><td>balint</td><td>GLS</td><td>10</td></tr>",
                            "<tr><td>balint</td><td>Posta</td><td>4</td></tr>",
                            "<tr><td>balint</td><td>Személy</td><td>2</td></tr>",
                            "<tr><td>balint</td><td>részösszeg</td><td>16</td></tr>",
                            "<tr><td>balint1</td><td>GLS</td><td>158</td></tr>",
                            "<tr><td>balint1</td><td>Posta</td><td>152</td></tr>",
                            "<tr><td>balint1</td><td>Személy</td><td>152</td></tr>",
                            "<tr><td>balint1</td><td>részösszeg</td><td>462</td></tr>",
                            "<tr><td>balint2</td><td>GLS</td><td>8</td></tr>",
                            "<tr><td>balint2</td><td>Posta</td><td>6</td></tr>",
                            "<tr><td>balint2</td><td>Személy</td><td>3</td></tr>",
                            "<tr><td>balint2</td><td>részösszeg</td><td>17</td></tr>",
                            "<tr><td>balu</td><td>GLS</td><td>127</td></tr>",
                            "<tr><td>balu</td><td>Posta</td><td>137</td></tr>",
                            "<tr><td>balu</td><td>Személy</td><td>123</td></tr>",
                            "<tr><td>balu</td><td>részösszeg</td><td>387</td></tr>",
                            "<tr><td>BEATRIXK</td><td>GLS</td><td>135</td></tr>",
                            "<tr><td>BEATRIXK</td><td>Posta</td><td>155</td></tr>",
                            "<tr><td>BEATRIXK</td><td>Személy</td><td>145</td></tr>",
                            "<tr><td>BEATRIXK</td><td>részösszeg</td><td>435</td></tr>",
                            "<tr><td>BEATRIXS</td><td>GLS</td><td>146</td></tr>",
                            "<tr><td>BEATRIXS</td><td>Posta</td><td>141</td></tr>",
                            "<tr><td>BEATRIXS</td><td>Személy</td><td>133</td></tr>",
                            "<tr><td>BEATRIXS</td><td>részösszeg</td><td>420</td></tr>",
                            "<tr><td>BELAF</td><td>GLS</td><td>11</td></tr>",
                            "<tr><td>BELAF</td><td>Posta</td><td>2</td></tr>",
                            "<tr><td>BELAF</td><td>Személy</td><td>5</td></tr>",
                            "<tr><td>BELAF</td><td>részösszeg</td><td>18</td></tr>",
                            "<tr><td>bence</td><td>GLS</td><td>4</td></tr>",
                            "<tr><td>bence</td><td>Posta</td><td>6</td></tr>",
                            "<tr><td>bence</td><td>Személy</td><td>8</td></tr>",
                            "<tr><td>bence</td><td>részösszeg</td><td>18</td></tr>",
                            "<tr><td>BENCEB</td><td>GLS</td><td>5</td></tr>",
                            "<tr><td>BENCEB</td><td>Posta</td><td>7</td></tr>",
                            "<tr><td>BENCEB</td><td>Személy</td><td>5</td></tr>",
                            "<tr><td>BENCEB</td><td>részösszeg</td><td>17</td></tr>",
                            "<tr><td>bernadett1</td><td>GLS</td><td>10</td></tr>",
                            "<tr><td>bernadett1</td><td>Posta</td><td>5</td></tr>",
                            "<tr><td>bernadett1</td><td>Személy</td><td>5</td></tr>",
                            "<tr><td>bernadett1</td><td>részösszeg</td><td>20</td></tr>",
                            "<tr><td>bernadett2</td><td>GLS</td><td>6</td></tr>",
                            "<tr><td>bernadett2</td><td>Posta</td><td>2</td></tr>",
                            "<tr><td>bernadett2</td><td>Személy</td><td>7</td></tr>",
                            "<tr><td>bernadett2</td><td>részösszeg</td><td>15</td></tr>",
                            "<tr><td>BERNADETTO</td><td>GLS</td><td>7</td></tr>",
                            "<tr><td>BERNADETTO</td><td>Posta</td><td>2</td></tr>",
                            "<tr><td>BERNADETTO</td><td>Személy</td><td>7</td></tr>",
                            "<tr><td>BERNADETTO</td><td>részösszeg</td><td>16</td></tr>",
                            "<tr><td>bertalan</td><td>GLS</td><td>128</td></tr>",
                            "<tr><td>bertalan</td><td>Posta</td><td>124</td></tr>",
                            "<tr><td>bertalan</td><td>Személy</td><td>101</td></tr>",
                            "<tr><td>bertalan</td><td>részösszeg</td><td>353</td></tr>",
                            "<tr><td>brigitta</td><td>GLS</td><td>137</td></tr>",
                            "<tr><td>brigitta</td><td>Posta</td><td>137</td></tr>",
                            "<tr><td>brigitta</td><td>Személy</td><td>119</td></tr>",
                            "<tr><td>brigitta</td><td>részösszeg</td><td>393</td></tr>",
                            "<tr><td>brigitta3</td><td>GLS</td><td>144</td></tr>",
                            "<tr><td>brigitta3</td><td>Posta</td><td>130</td></tr>",
                            "<tr><td>brigitta3</td><td>Személy</td><td>139</td></tr>",
                            "<tr><td>brigitta3</td><td>részösszeg</td><td>413</td></tr>",
                            "<tr><td>csongor3</td><td>GLS</td><td>5</td></tr>",
                            "<tr><td>csongor3</td><td>Posta</td><td>2</td></tr>",
                            "<tr><td>csongor3</td><td>Személy</td><td>8</td></tr>",
                            "<tr><td>csongor3</td><td>részösszeg</td><td>15</td></tr>",
                            "<tr><td>dani</td><td>GLS</td><td>5</td></tr>",
                            "<tr><td>dani</td><td>Személy</td><td>8</td></tr>",
                            "<tr><td>dani</td><td>részösszeg</td><td>13</td></tr>",
                            "<tr><td>daniel</td><td>GLS</td><td>7</td></tr>",
                            "<tr><td>daniel</td><td>Posta</td><td>2</td></tr>",
                            "<tr><td>daniel</td><td>Személy</td><td>4</td></tr>",
                            "<tr><td>daniel</td><td>részösszeg</td><td>13</td></tr>",
                            "<tr><td>daniel1</td><td>GLS</td><td>156</td></tr>",
                            "<tr><td>daniel1</td><td>Posta</td><td>131</td></tr>",
                            "<tr><td>daniel1</td><td>Személy</td><td>132</td></tr>",
                            "<tr><td>daniel1</td><td>részösszeg</td><td>419</td></tr>",
                            "<tr><td>david</td><td>GLS</td><td>161</td></tr>",
                            "<tr><td>david</td><td>Posta</td><td>144</td></tr>",
                            "<tr><td>david</td><td>Személy</td><td>146</td></tr>",
                            "<tr><td>david</td><td>részösszeg</td><td>451</td></tr>",
                            "<tr><td>david1</td><td>GLS</td><td>8</td></tr>",
                            "<tr><td>david1</td><td>Posta</td><td>1</td></tr>",
                            "<tr><td>david1</td><td>Személy</td><td>8</td></tr>",
                            "<tr><td>david1</td><td>részösszeg</td><td>17</td></tr>",
                            "<tr><td>david4</td><td>GLS</td><td>3</td></tr>",
                            "<tr><td>david4</td><td>Posta</td><td>8</td></tr>",
                            "<tr><td>david4</td><td>Személy</td><td>10</td></tr>",
                            "<tr><td>david4</td><td>részösszeg</td><td>21</td></tr>",
                            "<tr><td>debora</td><td>GLS</td><td>7</td></tr>",
                            "<tr><td>debora</td><td>Posta</td><td>6</td></tr>",
                            "<tr><td>debora</td><td>Személy</td><td>3</td></tr>",
                            "<tr><td>debora</td><td>részösszeg</td><td>16</td></tr>",
                            "<tr><td>denes</td><td>GLS</td><td>3</td></tr>",
                            "<tr><td>denes</td><td>Posta</td><td>2</td></tr>",
                            "<tr><td>denes</td><td>Személy</td><td>4</td></tr>",
                            "<tr><td>denes</td><td>részösszeg</td><td>9</td></tr>",
                            "<tr><td>dora3</td><td>GLS</td><td>144</td></tr>",
                            "<tr><td>dora3</td><td>Posta</td><td>124</td></tr>",
                            "<tr><td>dora3</td><td>Személy</td><td>164</td></tr>",
                            "<tr><td>dora3</td><td>részösszeg</td><td>432</td></tr>",
                            "<tr><td>edit</td><td>GLS</td><td>7</td></tr>",
                            "<tr><td>edit</td><td>Posta</td><td>2</td></tr>",
                            "<tr><td>edit</td><td>Személy</td><td>4</td></tr>",
                            "<tr><td>edit</td><td>részösszeg</td><td>13</td></tr>",
                            "<tr><td>emese</td><td>GLS</td><td>128</td></tr>",
                            "<tr><td>emese</td><td>Posta</td><td>136</td></tr>",
                            "<tr><td>emese</td><td>Személy</td><td>142</td></tr>",
                            "<tr><td>emese</td><td>részösszeg</td><td>406</td></tr>",
                            "<tr><td>eszter2</td><td>GLS</td><td>127</td></tr>",
                            "<tr><td>eszter2</td><td>Posta</td><td>136</td></tr>",
                            "<tr><td>eszter2</td><td>Személy</td><td>152</td></tr>",
                            "<tr><td>eszter2</td><td>részösszeg</td><td>415</td></tr>",
                            "<tr><td>eszter4</td><td>GLS</td><td>141</td></tr>",
                            "<tr><td>eszter4</td><td>Posta</td><td>134</td></tr>",
                            "<tr><td>eszter4</td><td>Személy</td><td>149</td></tr>",
                            "<tr><td>eszter4</td><td>részösszeg</td><td>424</td></tr>",
                            "<tr><td>ESZTERE</td><td>GLS</td><td>6</td></tr>",
                            "<tr><td>ESZTERE</td><td>Posta</td><td>9</td></tr>",
                            "<tr><td>ESZTERE</td><td>Személy</td><td>7</td></tr>",
                            "<tr><td>ESZTERE</td><td>részösszeg</td><td>22</td></tr>",
                            "<tr><td>eva</td><td>GLS</td><td>125</td></tr>",
                            "<tr><td>eva</td><td>Posta</td><td>140</td></tr>",
                            "<tr><td>eva</td><td>Személy</td><td>139</td></tr>",
                            "<tr><td>eva</td><td>részösszeg</td><td>404</td></tr>",
                            "<tr><td>eva2</td><td>GLS</td><td>154</td></tr>",
                            "<tr><td>eva2</td><td>Posta</td><td>138</td></tr>",
                            "<tr><td>eva2</td><td>Személy</td><td>170</td></tr>",
                            "<tr><td>eva2</td><td>részösszeg</td><td>462</td></tr>",
                            "<tr><td>EVAV</td><td>GLS</td><td>2</td></tr>",
                            "<tr><td>EVAV</td><td>Posta</td><td>1</td></tr>",
                            "<tr><td>EVAV</td><td>Személy</td><td>4</td></tr>",
                            "<tr><td>EVAV</td><td>részösszeg</td><td>7</td></tr>",
                            "<tr><td>ferenc1</td><td>GLS</td><td>144</td></tr>",
                            "<tr><td>ferenc1</td><td>Posta</td><td>158</td></tr>",
                            "<tr><td>ferenc1</td><td>Személy</td><td>135</td></tr>",
                            "<tr><td>ferenc1</td><td>részösszeg</td><td>437</td></tr>",
                            "<tr><td>fruzsina4</td><td>GLS</td><td>8</td></tr>",
                            "<tr><td>fruzsina4</td><td>Posta</td><td>3</td></tr>",
                            "<tr><td>fruzsina4</td><td>Személy</td><td>7</td></tr>",
                            "<tr><td>fruzsina4</td><td>részösszeg</td><td>18</td></tr>",
                            "<tr><td>gabor1</td><td>GLS</td><td>9</td></tr>",
                            "<tr><td>gabor1</td><td>Posta</td><td>5</td></tr>",
                            "<tr><td>gabor1</td><td>Személy</td><td>5</td></tr>",
                            "<tr><td>gabor1</td><td>részösszeg</td><td>19</td></tr>",
                            "<tr><td>gabor4</td><td>GLS</td><td>7</td></tr>",
                            "<tr><td>gabor4</td><td>Posta</td><td>9</td></tr>",
                            "<tr><td>gabor4</td><td>Személy</td><td>4</td></tr>",
                            "<tr><td>gabor4</td><td>részösszeg</td><td>20</td></tr>",
                            "<tr><td>GABORS</td><td>GLS</td><td>5</td></tr>",
                            "<tr><td>GABORS</td><td>Posta</td><td>6</td></tr>",
                            "<tr><td>GABORS</td><td>Személy</td><td>4</td></tr>",
                            "<tr><td>GABORS</td><td>részösszeg</td><td>15</td></tr>",
                            "<tr><td>gabriella1</td><td>GLS</td><td>5</td></tr>",
                            "<tr><td>gabriella1</td><td>Posta</td><td>4</td></tr>",
                            "<tr><td>gabriella1</td><td>Személy</td><td>5</td></tr>",
                            "<tr><td>gabriella1</td><td>részösszeg</td><td>14</td></tr>",
                            "<tr><td>gabriella10</td><td>GLS</td><td>4</td></tr>",
                            "<tr><td>gabriella10</td><td>Posta</td><td>5</td></tr>",
                            "<tr><td>gabriella10</td><td>Személy</td><td>7</td></tr>",
                            "<tr><td>gabriella10</td><td>részösszeg</td><td>16</td></tr>",
                            "<tr><td>georgij</td><td>GLS</td><td>9</td></tr>",
                            "<tr><td>georgij</td><td>Posta</td><td>2</td></tr>",
                            "<tr><td>georgij</td><td>Személy</td><td>10</td></tr>",
                            "<tr><td>georgij</td><td>részösszeg</td><td>21</td></tr>",
                            "<tr><td>gusztav</td><td>GLS</td><td>5</td></tr>",
                            "<tr><td>gusztav</td><td>Posta</td><td>4</td></tr>",
                            "<tr><td>gusztav</td><td>Személy</td><td>5</td></tr>",
                            "<tr><td>gusztav</td><td>részösszeg</td><td>14</td></tr>",
                            "<tr><td>GYONGYIK</td><td>GLS</td><td>6</td></tr>",
                            "<tr><td>GYONGYIK</td><td>Posta</td><td>6</td></tr>",
                            "<tr><td>GYONGYIK</td><td>Személy</td><td>3</td></tr>",
                            "<tr><td>GYONGYIK</td><td>részösszeg</td><td>15</td></tr>",
                            "<tr><td>GYORGYO</td><td>GLS</td><td>7</td></tr>",
                            "<tr><td>GYORGYO</td><td>Posta</td><td>4</td></tr>",
                            "<tr><td>GYORGYO</td><td>Személy</td><td>5</td></tr>",
                            "<tr><td>GYORGYO</td><td>részösszeg</td><td>16</td></tr>",
                            "<tr><td>henrik3</td><td>GLS</td><td>7</td></tr>",
                            "<tr><td>henrik3</td><td>Posta</td><td>4</td></tr>",
                            "<tr><td>henrik3</td><td>Személy</td><td>5</td></tr>",
                            "<tr><td>henrik3</td><td>részösszeg</td><td>16</td></tr>",
                            "<tr><td>IBOLYAA</td><td>GLS</td><td>140</td></tr>",
                            "<tr><td>IBOLYAA</td><td>Posta</td><td>125</td></tr>",
                            "<tr><td>IBOLYAA</td><td>Személy</td><td>157</td></tr>",
                            "<tr><td>IBOLYAA</td><td>részösszeg</td><td>422</td></tr>",
                            "<tr><td>ilona3</td><td>GLS</td><td>9</td></tr>",
                            "<tr><td>ilona3</td><td>Posta</td><td>2</td></tr>",
                            "<tr><td>ilona3</td><td>Személy</td><td>7</td></tr>",
                            "<tr><td>ilona3</td><td>részösszeg</td><td>18</td></tr>",
                            "<tr><td>imre</td><td>GLS</td><td>5</td></tr>",
                            "<tr><td>imre</td><td>Posta</td><td>4</td></tr>",
                            "<tr><td>imre</td><td>Személy</td><td>6</td></tr>",
                            "<tr><td>imre</td><td>részösszeg</td><td>15</td></tr>",
                            "<tr><td>imre1</td><td>GLS</td><td>8</td></tr>",
                            "<tr><td>imre1</td><td>Posta</td><td>4</td></tr>",
                            "<tr><td>imre1</td><td>Személy</td><td>3</td></tr>",
                            "<tr><td>imre1</td><td>részösszeg</td><td>15</td></tr>",
                            "<tr><td>istvan</td><td>GLS</td><td>3</td></tr>",
                            "<tr><td>istvan</td><td>Posta</td><td>4</td></tr>",
                            "<tr><td>istvan</td><td>Személy</td><td>4</td></tr>",
                            "<tr><td>istvan</td><td>részösszeg</td><td>11</td></tr>",
                            "<tr><td>istvan1</td><td>GLS</td><td>8</td></tr>",
                            "<tr><td>istvan1</td><td>Posta</td><td>4</td></tr>",
                            "<tr><td>istvan1</td><td>Személy</td><td>7</td></tr>",
                            "<tr><td>istvan1</td><td>részösszeg</td><td>19</td></tr>",
                            "<tr><td>ISTVANV</td><td>GLS</td><td>4</td></tr>",
                            "<tr><td>ISTVANV</td><td>Posta</td><td>9</td></tr>",
                            "<tr><td>ISTVANV</td><td>Személy</td><td>8</td></tr>",
                            "<tr><td>ISTVANV</td><td>részösszeg</td><td>21</td></tr>",
                            "<tr><td>janos3</td><td>GLS</td><td>5</td></tr>",
                            "<tr><td>janos3</td><td>Posta</td><td>2</td></tr>",
                            "<tr><td>janos3</td><td>Személy</td><td>6</td></tr>",
                            "<tr><td>janos3</td><td>részösszeg</td><td>13</td></tr>",
                            "<tr><td>JANOSG</td><td>GLS</td><td>3</td></tr>",
                            "<tr><td>JANOSG</td><td>Posta</td><td>3</td></tr>",
                            "<tr><td>JANOSG</td><td>Személy</td><td>4</td></tr>",
                            "<tr><td>JANOSG</td><td>részösszeg</td><td>10</td></tr>",
                            "<tr><td>JANOSP</td><td>GLS</td><td>7</td></tr>",
                            "<tr><td>JANOSP</td><td>Posta</td><td>7</td></tr>",
                            "<tr><td>JANOSP</td><td>Személy</td><td>3</td></tr>",
                            "<tr><td>JANOSP</td><td>részösszeg</td><td>17</td></tr>",
                            "<tr><td>jozsef</td><td>GLS</td><td>116</td></tr>",
                            "<tr><td>jozsef</td><td>Posta</td><td>132</td></tr>",
                            "<tr><td>jozsef</td><td>Személy</td><td>134</td></tr>",
                            "<tr><td>jozsef</td><td>részösszeg</td><td>382</td></tr>",
                            "<tr><td>jozsef2</td><td>GLS</td><td>7</td></tr>",
                            "<tr><td>jozsef2</td><td>Posta</td><td>2</td></tr>",
                            "<tr><td>jozsef2</td><td>Személy</td><td>4</td></tr>",
                            "<tr><td>jozsef2</td><td>részösszeg</td><td>13</td></tr>",
                            "<tr><td>JOZSEFG</td><td>GLS</td><td>11</td></tr>",
                            "<tr><td>JOZSEFG</td><td>Posta</td><td>1</td></tr>",
                            "<tr><td>JOZSEFG</td><td>Személy</td><td>9</td></tr>",
                            "<tr><td>JOZSEFG</td><td>részösszeg</td><td>21</td></tr>",
                            "<tr><td>JUDITH</td><td>GLS</td><td>170</td></tr>",
                            "<tr><td>JUDITH</td><td>Posta</td><td>130</td></tr>",
                            "<tr><td>JUDITH</td><td>Személy</td><td>150</td></tr>",
                            "<tr><td>JUDITH</td><td>részösszeg</td><td>450</td></tr>",
                            "<tr><td>julia</td><td>GLS</td><td>137</td></tr>",
                            "<tr><td>julia</td><td>Posta</td><td>160</td></tr>",
                            "<tr><td>julia</td><td>Személy</td><td>138</td></tr>",
                            "<tr><td>julia</td><td>részösszeg</td><td>435</td></tr>",
                            "<tr><td>julia4</td><td>GLS</td><td>2</td></tr>",
                            "<tr><td>julia4</td><td>Posta</td><td>4</td></tr>",
                            "<tr><td>julia4</td><td>Személy</td><td>8</td></tr>",
                            "<tr><td>julia4</td><td>részösszeg</td><td>14</td></tr>",
                            "<tr><td>julianna4</td><td>GLS</td><td>8</td></tr>",
                            "<tr><td>julianna4</td><td>Posta</td><td>12</td></tr>",
                            "<tr><td>julianna4</td><td>Személy</td><td>7</td></tr>",
                            "<tr><td>julianna4</td><td>részösszeg</td><td>27</td></tr>",
                            "<tr><td>kata</td><td>GLS</td><td>5</td></tr>",
                            "<tr><td>kata</td><td>Posta</td><td>4</td></tr>",
                            "<tr><td>kata</td><td>Személy</td><td>3</td></tr>",
                            "<tr><td>kata</td><td>részösszeg</td><td>12</td></tr>",
                            "<tr><td>katalin</td><td>GLS</td><td>7</td></tr>",
                            "<tr><td>katalin</td><td>Posta</td><td>7</td></tr>",
                            "<tr><td>katalin</td><td>Személy</td><td>5</td></tr>",
                            "<tr><td>katalin</td><td>részösszeg</td><td>19</td></tr>",
                            "<tr><td>katalin4</td><td>GLS</td><td>7</td></tr>",
                            "<tr><td>katalin4</td><td>Posta</td><td>5</td></tr>",
                            "<tr><td>katalin4</td><td>Személy</td><td>11</td></tr>",
                            "<tr><td>katalin4</td><td>részösszeg</td><td>23</td></tr>",
                            "<tr><td>kati</td><td>GLS</td><td>4</td></tr>",
                            "<tr><td>kati</td><td>Posta</td><td>5</td></tr>",
                            "<tr><td>kati</td><td>Személy</td><td>4</td></tr>",
                            "<tr><td>kati</td><td>részösszeg</td><td>13</td></tr>",
                            "<tr><td>katka</td><td>GLS</td><td>6</td></tr>",
                            "<tr><td>katka</td><td>Posta</td><td>6</td></tr>",
                            "<tr><td>katka</td><td>Személy</td><td>10</td></tr>",
                            "<tr><td>katka</td><td>részösszeg</td><td>22</td></tr>",
                            "<tr><td>klaudia2</td><td>GLS</td><td>3</td></tr>",
                            "<tr><td>klaudia2</td><td>Posta</td><td>9</td></tr>",
                            "<tr><td>klaudia2</td><td>Személy</td><td>5</td></tr>",
                            "<tr><td>klaudia2</td><td>részösszeg</td><td>17</td></tr>",
                            "<tr><td>kornel4</td><td>GLS</td><td>3</td></tr>",
                            "<tr><td>kornel4</td><td>Posta</td><td>1</td></tr>",
                            "<tr><td>kornel4</td><td>Személy</td><td>7</td></tr>",
                            "<tr><td>kornel4</td><td>részösszeg</td><td>11</td></tr>",
                            "<tr><td>kristof4</td><td>GLS</td><td>9</td></tr>",
                            "<tr><td>kristof4</td><td>Posta</td><td>4</td></tr>",
                            "<tr><td>kristof4</td><td>Személy</td><td>8</td></tr>",
                            "<tr><td>kristof4</td><td>részösszeg</td><td>21</td></tr>",
                            "<tr><td>kriszti</td><td>GLS</td><td>3</td></tr>",
                            "<tr><td>kriszti</td><td>Posta</td><td>5</td></tr>",
                            "<tr><td>kriszti</td><td>Személy</td><td>5</td></tr>",
                            "<tr><td>kriszti</td><td>részösszeg</td><td>13</td></tr>",
                            "<tr><td>krisztian4</td><td>GLS</td><td>5</td></tr>",
                            "<tr><td>krisztian4</td><td>Posta</td><td>6</td></tr>",
                            "<tr><td>krisztian4</td><td>Személy</td><td>6</td></tr>",
                            "<tr><td>krisztian4</td><td>részösszeg</td><td>17</td></tr>",
                            "<tr><td>KRISZTIANM</td><td>GLS</td><td>118</td></tr>",
                            "<tr><td>KRISZTIANM</td><td>Posta</td><td>136</td></tr>",
                            "<tr><td>KRISZTIANM</td><td>Személy</td><td>130</td></tr>",
                            "<tr><td>KRISZTIANM</td><td>részösszeg</td><td>384</td></tr>",
                            "<tr><td>krisztina</td><td>GLS</td><td>149</td></tr>",
                            "<tr><td>krisztina</td><td>Posta</td><td>150</td></tr>",
                            "<tr><td>krisztina</td><td>Személy</td><td>157</td></tr>",
                            "<tr><td>krisztina</td><td>részösszeg</td><td>456</td></tr>",
                            "<tr><td>krisztina1</td><td>GLS</td><td>10</td></tr>",
                            "<tr><td>krisztina1</td><td>Posta</td><td>4</td></tr>",
                            "<tr><td>krisztina1</td><td>Személy</td><td>8</td></tr>",
                            "<tr><td>krisztina1</td><td>részösszeg</td><td>22</td></tr>",
                            "<tr><td>KRISZTINAG</td><td>GLS</td><td>6</td></tr>",
                            "<tr><td>KRISZTINAG</td><td>Posta</td><td>6</td></tr>",
                            "<tr><td>KRISZTINAG</td><td>Személy</td><td>10</td></tr>",
                            "<tr><td>KRISZTINAG</td><td>részösszeg</td><td>22</td></tr>",
                            "<tr><td>lajos</td><td>GLS</td><td>5</td></tr>",
                            "<tr><td>lajos</td><td>Posta</td><td>2</td></tr>",
                            "<tr><td>lajos</td><td>Személy</td><td>9</td></tr>",
                            "<tr><td>lajos</td><td>részösszeg</td><td>16</td></tr>",
                            "<tr><td>lala</td><td>GLS</td><td>5</td></tr>",
                            "<tr><td>lala</td><td>Posta</td><td>3</td></tr>",
                            "<tr><td>lala</td><td>Személy</td><td>9</td></tr>",
                            "<tr><td>lala</td><td>részösszeg</td><td>17</td></tr>",
                            "<tr><td>laszlo1</td><td>GLS</td><td>130</td></tr>",
                            "<tr><td>laszlo1</td><td>Posta</td><td>129</td></tr>",
                            "<tr><td>laszlo1</td><td>Személy</td><td>135</td></tr>",
                            "<tr><td>laszlo1</td><td>részösszeg</td><td>394</td></tr>",
                            "<tr><td>laszlo2</td><td>GLS</td><td>12</td></tr>",
                            "<tr><td>laszlo2</td><td>Posta</td><td>6</td></tr>",
                            "<tr><td>laszlo2</td><td>Személy</td><td>7</td></tr>",
                            "<tr><td>laszlo2</td><td>részösszeg</td><td>25</td></tr>",
                            "<tr><td>LASZLOA</td><td>GLS</td><td>156</td></tr>",
                            "<tr><td>LASZLOA</td><td>Posta</td><td>136</td></tr>",
                            "<tr><td>LASZLOA</td><td>Személy</td><td>154</td></tr>",
                            "<tr><td>LASZLOA</td><td>részösszeg</td><td>446</td></tr>",
                            "<tr><td>LASZLON</td><td>GLS</td><td>126</td></tr>",
                            "<tr><td>LASZLON</td><td>Posta</td><td>131</td></tr>",
                            "<tr><td>LASZLON</td><td>Személy</td><td>143</td></tr>",
                            "<tr><td>LASZLON</td><td>részösszeg</td><td>400</td></tr>",
                            "<tr><td>maria1</td><td>GLS</td><td>4</td></tr>",
                            "<tr><td>maria1</td><td>Posta</td><td>5</td></tr>",
                            "<tr><td>maria1</td><td>Személy</td><td>1</td></tr>",
                            "<tr><td>maria1</td><td>részösszeg</td><td>10</td></tr>",
                            "<tr><td>MARKH</td><td>GLS</td><td>128</td></tr>",
                            "<tr><td>MARKH</td><td>Posta</td><td>142</td></tr>",
                            "<tr><td>MARKH</td><td>Személy</td><td>142</td></tr>",
                            "<tr><td>MARKH</td><td>részösszeg</td><td>412</td></tr>",
                            "<tr><td>marton</td><td>GLS</td><td>5</td></tr>",
                            "<tr><td>marton</td><td>Posta</td><td>4</td></tr>",
                            "<tr><td>marton</td><td>Személy</td><td>5</td></tr>",
                            "<tr><td>marton</td><td>részösszeg</td><td>14</td></tr>",
                            "<tr><td>MATEK</td><td>GLS</td><td>6</td></tr>",
                            "<tr><td>MATEK</td><td>Posta</td><td>10</td></tr>",
                            "<tr><td>MATEK</td><td>Személy</td><td>9</td></tr>",
                            "<tr><td>MATEK</td><td>részösszeg</td><td>25</td></tr>",
                            "<tr><td>matyas2</td><td>GLS</td><td>138</td></tr>",
                            "<tr><td>matyas2</td><td>Posta</td><td>131</td></tr>",
                            "<tr><td>matyas2</td><td>Személy</td><td>164</td></tr>",
                            "<tr><td>matyas2</td><td>részösszeg</td><td>433</td></tr>",
                            "<tr><td>MATYASS</td><td>GLS</td><td>4</td></tr>",
                            "<tr><td>MATYASS</td><td>Posta</td><td>5</td></tr>",
                            "<tr><td>MATYASS</td><td>Személy</td><td>3</td></tr>",
                            "<tr><td>MATYASS</td><td>részösszeg</td><td>12</td></tr>",
                            "<tr><td>MIHALYJ</td><td>GLS</td><td>3</td></tr>",
                            "<tr><td>MIHALYJ</td><td>Posta</td><td>4</td></tr>",
                            "<tr><td>MIHALYJ</td><td>Személy</td><td>6</td></tr>",
                            "<tr><td>MIHALYJ</td><td>részösszeg</td><td>13</td></tr>",
                            "<tr><td>miklos2</td><td>GLS</td><td>7</td></tr>",
                            "<tr><td>miklos2</td><td>Posta</td><td>4</td></tr>",
                            "<tr><td>miklos2</td><td>Személy</td><td>2</td></tr>",
                            "<tr><td>miklos2</td><td>részösszeg</td><td>13</td></tr>",
                            "<tr><td>MIKLOSB</td><td>GLS</td><td>6</td></tr>",
                            "<tr><td>MIKLOSB</td><td>Posta</td><td>1</td></tr>",
                            "<tr><td>MIKLOSB</td><td>Személy</td><td>8</td></tr>",
                            "<tr><td>MIKLOSB</td><td>részösszeg</td><td>15</td></tr>",
                            "<tr><td>MONIKAM</td><td>GLS</td><td>133</td></tr>",
                            "<tr><td>MONIKAM</td><td>Posta</td><td>151</td></tr>",
                            "<tr><td>MONIKAM</td><td>Személy</td><td>123</td></tr>",
                            "<tr><td>MONIKAM</td><td>részösszeg</td><td>407</td></tr>",
                            "<tr><td>NANDORF</td><td>GLS</td><td>147</td></tr>",
                            "<tr><td>NANDORF</td><td>Posta</td><td>139</td></tr>",
                            "<tr><td>NANDORF</td><td>Személy</td><td>134</td></tr>",
                            "<tr><td>NANDORF</td><td>részösszeg</td><td>420</td></tr>",
                            "<tr><td>nikolett3</td><td>GLS</td><td>4</td></tr>",
                            "<tr><td>nikolett3</td><td>Posta</td><td>3</td></tr>",
                            "<tr><td>nikolett3</td><td>Személy</td><td>10</td></tr>",
                            "<tr><td>nikolett3</td><td>részösszeg</td><td>17</td></tr>",
                            "<tr><td>nikoletta4</td><td>GLS</td><td>137</td></tr>",
                            "<tr><td>nikoletta4</td><td>Posta</td><td>158</td></tr>",
                            "<tr><td>nikoletta4</td><td>Személy</td><td>119</td></tr>",
                            "<tr><td>nikoletta4</td><td>részösszeg</td><td>414</td></tr>",
                            "<tr><td>NIKOLETTAT</td><td>GLS</td><td>13</td></tr>",
                            "<tr><td>NIKOLETTAT</td><td>Posta</td><td>7</td></tr>",
                            "<tr><td>NIKOLETTAT</td><td>Személy</td><td>5</td></tr>",
                            "<tr><td>NIKOLETTAT</td><td>részösszeg</td><td>25</td></tr>",
                            "<tr><td>norbert2</td><td>GLS</td><td>7</td></tr>",
                            "<tr><td>norbert2</td><td>Posta</td><td>4</td></tr>",
                            "<tr><td>norbert2</td><td>részösszeg</td><td>11</td></tr>",
                            "<tr><td>norbert4</td><td>GLS</td><td>1</td></tr>",
                            "<tr><td>norbert4</td><td>Posta</td><td>3</td></tr>",
                            "<tr><td>norbert4</td><td>Személy</td><td>9</td></tr>",
                            "<tr><td>norbert4</td><td>részösszeg</td><td>13</td></tr>",
                            "<tr><td>norbert5</td><td>GLS</td><td>1</td></tr>",
                            "<tr><td>norbert5</td><td>Posta</td><td>6</td></tr>",
                            "<tr><td>norbert5</td><td>Személy</td><td>9</td></tr>",
                            "<tr><td>norbert5</td><td>részösszeg</td><td>16</td></tr>",
                            "<tr><td>pal</td><td>GLS</td><td>152</td></tr>",
                            "<tr><td>pal</td><td>Posta</td><td>132</td></tr>",
                            "<tr><td>pal</td><td>Személy</td><td>154</td></tr>",
                            "<tr><td>pal</td><td>részösszeg</td><td>438</td></tr>",
                            "<tr><td>peter1</td><td>GLS</td><td>151</td></tr>",
                            "<tr><td>peter1</td><td>Posta</td><td>135</td></tr>",
                            "<tr><td>peter1</td><td>Személy</td><td>126</td></tr>",
                            "<tr><td>peter1</td><td>részösszeg</td><td>412</td></tr>",
                            "<tr><td>peter2</td><td>GLS</td><td>7</td></tr>",
                            "<tr><td>peter2</td><td>Posta</td><td>4</td></tr>",
                            "<tr><td>peter2</td><td>Személy</td><td>7</td></tr>",
                            "<tr><td>peter2</td><td>részösszeg</td><td>18</td></tr>",
                            "<tr><td>peter3</td><td>GLS</td><td>8</td></tr>",
                            "<tr><td>peter3</td><td>Posta</td><td>7</td></tr>",
                            "<tr><td>peter3</td><td>Személy</td><td>10</td></tr>",
                            "<tr><td>peter3</td><td>részösszeg</td><td>25</td></tr>",
                            "<tr><td>peter4</td><td>GLS</td><td>266</td></tr>",
                            "<tr><td>peter4</td><td>Posta</td><td>293</td></tr>",
                            "<tr><td>peter4</td><td>Személy</td><td>293</td></tr>",
                            "<tr><td>peter4</td><td>részösszeg</td><td>852</td></tr>",
                            "<tr><td>PETERB</td><td>GLS</td><td>2</td></tr>",
                            "<tr><td>PETERB</td><td>Posta</td><td>4</td></tr>",
                            "<tr><td>PETERB</td><td>Személy</td><td>9</td></tr>",
                            "<tr><td>PETERB</td><td>részösszeg</td><td>15</td></tr>",
                            "<tr><td>polla</td><td>GLS</td><td>9</td></tr>",
                            "<tr><td>polla</td><td>Posta</td><td>6</td></tr>",
                            "<tr><td>polla</td><td>Személy</td><td>7</td></tr>",
                            "<tr><td>polla</td><td>részösszeg</td><td>22</td></tr>",
                            "<tr><td>rajmond4</td><td>GLS</td><td>6</td></tr>",
                            "<tr><td>rajmond4</td><td>Posta</td><td>5</td></tr>",
                            "<tr><td>rajmond4</td><td>Személy</td><td>6</td></tr>",
                            "<tr><td>rajmond4</td><td>részösszeg</td><td>17</td></tr>",
                            "<tr><td>reka4</td><td>GLS</td><td>5</td></tr>",
                            "<tr><td>reka4</td><td>Posta</td><td>4</td></tr>",
                            "<tr><td>reka4</td><td>Személy</td><td>11</td></tr>",
                            "<tr><td>reka4</td><td>részösszeg</td><td>20</td></tr>",
                            "<tr><td>RENATAK</td><td>GLS</td><td>135</td></tr>",
                            "<tr><td>RENATAK</td><td>Posta</td><td>140</td></tr>",
                            "<tr><td>RENATAK</td><td>Személy</td><td>147</td></tr>",
                            "<tr><td>RENATAK</td><td>részösszeg</td><td>422</td></tr>",
                            "<tr><td>RENATAS</td><td>GLS</td><td>6</td></tr>",
                            "<tr><td>RENATAS</td><td>Posta</td><td>5</td></tr>",
                            "<tr><td>RENATAS</td><td>Személy</td><td>5</td></tr>",
                            "<tr><td>RENATAS</td><td>részösszeg</td><td>16</td></tr>",
                            "<tr><td>robert2</td><td>GLS</td><td>5</td></tr>",
                            "<tr><td>robert2</td><td>Posta</td><td>1</td></tr>",
                            "<tr><td>robert2</td><td>Személy</td><td>7</td></tr>",
                            "<tr><td>robert2</td><td>részösszeg</td><td>13</td></tr>",
                            "<tr><td>ROBERTI</td><td>GLS</td><td>5</td></tr>",
                            "<tr><td>ROBERTI</td><td>Posta</td><td>3</td></tr>",
                            "<tr><td>ROBERTI</td><td>Személy</td><td>5</td></tr>",
                            "<tr><td>ROBERTI</td><td>részösszeg</td><td>13</td></tr>",
                            "<tr><td>ROBERTP</td><td>GLS</td><td>8</td></tr>",
                            "<tr><td>ROBERTP</td><td>Posta</td><td>8</td></tr>",
                            "<tr><td>ROBERTP</td><td>Személy</td><td>10</td></tr>",
                            "<tr><td>ROBERTP</td><td>részösszeg</td><td>26</td></tr>",
                            "<tr><td>roland</td><td>GLS</td><td>132</td></tr>",
                            "<tr><td>roland</td><td>Posta</td><td>157</td></tr>",
                            "<tr><td>roland</td><td>Személy</td><td>125</td></tr>",
                            "<tr><td>roland</td><td>részösszeg</td><td>414</td></tr>",
                            "<tr><td>roland1</td><td>GLS</td><td>142</td></tr>",
                            "<tr><td>roland1</td><td>Posta</td><td>155</td></tr>",
                            "<tr><td>roland1</td><td>Személy</td><td>135</td></tr>",
                            "<tr><td>roland1</td><td>részösszeg</td><td>432</td></tr>",
                            "<tr><td>roza2</td><td>GLS</td><td>3</td></tr>",
                            "<tr><td>roza2</td><td>Posta</td><td>2</td></tr>",
                            "<tr><td>roza2</td><td>Személy</td><td>3</td></tr>",
                            "<tr><td>roza2</td><td>részösszeg</td><td>8</td></tr>",
                            "<tr><td>sandor</td><td>GLS</td><td>4</td></tr>",
                            "<tr><td>sandor</td><td>Posta</td><td>6</td></tr>",
                            "<tr><td>sandor</td><td>Személy</td><td>7</td></tr>",
                            "<tr><td>sandor</td><td>részösszeg</td><td>17</td></tr>",
                            "<tr><td>sandor3</td><td>GLS</td><td>4</td></tr>",
                            "<tr><td>sandor3</td><td>Posta</td><td>4</td></tr>",
                            "<tr><td>sandor3</td><td>Személy</td><td>6</td></tr>",
                            "<tr><td>sandor3</td><td>részösszeg</td><td>14</td></tr>",
                            "<tr><td>sandor4</td><td>GLS</td><td>4</td></tr>",
                            "<tr><td>sandor4</td><td>Posta</td><td>2</td></tr>",
                            "<tr><td>sandor4</td><td>Személy</td><td>5</td></tr>",
                            "<tr><td>sandor4</td><td>részösszeg</td><td>11</td></tr>",
                            "<tr><td>sara</td><td>GLS</td><td>4</td></tr>",
                            "<tr><td>sara</td><td>Posta</td><td>7</td></tr>",
                            "<tr><td>sara</td><td>Személy</td><td>9</td></tr>",
                            "<tr><td>sara</td><td>részösszeg</td><td>20</td></tr>",
                            "<tr><td>SEBASTIANF</td><td>GLS</td><td>6</td></tr>",
                            "<tr><td>SEBASTIANF</td><td>Posta</td><td>3</td></tr>",
                            "<tr><td>SEBASTIANF</td><td>Személy</td><td>6</td></tr>",
                            "<tr><td>SEBASTIANF</td><td>részösszeg</td><td>15</td></tr>",
                            "<tr><td>sebestyen</td><td>GLS</td><td>4</td></tr>",
                            "<tr><td>sebestyen</td><td>Posta</td><td>6</td></tr>",
                            "<tr><td>sebestyen</td><td>Személy</td><td>6</td></tr>",
                            "<tr><td>sebestyen</td><td>részösszeg</td><td>16</td></tr>",
                            "<tr><td>szabolcs</td><td>GLS</td><td>145</td></tr>",
                            "<tr><td>szabolcs</td><td>Posta</td><td>157</td></tr>",
                            "<tr><td>szabolcs</td><td>Személy</td><td>169</td></tr>",
                            "<tr><td>szabolcs</td><td>részösszeg</td><td>471</td></tr>",
                            "<tr><td>SZABOLCSM</td><td>GLS</td><td>126</td></tr>",
                            "<tr><td>SZABOLCSM</td><td>Posta</td><td>153</td></tr>",
                            "<tr><td>SZABOLCSM</td><td>Személy</td><td>129</td></tr>",
                            "<tr><td>SZABOLCSM</td><td>részösszeg</td><td>408</td></tr>",
                            "<tr><td>SZILARDS</td><td>GLS</td><td>144</td></tr>",
                            "<tr><td>SZILARDS</td><td>Posta</td><td>131</td></tr>",
                            "<tr><td>SZILARDS</td><td>Személy</td><td>111</td></tr>",
                            "<tr><td>SZILARDS</td><td>részösszeg</td><td>386</td></tr>",
                            "<tr><td>szilvia1</td><td>GLS</td><td>156</td></tr>",
                            "<tr><td>szilvia1</td><td>Posta</td><td>151</td></tr>",
                            "<tr><td>szilvia1</td><td>Személy</td><td>138</td></tr>",
                            "<tr><td>szilvia1</td><td>részösszeg</td><td>445</td></tr>",
                            "<tr><td>tamara2</td><td>GLS</td><td>6</td></tr>",
                            "<tr><td>tamara2</td><td>Posta</td><td>4</td></tr>",
                            "<tr><td>tamara2</td><td>Személy</td><td>3</td></tr>",
                            "<tr><td>tamara2</td><td>részösszeg</td><td>13</td></tr>",
                            "<tr><td>tamas</td><td>GLS</td><td>143</td></tr>",
                            "<tr><td>tamas</td><td>Posta</td><td>156</td></tr>",
                            "<tr><td>tamas</td><td>Személy</td><td>122</td></tr>",
                            "<tr><td>tamas</td><td>részösszeg</td><td>421</td></tr>",
                            "<tr><td>TAMASF</td><td>GLS</td><td>159</td></tr>",
                            "<tr><td>TAMASF</td><td>Posta</td><td>145</td></tr>",
                            "<tr><td>TAMASF</td><td>Személy</td><td>129</td></tr>",
                            "<tr><td>TAMASF</td><td>részösszeg</td><td>433</td></tr>",
                            "<tr><td>tibor</td><td>GLS</td><td>115</td></tr>",
                            "<tr><td>tibor</td><td>Posta</td><td>129</td></tr>",
                            "<tr><td>tibor</td><td>Személy</td><td>130</td></tr>",
                            "<tr><td>tibor</td><td>részösszeg</td><td>374</td></tr>",
                            "<tr><td>tibor2</td><td>GLS</td><td>7</td></tr>",
                            "<tr><td>tibor2</td><td>Posta</td><td>7</td></tr>",
                            "<tr><td>tibor2</td><td>Személy</td><td>11</td></tr>",
                            "<tr><td>tibor2</td><td>részösszeg</td><td>25</td></tr>",
                            "<tr><td>tihamer</td><td>GLS</td><td>9</td></tr>",
                            "<tr><td>tihamer</td><td>Posta</td><td>6</td></tr>",
                            "<tr><td>tihamer</td><td>Személy</td><td>5</td></tr>",
                            "<tr><td>tihamer</td><td>részösszeg</td><td>20</td></tr>",
                            "<tr><td>timea</td><td>GLS</td><td>14</td></tr>",
                            "<tr><td>timea</td><td>Posta</td><td>23</td></tr>",
                            "<tr><td>timea</td><td>Személy</td><td>18</td></tr>",
                            "<tr><td>timea</td><td>részösszeg</td><td>55</td></tr>",
                            "<tr><td>timea2</td><td>GLS</td><td>1</td></tr>",
                            "<tr><td>timea2</td><td>Posta</td><td>5</td></tr>",
                            "<tr><td>timea2</td><td>Személy</td><td>10</td></tr>",
                            "<tr><td>timea2</td><td>részösszeg</td><td>16</td></tr>",
                            "<tr><td>tunde</td><td>GLS</td><td>6</td></tr>",
                            "<tr><td>tunde</td><td>Posta</td><td>6</td></tr>",
                            "<tr><td>tunde</td><td>Személy</td><td>4</td></tr>",
                            "<tr><td>tunde</td><td>részösszeg</td><td>16</td></tr>",
                            "<tr><td>valentin</td><td>GLS</td><td>5</td></tr>",
                            "<tr><td>valentin</td><td>Posta</td><td>5</td></tr>",
                            "<tr><td>valentin</td><td>Személy</td><td>3</td></tr>",
                            "<tr><td>valentin</td><td>részösszeg</td><td>13</td></tr>",
                            "<tr><td>veronika4</td><td>GLS</td><td>5</td></tr>",
                            "<tr><td>veronika4</td><td>Posta</td><td>6</td></tr>",
                            "<tr><td>veronika4</td><td>Személy</td><td>7</td></tr>",
                            "<tr><td>veronika4</td><td>részösszeg</td><td>18</td></tr>",
                            "<tr><td>VIKTORIAU</td><td>GLS</td><td>5</td></tr>",
                            "<tr><td>VIKTORIAU</td><td>Posta</td><td>4</td></tr>",
                            "<tr><td>VIKTORIAU</td><td>Személy</td><td>5</td></tr>",
                            "<tr><td>VIKTORIAU</td><td>részösszeg</td><td>14</td></tr>",
                            "<tr><td>VIKTORK</td><td>GLS</td><td>8</td></tr>",
                            "<tr><td>VIKTORK</td><td>Posta</td><td>6</td></tr>",
                            "<tr><td>VIKTORK</td><td>Személy</td><td>6</td></tr>",
                            "<tr><td>VIKTORK</td><td>részösszeg</td><td>20</td></tr>",
                            "<tr><td>vivien3</td><td>GLS</td><td>9</td></tr>",
                            "<tr><td>vivien3</td><td>Posta</td><td>6</td></tr>",
                            "<tr><td>vivien3</td><td>Személy</td><td>7</td></tr>",
                            "<tr><td>vivien3</td><td>részösszeg</td><td>22</td></tr>",
                            "<tr><td>zoltan</td><td>GLS</td><td>5</td></tr>",
                            "<tr><td>zoltan</td><td>Posta</td><td>3</td></tr>",
                            "<tr><td>zoltan</td><td>Személy</td><td>7</td></tr>",
                            "<tr><td>zoltan</td><td>részösszeg</td><td>15</td></tr>",
                            "<tr><td>zoltan4</td><td>GLS</td><td>129</td></tr>",
                            "<tr><td>zoltan4</td><td>Posta</td><td>124</td></tr>",
                            "<tr><td>zoltan4</td><td>Személy</td><td>171</td></tr>",
                            "<tr><td>zoltan4</td><td>részösszeg</td><td>424</td></tr>",
                            "<tr><td>ZOLTANP</td><td>GLS</td><td>6</td></tr>",
                            "<tr><td>ZOLTANP</td><td>Posta</td><td>3</td></tr>",
                            "<tr><td>ZOLTANP</td><td>Személy</td><td>4</td></tr>",
                            "<tr><td>ZOLTANP</td><td>részösszeg</td><td>13</td></tr>",
                            "<tr><td>ZOLTANT</td><td>GLS</td><td>127</td></tr>",
                            "<tr><td>ZOLTANT</td><td>Posta</td><td>107</td></tr>",
                            "<tr><td>ZOLTANT</td><td>Személy</td><td>123</td></tr>",
                            "<tr><td>ZOLTANT</td><td>részösszeg</td><td>357</td></tr>",
                            "<tr><td>zsofi1</td><td>GLS</td><td>7</td></tr>",
                            "<tr><td>zsofi1</td><td>Posta</td><td>6</td></tr>",
                            "<tr><td>zsofi1</td><td>Személy</td><td>6</td></tr>",
                            "<tr><td>zsofi1</td><td>részösszeg</td><td>19</td></tr>",
                            "<tr><td>zsolt1</td><td>GLS</td><td>11</td></tr>",
                            "<tr><td>zsolt1</td><td>Posta</td><td>6</td></tr>",
                            "<tr><td>zsolt1</td><td>Személy</td><td>3</td></tr>",
                            "<tr><td>zsolt1</td><td>részösszeg</td><td>20</td></tr>",
                            "<tr><td>ZSOLTJ</td><td>GLS</td><td>1</td></tr>",
                            "<tr><td>ZSOLTJ</td><td>Posta</td><td>8</td></tr>",
                            "<tr><td>ZSOLTJ</td><td>Személy</td><td>9</td></tr>",
                            "<tr><td>ZSOLTJ</td><td>részösszeg</td><td>18</td></tr>",
                            "<tr><td>zsuzsa</td><td>GLS</td><td>8</td></tr>",
                            "<tr><td>zsuzsa</td><td>Posta</td><td>5</td></tr>",
                            "<tr><td>zsuzsa</td><td>Személy</td><td>3</td></tr>",
                            "<tr><td>zsuzsa</td><td>részösszeg</td><td>16</td></tr>",
                            "<tr><td>zsuzsa3</td><td>GLS</td><td>5</td></tr>",
                            "<tr><td>zsuzsa3</td><td>Posta</td><td>5</td></tr>",
                            "<tr><td>zsuzsa3</td><td>Személy</td><td>6</td></tr>",
                            "<tr><td>zsuzsa3</td><td>részösszeg</td><td>16</td></tr>",
                            "<tr><td>zsuzsanna</td><td>GLS</td><td>7</td></tr>",
                            "<tr><td>zsuzsanna</td><td>Posta</td><td>5</td></tr>",
                            "<tr><td>zsuzsanna</td><td>Személy</td><td>3</td></tr>",
                            "<tr><td>zsuzsanna</td><td>részösszeg</td><td>15</td></tr>",
                            "<tr><td>ZSUZSAV</td><td>GLS</td><td>139</td></tr>",
                            "<tr><td>ZSUZSAV</td><td>Posta</td><td>139</td></tr>",
                            "<tr><td>ZSUZSAV</td><td>Személy</td><td>142</td></tr>",
                            "<tr><td>ZSUZSAV</td><td>részösszeg</td><td>420</td></tr>",
                            "<tr><td>NULL</td><td>részösszeg</td><td>28085</td></tr>",
                            "</table>"
                        ]
                    }
                }
            ],
            "execution_count": 8
        },
        {
            "cell_type": "markdown",
            "source": [
                "2. <span style=\"background-color: rgb(255, 255, 255); color: rgb(0, 0, 0); font-family: &quot;Open Sans&quot;, sans-serif; font-size: 14.44px;\">Készítsünk listát a termékek számáról a következő csoportosítási szempontok szerint:<br>kategória azonosító, raktárkód, raktárkód+mennyiségi egység!</span>\n",
                "\n",
                "a. A listát szűrjük azokra a csoportokra, ahol a termékek száma legalább 6!"
            ],
            "metadata": {
                "azdata_cell_guid": "ea75c103-911f-41a3-a32c-3d40fb3e4e4a"
            },
            "attachments": {}
        },
        {
            "cell_type": "code",
            "source": [
                "SELECT KAT_ID, RAKTAR_KOD, MEGYS, COUNT(*)\r\n",
                "FROM Termek\r\n",
                "GROUP BY KAT_ID, RAKTAR_KOD, MEGYS\r\n",
                "HAVING COUNT(*) >= 6"
            ],
            "metadata": {
                "azdata_cell_guid": "222b9618-a8e8-42b4-a8e8-d002257122b7",
                "language": "sql"
            },
            "outputs": [
                {
                    "output_type": "display_data",
                    "data": {
                        "text/html": "(5 rows affected)"
                    },
                    "metadata": {}
                },
                {
                    "output_type": "display_data",
                    "data": {
                        "text/html": "Total execution time: 00:00:00.031"
                    },
                    "metadata": {}
                },
                {
                    "output_type": "execute_result",
                    "metadata": {},
                    "execution_count": 22,
                    "data": {
                        "application/vnd.dataresource+json": {
                            "schema": {
                                "fields": [
                                    {
                                        "name": "KAT_ID"
                                    },
                                    {
                                        "name": "RAKTAR_KOD"
                                    },
                                    {
                                        "name": "MEGYS"
                                    },
                                    {
                                        "name": "(No column name)"
                                    }
                                ]
                            },
                            "data": [
                                {
                                    "KAT_ID": "4",
                                    "RAKTAR_KOD": "8",
                                    "MEGYS": "db",
                                    "(No column name)": "6"
                                },
                                {
                                    "KAT_ID": "6",
                                    "RAKTAR_KOD": "8",
                                    "MEGYS": "db",
                                    "(No column name)": "8"
                                },
                                {
                                    "KAT_ID": "52",
                                    "RAKTAR_KOD": "8",
                                    "MEGYS": "db",
                                    "(No column name)": "8"
                                },
                                {
                                    "KAT_ID": "78",
                                    "RAKTAR_KOD": "6",
                                    "MEGYS": "db",
                                    "(No column name)": "6"
                                },
                                {
                                    "KAT_ID": "145",
                                    "RAKTAR_KOD": "6",
                                    "MEGYS": "db",
                                    "(No column name)": "6"
                                }
                            ]
                        },
                        "text/html": [
                            "<table>",
                            "<tr><th>KAT_ID</th><th>RAKTAR_KOD</th><th>MEGYS</th><th>(No column name)</th></tr>",
                            "<tr><td>4</td><td>8</td><td>db</td><td>6</td></tr>",
                            "<tr><td>6</td><td>8</td><td>db</td><td>8</td></tr>",
                            "<tr><td>52</td><td>8</td><td>db</td><td>8</td></tr>",
                            "<tr><td>78</td><td>6</td><td>db</td><td>6</td></tr>",
                            "<tr><td>145</td><td>6</td><td>db</td><td>6</td></tr>",
                            "</table>"
                        ]
                    }
                }
            ],
            "execution_count": 22
        },
        {
            "cell_type": "markdown",
            "source": [
                "```\n",
                "3. Készítsünk listát az egyes termékkategóriákban lévő termékek számáról! \n",
                "\n",
                "```\n",
                "\n",
                "a. Elég megjeleníteni a kategóriák azonosítóit és a darabszámokat!   \n",
                "<span style=\"color: var(--vscode-foreground);\">b. A lista megfelelően jelölve tartalmazza a végösszeget is!&nbsp;<br></span> <span style=\"color: var(--vscode-foreground);\">c. Az oszlopokat nevezzük el értelemszerűen!&nbsp;<br></span> <span style=\"color: var(--vscode-foreground);\">d. A listát rendezzük a darabszám szerint növekvő sorrendbe!</span>\n",
                "\n",
                "  \n",
                "\n",
                "![](https://moodle.uni-corvinus.hu/theme/image.php/adaptable/atto_h5p/1709548862/icon)"
            ],
            "metadata": {
                "azdata_cell_guid": "d7876bb9-76d0-4d07-baed-3cb17b2f96c3"
            },
            "attachments": {}
        },
        {
            "cell_type": "code",
            "source": [
                "SELECT iif(GROUPING_ID(KAT_ID)=1, 'összeg', cast(KAT_ID as NVARCHAR(7))) as 'balblabla', COUNT(*) as 'babababaa'\r\n",
                "FROM Termek\r\n",
                "group by rollup(KAT_ID)\r\n",
                "ORDER BY COUNT(*)"
            ],
            "metadata": {
                "azdata_cell_guid": "56ec19ce-e249-4551-b2a8-f17569765acc",
                "language": "sql",
                "tags": []
            },
            "outputs": [
                {
                    "output_type": "display_data",
                    "data": {
                        "text/html": "(144 rows affected)"
                    },
                    "metadata": {}
                },
                {
                    "output_type": "display_data",
                    "data": {
                        "text/html": "Total execution time: 00:00:00.064"
                    },
                    "metadata": {}
                },
                {
                    "output_type": "execute_result",
                    "metadata": {},
                    "execution_count": 29,
                    "data": {
                        "application/vnd.dataresource+json": {
                            "schema": {
                                "fields": [
                                    {
                                        "name": "balblabla"
                                    },
                                    {
                                        "name": "babababaa"
                                    }
                                ]
                            },
                            "data": [
                                {
                                    "balblabla": "10",
                                    "babababaa": "1"
                                },
                                {
                                    "balblabla": "11",
                                    "babababaa": "1"
                                },
                                {
                                    "balblabla": "12",
                                    "babababaa": "1"
                                },
                                {
                                    "balblabla": "15",
                                    "babababaa": "1"
                                },
                                {
                                    "balblabla": "17",
                                    "babababaa": "1"
                                },
                                {
                                    "balblabla": "26",
                                    "babababaa": "1"
                                },
                                {
                                    "balblabla": "29",
                                    "babababaa": "1"
                                },
                                {
                                    "balblabla": "31",
                                    "babababaa": "1"
                                },
                                {
                                    "balblabla": "33",
                                    "babababaa": "1"
                                },
                                {
                                    "balblabla": "34",
                                    "babababaa": "1"
                                },
                                {
                                    "balblabla": "37",
                                    "babababaa": "1"
                                },
                                {
                                    "balblabla": "38",
                                    "babababaa": "1"
                                },
                                {
                                    "balblabla": "40",
                                    "babababaa": "1"
                                },
                                {
                                    "balblabla": "42",
                                    "babababaa": "1"
                                },
                                {
                                    "balblabla": "44",
                                    "babababaa": "1"
                                },
                                {
                                    "balblabla": "50",
                                    "babababaa": "1"
                                },
                                {
                                    "balblabla": "53",
                                    "babababaa": "1"
                                },
                                {
                                    "balblabla": "61",
                                    "babababaa": "1"
                                },
                                {
                                    "balblabla": "74",
                                    "babababaa": "1"
                                },
                                {
                                    "balblabla": "80",
                                    "babababaa": "1"
                                },
                                {
                                    "balblabla": "82",
                                    "babababaa": "1"
                                },
                                {
                                    "balblabla": "84",
                                    "babababaa": "1"
                                },
                                {
                                    "balblabla": "86",
                                    "babababaa": "1"
                                },
                                {
                                    "balblabla": "99",
                                    "babababaa": "1"
                                },
                                {
                                    "balblabla": "101",
                                    "babababaa": "1"
                                },
                                {
                                    "balblabla": "103",
                                    "babababaa": "1"
                                },
                                {
                                    "balblabla": "105",
                                    "babababaa": "1"
                                },
                                {
                                    "balblabla": "107",
                                    "babababaa": "1"
                                },
                                {
                                    "balblabla": "108",
                                    "babababaa": "1"
                                },
                                {
                                    "balblabla": "109",
                                    "babababaa": "1"
                                },
                                {
                                    "balblabla": "114",
                                    "babababaa": "1"
                                },
                                {
                                    "balblabla": "115",
                                    "babababaa": "1"
                                },
                                {
                                    "balblabla": "126",
                                    "babababaa": "1"
                                },
                                {
                                    "balblabla": "130",
                                    "babababaa": "1"
                                },
                                {
                                    "balblabla": "131",
                                    "babababaa": "1"
                                },
                                {
                                    "balblabla": "132",
                                    "babababaa": "1"
                                },
                                {
                                    "balblabla": "135",
                                    "babababaa": "1"
                                },
                                {
                                    "balblabla": "139",
                                    "babababaa": "1"
                                },
                                {
                                    "balblabla": "140",
                                    "babababaa": "1"
                                },
                                {
                                    "balblabla": "142",
                                    "babababaa": "1"
                                },
                                {
                                    "balblabla": "147",
                                    "babababaa": "1"
                                },
                                {
                                    "balblabla": "148",
                                    "babababaa": "1"
                                },
                                {
                                    "balblabla": "153",
                                    "babababaa": "1"
                                },
                                {
                                    "balblabla": "155",
                                    "babababaa": "1"
                                },
                                {
                                    "balblabla": "150",
                                    "babababaa": "2"
                                },
                                {
                                    "balblabla": "144",
                                    "babababaa": "2"
                                },
                                {
                                    "balblabla": "141",
                                    "babababaa": "2"
                                },
                                {
                                    "balblabla": "136",
                                    "babababaa": "2"
                                },
                                {
                                    "balblabla": "123",
                                    "babababaa": "2"
                                },
                                {
                                    "balblabla": "134",
                                    "babababaa": "2"
                                },
                                {
                                    "balblabla": "127",
                                    "babababaa": "2"
                                },
                                {
                                    "balblabla": "128",
                                    "babababaa": "2"
                                },
                                {
                                    "balblabla": "129",
                                    "babababaa": "2"
                                },
                                {
                                    "balblabla": "116",
                                    "babababaa": "2"
                                },
                                {
                                    "balblabla": "117",
                                    "babababaa": "2"
                                },
                                {
                                    "balblabla": "112",
                                    "babababaa": "2"
                                },
                                {
                                    "balblabla": "121",
                                    "babababaa": "2"
                                },
                                {
                                    "balblabla": "110",
                                    "babababaa": "2"
                                },
                                {
                                    "balblabla": "104",
                                    "babababaa": "2"
                                },
                                {
                                    "balblabla": "94",
                                    "babababaa": "2"
                                },
                                {
                                    "balblabla": "95",
                                    "babababaa": "2"
                                },
                                {
                                    "balblabla": "88",
                                    "babababaa": "2"
                                },
                                {
                                    "balblabla": "90",
                                    "babababaa": "2"
                                },
                                {
                                    "balblabla": "92",
                                    "babababaa": "2"
                                },
                                {
                                    "balblabla": "71",
                                    "babababaa": "2"
                                },
                                {
                                    "balblabla": "72",
                                    "babababaa": "2"
                                },
                                {
                                    "balblabla": "73",
                                    "babababaa": "2"
                                },
                                {
                                    "balblabla": "75",
                                    "babababaa": "2"
                                },
                                {
                                    "balblabla": "62",
                                    "babababaa": "2"
                                },
                                {
                                    "balblabla": "55",
                                    "babababaa": "2"
                                },
                                {
                                    "balblabla": "65",
                                    "babababaa": "2"
                                },
                                {
                                    "balblabla": "67",
                                    "babababaa": "2"
                                },
                                {
                                    "balblabla": "68",
                                    "babababaa": "2"
                                },
                                {
                                    "balblabla": "57",
                                    "babababaa": "2"
                                },
                                {
                                    "balblabla": "48",
                                    "babababaa": "2"
                                },
                                {
                                    "balblabla": "49",
                                    "babababaa": "2"
                                },
                                {
                                    "balblabla": "39",
                                    "babababaa": "2"
                                },
                                {
                                    "balblabla": "22",
                                    "babababaa": "2"
                                },
                                {
                                    "balblabla": "18",
                                    "babababaa": "2"
                                },
                                {
                                    "balblabla": "9",
                                    "babababaa": "2"
                                },
                                {
                                    "balblabla": "13",
                                    "babababaa": "2"
                                },
                                {
                                    "balblabla": "5",
                                    "babababaa": "3"
                                },
                                {
                                    "balblabla": "7",
                                    "babababaa": "3"
                                },
                                {
                                    "balblabla": "8",
                                    "babababaa": "3"
                                },
                                {
                                    "balblabla": "20",
                                    "babababaa": "3"
                                },
                                {
                                    "balblabla": "27",
                                    "babababaa": "3"
                                },
                                {
                                    "balblabla": "32",
                                    "babababaa": "3"
                                },
                                {
                                    "balblabla": "43",
                                    "babababaa": "3"
                                },
                                {
                                    "balblabla": "58",
                                    "babababaa": "3"
                                },
                                {
                                    "balblabla": "51",
                                    "babababaa": "3"
                                },
                                {
                                    "balblabla": "70",
                                    "babababaa": "3"
                                },
                                {
                                    "balblabla": "89",
                                    "babababaa": "3"
                                },
                                {
                                    "balblabla": "111",
                                    "babababaa": "3"
                                },
                                {
                                    "balblabla": "119",
                                    "babababaa": "3"
                                },
                                {
                                    "balblabla": "137",
                                    "babababaa": "3"
                                },
                                {
                                    "balblabla": "143",
                                    "babababaa": "3"
                                },
                                {
                                    "balblabla": "151",
                                    "babababaa": "4"
                                },
                                {
                                    "balblabla": "154",
                                    "babababaa": "4"
                                },
                                {
                                    "balblabla": "125",
                                    "babababaa": "4"
                                },
                                {
                                    "balblabla": "79",
                                    "babababaa": "4"
                                },
                                {
                                    "balblabla": "98",
                                    "babababaa": "4"
                                },
                                {
                                    "balblabla": "56",
                                    "babababaa": "4"
                                },
                                {
                                    "balblabla": "64",
                                    "babababaa": "4"
                                },
                                {
                                    "balblabla": "59",
                                    "babababaa": "4"
                                },
                                {
                                    "balblabla": "47",
                                    "babababaa": "4"
                                },
                                {
                                    "balblabla": "25",
                                    "babababaa": "4"
                                },
                                {
                                    "balblabla": "14",
                                    "babababaa": "4"
                                },
                                {
                                    "balblabla": "21",
                                    "babababaa": "5"
                                },
                                {
                                    "balblabla": "36",
                                    "babababaa": "5"
                                },
                                {
                                    "balblabla": "28",
                                    "babababaa": "5"
                                },
                                {
                                    "balblabla": "60",
                                    "babababaa": "5"
                                },
                                {
                                    "balblabla": "76",
                                    "babababaa": "5"
                                },
                                {
                                    "balblabla": "106",
                                    "babababaa": "5"
                                },
                                {
                                    "balblabla": "138",
                                    "babababaa": "5"
                                },
                                {
                                    "balblabla": "133",
                                    "babababaa": "6"
                                },
                                {
                                    "balblabla": "152",
                                    "babababaa": "6"
                                },
                                {
                                    "balblabla": "149",
                                    "babababaa": "6"
                                },
                                {
                                    "balblabla": "83",
                                    "babababaa": "6"
                                },
                                {
                                    "balblabla": "54",
                                    "babababaa": "6"
                                },
                                {
                                    "balblabla": "46",
                                    "babababaa": "7"
                                },
                                {
                                    "balblabla": "66",
                                    "babababaa": "7"
                                },
                                {
                                    "balblabla": "24",
                                    "babababaa": "7"
                                },
                                {
                                    "balblabla": "30",
                                    "babababaa": "7"
                                },
                                {
                                    "balblabla": "35",
                                    "babababaa": "7"
                                },
                                {
                                    "balblabla": "16",
                                    "babababaa": "7"
                                },
                                {
                                    "balblabla": "146",
                                    "babababaa": "7"
                                },
                                {
                                    "balblabla": "122",
                                    "babababaa": "7"
                                },
                                {
                                    "balblabla": "93",
                                    "babababaa": "7"
                                },
                                {
                                    "balblabla": "91",
                                    "babababaa": "7"
                                },
                                {
                                    "balblabla": "100",
                                    "babababaa": "9"
                                },
                                {
                                    "balblabla": "96",
                                    "babababaa": "9"
                                },
                                {
                                    "balblabla": "118",
                                    "babababaa": "9"
                                },
                                {
                                    "balblabla": "97",
                                    "babababaa": "10"
                                },
                                {
                                    "balblabla": "124",
                                    "babababaa": "10"
                                },
                                {
                                    "balblabla": "45",
                                    "babababaa": "11"
                                },
                                {
                                    "balblabla": "41",
                                    "babababaa": "13"
                                },
                                {
                                    "balblabla": "4",
                                    "babababaa": "15"
                                },
                                {
                                    "balblabla": "85",
                                    "babababaa": "16"
                                },
                                {
                                    "balblabla": "145",
                                    "babababaa": "18"
                                },
                                {
                                    "balblabla": "19",
                                    "babababaa": "19"
                                },
                                {
                                    "balblabla": "6",
                                    "babababaa": "20"
                                },
                                {
                                    "balblabla": "78",
                                    "babababaa": "24"
                                },
                                {
                                    "balblabla": "52",
                                    "babababaa": "26"
                                },
                                {
                                    "balblabla": "összeg",
                                    "babababaa": "551"
                                }
                            ]
                        },
                        "text/html": [
                            "<table>",
                            "<tr><th>balblabla</th><th>babababaa</th></tr>",
                            "<tr><td>10</td><td>1</td></tr>",
                            "<tr><td>11</td><td>1</td></tr>",
                            "<tr><td>12</td><td>1</td></tr>",
                            "<tr><td>15</td><td>1</td></tr>",
                            "<tr><td>17</td><td>1</td></tr>",
                            "<tr><td>26</td><td>1</td></tr>",
                            "<tr><td>29</td><td>1</td></tr>",
                            "<tr><td>31</td><td>1</td></tr>",
                            "<tr><td>33</td><td>1</td></tr>",
                            "<tr><td>34</td><td>1</td></tr>",
                            "<tr><td>37</td><td>1</td></tr>",
                            "<tr><td>38</td><td>1</td></tr>",
                            "<tr><td>40</td><td>1</td></tr>",
                            "<tr><td>42</td><td>1</td></tr>",
                            "<tr><td>44</td><td>1</td></tr>",
                            "<tr><td>50</td><td>1</td></tr>",
                            "<tr><td>53</td><td>1</td></tr>",
                            "<tr><td>61</td><td>1</td></tr>",
                            "<tr><td>74</td><td>1</td></tr>",
                            "<tr><td>80</td><td>1</td></tr>",
                            "<tr><td>82</td><td>1</td></tr>",
                            "<tr><td>84</td><td>1</td></tr>",
                            "<tr><td>86</td><td>1</td></tr>",
                            "<tr><td>99</td><td>1</td></tr>",
                            "<tr><td>101</td><td>1</td></tr>",
                            "<tr><td>103</td><td>1</td></tr>",
                            "<tr><td>105</td><td>1</td></tr>",
                            "<tr><td>107</td><td>1</td></tr>",
                            "<tr><td>108</td><td>1</td></tr>",
                            "<tr><td>109</td><td>1</td></tr>",
                            "<tr><td>114</td><td>1</td></tr>",
                            "<tr><td>115</td><td>1</td></tr>",
                            "<tr><td>126</td><td>1</td></tr>",
                            "<tr><td>130</td><td>1</td></tr>",
                            "<tr><td>131</td><td>1</td></tr>",
                            "<tr><td>132</td><td>1</td></tr>",
                            "<tr><td>135</td><td>1</td></tr>",
                            "<tr><td>139</td><td>1</td></tr>",
                            "<tr><td>140</td><td>1</td></tr>",
                            "<tr><td>142</td><td>1</td></tr>",
                            "<tr><td>147</td><td>1</td></tr>",
                            "<tr><td>148</td><td>1</td></tr>",
                            "<tr><td>153</td><td>1</td></tr>",
                            "<tr><td>155</td><td>1</td></tr>",
                            "<tr><td>150</td><td>2</td></tr>",
                            "<tr><td>144</td><td>2</td></tr>",
                            "<tr><td>141</td><td>2</td></tr>",
                            "<tr><td>136</td><td>2</td></tr>",
                            "<tr><td>123</td><td>2</td></tr>",
                            "<tr><td>134</td><td>2</td></tr>",
                            "<tr><td>127</td><td>2</td></tr>",
                            "<tr><td>128</td><td>2</td></tr>",
                            "<tr><td>129</td><td>2</td></tr>",
                            "<tr><td>116</td><td>2</td></tr>",
                            "<tr><td>117</td><td>2</td></tr>",
                            "<tr><td>112</td><td>2</td></tr>",
                            "<tr><td>121</td><td>2</td></tr>",
                            "<tr><td>110</td><td>2</td></tr>",
                            "<tr><td>104</td><td>2</td></tr>",
                            "<tr><td>94</td><td>2</td></tr>",
                            "<tr><td>95</td><td>2</td></tr>",
                            "<tr><td>88</td><td>2</td></tr>",
                            "<tr><td>90</td><td>2</td></tr>",
                            "<tr><td>92</td><td>2</td></tr>",
                            "<tr><td>71</td><td>2</td></tr>",
                            "<tr><td>72</td><td>2</td></tr>",
                            "<tr><td>73</td><td>2</td></tr>",
                            "<tr><td>75</td><td>2</td></tr>",
                            "<tr><td>62</td><td>2</td></tr>",
                            "<tr><td>55</td><td>2</td></tr>",
                            "<tr><td>65</td><td>2</td></tr>",
                            "<tr><td>67</td><td>2</td></tr>",
                            "<tr><td>68</td><td>2</td></tr>",
                            "<tr><td>57</td><td>2</td></tr>",
                            "<tr><td>48</td><td>2</td></tr>",
                            "<tr><td>49</td><td>2</td></tr>",
                            "<tr><td>39</td><td>2</td></tr>",
                            "<tr><td>22</td><td>2</td></tr>",
                            "<tr><td>18</td><td>2</td></tr>",
                            "<tr><td>9</td><td>2</td></tr>",
                            "<tr><td>13</td><td>2</td></tr>",
                            "<tr><td>5</td><td>3</td></tr>",
                            "<tr><td>7</td><td>3</td></tr>",
                            "<tr><td>8</td><td>3</td></tr>",
                            "<tr><td>20</td><td>3</td></tr>",
                            "<tr><td>27</td><td>3</td></tr>",
                            "<tr><td>32</td><td>3</td></tr>",
                            "<tr><td>43</td><td>3</td></tr>",
                            "<tr><td>58</td><td>3</td></tr>",
                            "<tr><td>51</td><td>3</td></tr>",
                            "<tr><td>70</td><td>3</td></tr>",
                            "<tr><td>89</td><td>3</td></tr>",
                            "<tr><td>111</td><td>3</td></tr>",
                            "<tr><td>119</td><td>3</td></tr>",
                            "<tr><td>137</td><td>3</td></tr>",
                            "<tr><td>143</td><td>3</td></tr>",
                            "<tr><td>151</td><td>4</td></tr>",
                            "<tr><td>154</td><td>4</td></tr>",
                            "<tr><td>125</td><td>4</td></tr>",
                            "<tr><td>79</td><td>4</td></tr>",
                            "<tr><td>98</td><td>4</td></tr>",
                            "<tr><td>56</td><td>4</td></tr>",
                            "<tr><td>64</td><td>4</td></tr>",
                            "<tr><td>59</td><td>4</td></tr>",
                            "<tr><td>47</td><td>4</td></tr>",
                            "<tr><td>25</td><td>4</td></tr>",
                            "<tr><td>14</td><td>4</td></tr>",
                            "<tr><td>21</td><td>5</td></tr>",
                            "<tr><td>36</td><td>5</td></tr>",
                            "<tr><td>28</td><td>5</td></tr>",
                            "<tr><td>60</td><td>5</td></tr>",
                            "<tr><td>76</td><td>5</td></tr>",
                            "<tr><td>106</td><td>5</td></tr>",
                            "<tr><td>138</td><td>5</td></tr>",
                            "<tr><td>133</td><td>6</td></tr>",
                            "<tr><td>152</td><td>6</td></tr>",
                            "<tr><td>149</td><td>6</td></tr>",
                            "<tr><td>83</td><td>6</td></tr>",
                            "<tr><td>54</td><td>6</td></tr>",
                            "<tr><td>46</td><td>7</td></tr>",
                            "<tr><td>66</td><td>7</td></tr>",
                            "<tr><td>24</td><td>7</td></tr>",
                            "<tr><td>30</td><td>7</td></tr>",
                            "<tr><td>35</td><td>7</td></tr>",
                            "<tr><td>16</td><td>7</td></tr>",
                            "<tr><td>146</td><td>7</td></tr>",
                            "<tr><td>122</td><td>7</td></tr>",
                            "<tr><td>93</td><td>7</td></tr>",
                            "<tr><td>91</td><td>7</td></tr>",
                            "<tr><td>100</td><td>9</td></tr>",
                            "<tr><td>96</td><td>9</td></tr>",
                            "<tr><td>118</td><td>9</td></tr>",
                            "<tr><td>97</td><td>10</td></tr>",
                            "<tr><td>124</td><td>10</td></tr>",
                            "<tr><td>45</td><td>11</td></tr>",
                            "<tr><td>41</td><td>13</td></tr>",
                            "<tr><td>4</td><td>15</td></tr>",
                            "<tr><td>85</td><td>16</td></tr>",
                            "<tr><td>145</td><td>18</td></tr>",
                            "<tr><td>19</td><td>19</td></tr>",
                            "<tr><td>6</td><td>20</td></tr>",
                            "<tr><td>78</td><td>24</td></tr>",
                            "<tr><td>52</td><td>26</td></tr>",
                            "<tr><td>összeg</td><td>551</td></tr>",
                            "</table>"
                        ]
                    }
                }
            ],
            "execution_count": 29
        },
        {
            "cell_type": "markdown",
            "source": [
                "4. <span style=\"background-color: rgb(255, 255, 255); color: rgb(0, 0, 0); font-family: &quot;Open Sans&quot;, sans-serif; font-size: 14.44px;\">Készítsünk listát az ügyfelek számáról születési év szerint, azon belül nem szerinti bontásban!&nbsp;</span> \n",
                "\n",
                "a. A lista megfelelően jelölve tartalmazza a részösszegeket és a végösszeget is!  \n",
                "b. Az oszlopoknak adjunk nevet értelemszerűen!"
            ],
            "metadata": {
                "azdata_cell_guid": "8e7fef82-8022-49a0-8255-fc2846c2134b"
            },
            "attachments": {}
        },
        {
            "cell_type": "code",
            "source": [
                "SELECT szulev, IIF(GROUPING_ID(NEM)=1, 'összeg', cast(NEM as NVARCHAR(7))) as 'blabla', COUNT(*) as 'blabla'\r\n",
                "FROM Ugyfel\r\n",
                "GROUP by rollup(SZULEV, NEM)\r\n",
                ""
            ],
            "metadata": {
                "azdata_cell_guid": "36f7b396-4a1f-45e5-8720-2302537c91bc",
                "language": "sql"
            },
            "outputs": [
                {
                    "output_type": "display_data",
                    "data": {
                        "text/html": "(96 rows affected)"
                    },
                    "metadata": {}
                },
                {
                    "output_type": "display_data",
                    "data": {
                        "text/html": "Total execution time: 00:00:00.121"
                    },
                    "metadata": {}
                },
                {
                    "output_type": "execute_result",
                    "metadata": {},
                    "execution_count": 33,
                    "data": {
                        "application/vnd.dataresource+json": {
                            "schema": {
                                "fields": [
                                    {
                                        "name": "szulev"
                                    },
                                    {
                                        "name": "blabla"
                                    },
                                    {
                                        "name": "blabla"
                                    }
                                ]
                            },
                            "data": [
                                {
                                    "szulev": "1967",
                                    "blabla": "5"
                                },
                                {
                                    "szulev": "1967",
                                    "blabla": "3"
                                },
                                {
                                    "szulev": "1967",
                                    "blabla": "8"
                                },
                                {
                                    "szulev": "1968",
                                    "blabla": "5"
                                },
                                {
                                    "szulev": "1968",
                                    "blabla": "3"
                                },
                                {
                                    "szulev": "1968",
                                    "blabla": "8"
                                },
                                {
                                    "szulev": "1969",
                                    "blabla": "5"
                                },
                                {
                                    "szulev": "1969",
                                    "blabla": "3"
                                },
                                {
                                    "szulev": "1969",
                                    "blabla": "8"
                                },
                                {
                                    "szulev": "1970",
                                    "blabla": "4"
                                },
                                {
                                    "szulev": "1970",
                                    "blabla": "4"
                                },
                                {
                                    "szulev": "1971",
                                    "blabla": "2"
                                },
                                {
                                    "szulev": "1971",
                                    "blabla": "3"
                                },
                                {
                                    "szulev": "1971",
                                    "blabla": "5"
                                },
                                {
                                    "szulev": "1972",
                                    "blabla": "2"
                                },
                                {
                                    "szulev": "1972",
                                    "blabla": "2"
                                },
                                {
                                    "szulev": "1972",
                                    "blabla": "4"
                                },
                                {
                                    "szulev": "1973",
                                    "blabla": "2"
                                },
                                {
                                    "szulev": "1973",
                                    "blabla": "2"
                                },
                                {
                                    "szulev": "1973",
                                    "blabla": "4"
                                },
                                {
                                    "szulev": "1974",
                                    "blabla": "1"
                                },
                                {
                                    "szulev": "1974",
                                    "blabla": "3"
                                },
                                {
                                    "szulev": "1974",
                                    "blabla": "4"
                                },
                                {
                                    "szulev": "1975",
                                    "blabla": "8"
                                },
                                {
                                    "szulev": "1975",
                                    "blabla": "3"
                                },
                                {
                                    "szulev": "1975",
                                    "blabla": "11"
                                },
                                {
                                    "szulev": "1976",
                                    "blabla": "5"
                                },
                                {
                                    "szulev": "1976",
                                    "blabla": "2"
                                },
                                {
                                    "szulev": "1976",
                                    "blabla": "7"
                                },
                                {
                                    "szulev": "1977",
                                    "blabla": "4"
                                },
                                {
                                    "szulev": "1977",
                                    "blabla": "1"
                                },
                                {
                                    "szulev": "1977",
                                    "blabla": "5"
                                },
                                {
                                    "szulev": "1978",
                                    "blabla": "3"
                                },
                                {
                                    "szulev": "1978",
                                    "blabla": "4"
                                },
                                {
                                    "szulev": "1978",
                                    "blabla": "7"
                                },
                                {
                                    "szulev": "1979",
                                    "blabla": "4"
                                },
                                {
                                    "szulev": "1979",
                                    "blabla": "3"
                                },
                                {
                                    "szulev": "1979",
                                    "blabla": "7"
                                },
                                {
                                    "szulev": "1980",
                                    "blabla": "4"
                                },
                                {
                                    "szulev": "1980",
                                    "blabla": "3"
                                },
                                {
                                    "szulev": "1980",
                                    "blabla": "7"
                                },
                                {
                                    "szulev": "1981",
                                    "blabla": "4"
                                },
                                {
                                    "szulev": "1981",
                                    "blabla": "4"
                                },
                                {
                                    "szulev": "1982",
                                    "blabla": "2"
                                },
                                {
                                    "szulev": "1982",
                                    "blabla": "2"
                                },
                                {
                                    "szulev": "1982",
                                    "blabla": "4"
                                },
                                {
                                    "szulev": "1983",
                                    "blabla": "5"
                                },
                                {
                                    "szulev": "1983",
                                    "blabla": "3"
                                },
                                {
                                    "szulev": "1983",
                                    "blabla": "8"
                                },
                                {
                                    "szulev": "1984",
                                    "blabla": "6"
                                },
                                {
                                    "szulev": "1984",
                                    "blabla": "2"
                                },
                                {
                                    "szulev": "1984",
                                    "blabla": "8"
                                },
                                {
                                    "szulev": "1985",
                                    "blabla": "5"
                                },
                                {
                                    "szulev": "1985",
                                    "blabla": "1"
                                },
                                {
                                    "szulev": "1985",
                                    "blabla": "6"
                                },
                                {
                                    "szulev": "1986",
                                    "blabla": "7"
                                },
                                {
                                    "szulev": "1986",
                                    "blabla": "2"
                                },
                                {
                                    "szulev": "1986",
                                    "blabla": "9"
                                },
                                {
                                    "szulev": "1987",
                                    "blabla": "2"
                                },
                                {
                                    "szulev": "1987",
                                    "blabla": "3"
                                },
                                {
                                    "szulev": "1987",
                                    "blabla": "5"
                                },
                                {
                                    "szulev": "1988",
                                    "blabla": "2"
                                },
                                {
                                    "szulev": "1988",
                                    "blabla": "4"
                                },
                                {
                                    "szulev": "1988",
                                    "blabla": "6"
                                },
                                {
                                    "szulev": "1989",
                                    "blabla": "6"
                                },
                                {
                                    "szulev": "1989",
                                    "blabla": "1"
                                },
                                {
                                    "szulev": "1989",
                                    "blabla": "7"
                                },
                                {
                                    "szulev": "1990",
                                    "blabla": "5"
                                },
                                {
                                    "szulev": "1990",
                                    "blabla": "3"
                                },
                                {
                                    "szulev": "1990",
                                    "blabla": "8"
                                },
                                {
                                    "szulev": "1991",
                                    "blabla": "3"
                                },
                                {
                                    "szulev": "1991",
                                    "blabla": "3"
                                },
                                {
                                    "szulev": "1991",
                                    "blabla": "6"
                                },
                                {
                                    "szulev": "1992",
                                    "blabla": "3"
                                },
                                {
                                    "szulev": "1992",
                                    "blabla": "1"
                                },
                                {
                                    "szulev": "1992",
                                    "blabla": "4"
                                },
                                {
                                    "szulev": "1993",
                                    "blabla": "2"
                                },
                                {
                                    "szulev": "1993",
                                    "blabla": "3"
                                },
                                {
                                    "szulev": "1993",
                                    "blabla": "5"
                                },
                                {
                                    "szulev": "1994",
                                    "blabla": "3"
                                },
                                {
                                    "szulev": "1994",
                                    "blabla": "3"
                                },
                                {
                                    "szulev": "1995",
                                    "blabla": "3"
                                },
                                {
                                    "szulev": "1995",
                                    "blabla": "3"
                                },
                                {
                                    "szulev": "1995",
                                    "blabla": "6"
                                },
                                {
                                    "szulev": "1996",
                                    "blabla": "2"
                                },
                                {
                                    "szulev": "1996",
                                    "blabla": "5"
                                },
                                {
                                    "szulev": "1996",
                                    "blabla": "7"
                                },
                                {
                                    "szulev": "1997",
                                    "blabla": "10"
                                },
                                {
                                    "szulev": "1997",
                                    "blabla": "2"
                                },
                                {
                                    "szulev": "1997",
                                    "blabla": "12"
                                },
                                {
                                    "szulev": "1998",
                                    "blabla": "1"
                                },
                                {
                                    "szulev": "1998",
                                    "blabla": "1"
                                },
                                {
                                    "szulev": "1998",
                                    "blabla": "2"
                                },
                                {
                                    "szulev": "2000",
                                    "blabla": "1"
                                },
                                {
                                    "szulev": "2000",
                                    "blabla": "1"
                                },
                                {
                                    "szulev": "NULL",
                                    "blabla": "200"
                                }
                            ]
                        },
                        "text/html": [
                            "<table>",
                            "<tr><th>szulev</th><th>blabla</th><th>blabla</th></tr>",
                            "<tr><td>1967</td><td>F</td><td>5</td></tr>",
                            "<tr><td>1967</td><td>N</td><td>3</td></tr>",
                            "<tr><td>1967</td><td>összeg</td><td>8</td></tr>",
                            "<tr><td>1968</td><td>F</td><td>5</td></tr>",
                            "<tr><td>1968</td><td>N</td><td>3</td></tr>",
                            "<tr><td>1968</td><td>összeg</td><td>8</td></tr>",
                            "<tr><td>1969</td><td>F</td><td>5</td></tr>",
                            "<tr><td>1969</td><td>N</td><td>3</td></tr>",
                            "<tr><td>1969</td><td>összeg</td><td>8</td></tr>",
                            "<tr><td>1970</td><td>F</td><td>4</td></tr>",
                            "<tr><td>1970</td><td>összeg</td><td>4</td></tr>",
                            "<tr><td>1971</td><td>F</td><td>2</td></tr>",
                            "<tr><td>1971</td><td>N</td><td>3</td></tr>",
                            "<tr><td>1971</td><td>összeg</td><td>5</td></tr>",
                            "<tr><td>1972</td><td>F</td><td>2</td></tr>",
                            "<tr><td>1972</td><td>N</td><td>2</td></tr>",
                            "<tr><td>1972</td><td>összeg</td><td>4</td></tr>",
                            "<tr><td>1973</td><td>F</td><td>2</td></tr>",
                            "<tr><td>1973</td><td>N</td><td>2</td></tr>",
                            "<tr><td>1973</td><td>összeg</td><td>4</td></tr>",
                            "<tr><td>1974</td><td>F</td><td>1</td></tr>",
                            "<tr><td>1974</td><td>N</td><td>3</td></tr>",
                            "<tr><td>1974</td><td>összeg</td><td>4</td></tr>",
                            "<tr><td>1975</td><td>F</td><td>8</td></tr>",
                            "<tr><td>1975</td><td>N</td><td>3</td></tr>",
                            "<tr><td>1975</td><td>összeg</td><td>11</td></tr>",
                            "<tr><td>1976</td><td>F</td><td>5</td></tr>",
                            "<tr><td>1976</td><td>N</td><td>2</td></tr>",
                            "<tr><td>1976</td><td>összeg</td><td>7</td></tr>",
                            "<tr><td>1977</td><td>F</td><td>4</td></tr>",
                            "<tr><td>1977</td><td>N</td><td>1</td></tr>",
                            "<tr><td>1977</td><td>összeg</td><td>5</td></tr>",
                            "<tr><td>1978</td><td>F</td><td>3</td></tr>",
                            "<tr><td>1978</td><td>N</td><td>4</td></tr>",
                            "<tr><td>1978</td><td>összeg</td><td>7</td></tr>",
                            "<tr><td>1979</td><td>F</td><td>4</td></tr>",
                            "<tr><td>1979</td><td>N</td><td>3</td></tr>",
                            "<tr><td>1979</td><td>összeg</td><td>7</td></tr>",
                            "<tr><td>1980</td><td>F</td><td>4</td></tr>",
                            "<tr><td>1980</td><td>N</td><td>3</td></tr>",
                            "<tr><td>1980</td><td>összeg</td><td>7</td></tr>",
                            "<tr><td>1981</td><td>N</td><td>4</td></tr>",
                            "<tr><td>1981</td><td>összeg</td><td>4</td></tr>",
                            "<tr><td>1982</td><td>F</td><td>2</td></tr>",
                            "<tr><td>1982</td><td>N</td><td>2</td></tr>",
                            "<tr><td>1982</td><td>összeg</td><td>4</td></tr>",
                            "<tr><td>1983</td><td>F</td><td>5</td></tr>",
                            "<tr><td>1983</td><td>N</td><td>3</td></tr>",
                            "<tr><td>1983</td><td>összeg</td><td>8</td></tr>",
                            "<tr><td>1984</td><td>F</td><td>6</td></tr>",
                            "<tr><td>1984</td><td>N</td><td>2</td></tr>",
                            "<tr><td>1984</td><td>összeg</td><td>8</td></tr>",
                            "<tr><td>1985</td><td>F</td><td>5</td></tr>",
                            "<tr><td>1985</td><td>N</td><td>1</td></tr>",
                            "<tr><td>1985</td><td>összeg</td><td>6</td></tr>",
                            "<tr><td>1986</td><td>F</td><td>7</td></tr>",
                            "<tr><td>1986</td><td>N</td><td>2</td></tr>",
                            "<tr><td>1986</td><td>összeg</td><td>9</td></tr>",
                            "<tr><td>1987</td><td>F</td><td>2</td></tr>",
                            "<tr><td>1987</td><td>N</td><td>3</td></tr>",
                            "<tr><td>1987</td><td>összeg</td><td>5</td></tr>",
                            "<tr><td>1988</td><td>F</td><td>2</td></tr>",
                            "<tr><td>1988</td><td>N</td><td>4</td></tr>",
                            "<tr><td>1988</td><td>összeg</td><td>6</td></tr>",
                            "<tr><td>1989</td><td>F</td><td>6</td></tr>",
                            "<tr><td>1989</td><td>N</td><td>1</td></tr>",
                            "<tr><td>1989</td><td>összeg</td><td>7</td></tr>",
                            "<tr><td>1990</td><td>F</td><td>5</td></tr>",
                            "<tr><td>1990</td><td>N</td><td>3</td></tr>",
                            "<tr><td>1990</td><td>összeg</td><td>8</td></tr>",
                            "<tr><td>1991</td><td>F</td><td>3</td></tr>",
                            "<tr><td>1991</td><td>N</td><td>3</td></tr>",
                            "<tr><td>1991</td><td>összeg</td><td>6</td></tr>",
                            "<tr><td>1992</td><td>F</td><td>3</td></tr>",
                            "<tr><td>1992</td><td>N</td><td>1</td></tr>",
                            "<tr><td>1992</td><td>összeg</td><td>4</td></tr>",
                            "<tr><td>1993</td><td>F</td><td>2</td></tr>",
                            "<tr><td>1993</td><td>N</td><td>3</td></tr>",
                            "<tr><td>1993</td><td>összeg</td><td>5</td></tr>",
                            "<tr><td>1994</td><td>N</td><td>3</td></tr>",
                            "<tr><td>1994</td><td>összeg</td><td>3</td></tr>",
                            "<tr><td>1995</td><td>F</td><td>3</td></tr>",
                            "<tr><td>1995</td><td>N</td><td>3</td></tr>",
                            "<tr><td>1995</td><td>összeg</td><td>6</td></tr>",
                            "<tr><td>1996</td><td>F</td><td>2</td></tr>",
                            "<tr><td>1996</td><td>N</td><td>5</td></tr>",
                            "<tr><td>1996</td><td>összeg</td><td>7</td></tr>",
                            "<tr><td>1997</td><td>F</td><td>10</td></tr>",
                            "<tr><td>1997</td><td>N</td><td>2</td></tr>",
                            "<tr><td>1997</td><td>összeg</td><td>12</td></tr>",
                            "<tr><td>1998</td><td>F</td><td>1</td></tr>",
                            "<tr><td>1998</td><td>N</td><td>1</td></tr>",
                            "<tr><td>1998</td><td>összeg</td><td>2</td></tr>",
                            "<tr><td>2000</td><td>F</td><td>1</td></tr>",
                            "<tr><td>2000</td><td>összeg</td><td>1</td></tr>",
                            "<tr><td>NULL</td><td>összeg</td><td>200</td></tr>",
                            "</table>"
                        ]
                    }
                }
            ],
            "execution_count": 33
        },
        {
            "cell_type": "markdown",
            "source": [
                "5. <span style=\"background-color: rgb(255, 255, 255); color: rgb(0, 0, 0); font-family: &quot;Open Sans&quot;, sans-serif; font-size: 14.44px;\">Készítsünk listát a termékek számáról a felvitel hónapja, azon belül napja szerint csoportosítva.&nbsp;</span> \n",
                "\n",
                "a. A lista csak a részösszegeket és a végösszeget tartalmazza!  \n",
                "b. Az oszlopoknak adjunk megfelelő nevet!  \n",
                "c. Ötlet: HAVING + GROUPING\\_ID fv együttes használata"
            ],
            "metadata": {
                "azdata_cell_guid": "84239ca2-6b5e-49f5-9860-d44c11d6de32"
            },
            "attachments": {}
        },
        {
            "cell_type": "code",
            "source": [
                "SELECT MONTH(FELVITEL) as 'hónap', iif(GROUPING_ID(DAY(FELVITEL))=1, 'összeg', CAST(DAY(FELVITEL) as NVARCHAR(7))) as 'nap', COUNT(*)\r\n",
                "FROM Termek\r\n",
                "GROUP BY rollup(MONTH(FELVITEL), DAY(FELVITEL))\r\n",
                "HAVING GROUPING_ID(DAY(FELVITEL))=1"
            ],
            "metadata": {
                "azdata_cell_guid": "06d9a62b-9430-424b-a135-d80e675f0eb3",
                "language": "sql"
            },
            "outputs": [
                {
                    "output_type": "display_data",
                    "data": {
                        "text/html": "(5 rows affected)"
                    },
                    "metadata": {}
                },
                {
                    "output_type": "display_data",
                    "data": {
                        "text/html": "Total execution time: 00:00:00.038"
                    },
                    "metadata": {}
                },
                {
                    "output_type": "execute_result",
                    "metadata": {},
                    "execution_count": 41,
                    "data": {
                        "application/vnd.dataresource+json": {
                            "schema": {
                                "fields": [
                                    {
                                        "name": "hónap"
                                    },
                                    {
                                        "name": "nap"
                                    },
                                    {
                                        "name": "(No column name)"
                                    }
                                ]
                            },
                            "data": [
                                {
                                    "hónap": "7",
                                    "nap": "összeg",
                                    "(No column name)": "355"
                                },
                                {
                                    "hónap": "8",
                                    "nap": "összeg",
                                    "(No column name)": "194"
                                },
                                {
                                    "hónap": "9",
                                    "nap": "összeg",
                                    "(No column name)": "1"
                                },
                                {
                                    "hónap": "12",
                                    "nap": "összeg",
                                    "(No column name)": "1"
                                },
                                {
                                    "hónap": "NULL",
                                    "nap": "összeg",
                                    "(No column name)": "551"
                                }
                            ]
                        },
                        "text/html": [
                            "<table>",
                            "<tr><th>hónap</th><th>nap</th><th>(No column name)</th></tr>",
                            "<tr><td>7</td><td>összeg</td><td>355</td></tr>",
                            "<tr><td>8</td><td>összeg</td><td>194</td></tr>",
                            "<tr><td>9</td><td>összeg</td><td>1</td></tr>",
                            "<tr><td>12</td><td>összeg</td><td>1</td></tr>",
                            "<tr><td>NULL</td><td>összeg</td><td>551</td></tr>",
                            "</table>"
                        ]
                    }
                }
            ],
            "execution_count": 41
        }
    ]
}